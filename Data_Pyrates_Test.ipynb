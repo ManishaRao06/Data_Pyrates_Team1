{
 "cells": [
  {
   "cell_type": "markdown",
   "id": "d0c2fa50",
   "metadata": {},
   "source": [
    "## IMPORT LIBRARY AND LOAD DATASET\n"
   ]
  },
  {
   "cell_type": "markdown",
   "id": "c36e180b",
   "metadata": {},
   "source": [
    "### Step-1 Install Libraries"
   ]
  },
  {
   "cell_type": "code",
   "execution_count": 2,
   "id": "271e1505",
   "metadata": {},
   "outputs": [],
   "source": [
    "# pip install panda\n",
    "# pip install matplotlib\n",
    "# pip install numpy\n",
    "# pip install seaborn\n",
    "# pip install colorama"
   ]
  },
  {
   "cell_type": "code",
   "execution_count": 5,
   "id": "257a226d",
   "metadata": {},
   "outputs": [],
   "source": [
    "import pandas as pd\n",
    "import numpy as np\n",
    "import seaborn as sns\n",
    "import matplotlib.pyplot as plt\n",
    "import matplotlib.pyplot as plt\n",
    "from matplotlib.gridspec import GridSpec\n",
    "import warnings\n",
    "warnings.filterwarnings('ignore')"
   ]
  },
  {
   "cell_type": "markdown",
   "id": "b9efee2f",
   "metadata": {},
   "source": [
    "### Step-2 Reading the Excel files,converting to Dataframe"
   ]
  },
  {
   "cell_type": "code",
   "execution_count": null,
   "id": "17143716",
   "metadata": {},
   "outputs": [],
   "source": []
  }
 ],
 "metadata": {
  "kernelspec": {
   "display_name": "Python 3 (ipykernel)",
   "language": "python",
   "name": "python3"
  },
  "language_info": {
   "codemirror_mode": {
    "name": "ipython",
    "version": 3
   },
   "file_extension": ".py",
   "mimetype": "text/x-python",
   "name": "python",
   "nbconvert_exporter": "python",
   "pygments_lexer": "ipython3",
   "version": "3.9.12"
  }
 },
 "nbformat": 4,
 "nbformat_minor": 5
}
