{
 "cells": [
  {
   "cell_type": "markdown",
   "id": "a3c476b1",
   "metadata": {},
   "source": [
    "# Data_Pyrates_Solutions ( 21- 40)"
   ]
  },
  {
   "cell_type": "code",
   "execution_count": 3,
   "id": "9ec82e8f",
   "metadata": {},
   "outputs": [],
   "source": [
    "#import libraries\n",
    "\n",
    "import numpy as np # linear algebra\n",
    "import pandas as pd # data processing, CSV file I/O (e.g. pd.read_csv)\n",
    "import matplotlib.pyplot as plt\n",
    "import seaborn as sns #for visualisation"
   ]
  },
  {
   "cell_type": "code",
   "execution_count": null,
   "id": "41e4708a",
   "metadata": {},
   "outputs": [],
   "source": [
    "Q21. Which reason of visit has maximum mortality rate."
   ]
  },
  {
   "cell_type": "code",
   "execution_count": 40,
   "id": "dc39fa5a",
   "metadata": {},
   "outputs": [
    {
     "name": "stdout",
     "output_type": "stream",
     "text": [
      "Maximum Mortality :\n",
      "0.9899452598970535\n",
      "\n",
      "'Reason for visit' which shows maximum mortality rate : \n"
     ]
    }
   ],
   "source": [
    "# Which reason of visit has maximum mortality rate.\n",
    "\n",
    "#Loading a excel file into a DataFrame\n",
    "df =pd.read_excel(\"HospitalDatabase.xlsx\",\"Discharges\")\n",
    "#print(\"\\nReason for Visists\")\n",
    "#df1 = pd.DataFrame(df[\"PrimaryDiagnosis\"])\n",
    "#print(df1)\n",
    "m = df[\"ExpectedMortality\"].max()\n",
    "print(\"Maximum Mortality :\")\n",
    "print(m)\n",
    "print(\"\\n'Reason for visit' which shows maximum mortality rate : \")\n",
    "\n",
    "#print(df.where(df[\"ExpectedMortality\"] == m))\n",
    "\n",
    "\n",
    "    \n",
    "    \n"
   ]
  },
  {
   "cell_type": "markdown",
   "id": "2a646a82",
   "metadata": {},
   "source": [
    "####Q22\tDisplay the average LOS based on Service and Discharge Disposition(Maintain the column Hierarchy)"
   ]
  },
  {
   "cell_type": "code",
   "execution_count": null,
   "id": "3f5be50c",
   "metadata": {},
   "outputs": [],
   "source": []
  },
  {
   "cell_type": "markdown",
   "id": "a2089882",
   "metadata": {},
   "source": [
    "#### Q23\tAdd column 'Age' in Patient table."
   ]
  },
  {
   "cell_type": "code",
   "execution_count": 67,
   "id": "0f43dc79",
   "metadata": {},
   "outputs": [
    {
     "name": "stdout",
     "output_type": "stream",
     "text": [
      "     PatientID FirstName  LastName             DateOfBirth Gender  \\\n",
      "0            1     Lanni       Sue 1960-01-01 00:00:00.000   Male   \n",
      "1            2       Far     Myers 1985-11-15 02:08:42.090   Male   \n",
      "2            3   Devlin    Michael 1976-04-15 02:52:09.762   Male   \n",
      "3            4   Carmine     Texas 1968-10-15 03:32:13.635   Male   \n",
      "4            5     Tann       Bama 1962-05-01 19:12:58.950   Male   \n",
      "..         ...       ...       ...                     ...    ...   \n",
      "940        941       Wat   Fideler 1986-05-26 00:01:19.761   Male   \n",
      "941        942    Wandie  Baythrop 1970-06-10 21:41:03.814   Male   \n",
      "942        943   Diahann   Smeeton 1983-01-08 21:49:27.884   Male   \n",
      "943        944  Panchito   Sharple 1963-06-05 07:57:05.569   Male   \n",
      "944        945     Walsh    Calvie 1972-08-06 03:40:03.454   Male   \n",
      "\n",
      "                       Race Language   Age  \n",
      "0                     White  English  True  \n",
      "1                     White  English  True  \n",
      "2                     White  English  True  \n",
      "3                     White  English  True  \n",
      "4                     White  English  True  \n",
      "..                      ...      ...   ...  \n",
      "940  Black/African-American  English  True  \n",
      "941  Black/African-American  English  True  \n",
      "942  Black/African-American  English  True  \n",
      "943  Black/African-American  English  True  \n",
      "944  Black/African-American  English  True  \n",
      "\n",
      "[945 rows x 8 columns]\n"
     ]
    }
   ],
   "source": [
    "df =pd.read_excel(\"HospitalDatabase.xlsx\",\"Patients\")\n",
    "df.head()\n",
    "# Using DataFrame.insert() to add a column\n",
    "df.insert(7,\"Age\",True)\n",
    "print(df)"
   ]
  },
  {
   "cell_type": "markdown",
   "id": "b599ee12",
   "metadata": {},
   "source": [
    "#### 24\tUsing arrays and loops, find the count of patients based on gender.\n"
   ]
  },
  {
   "cell_type": "code",
   "execution_count": null,
   "id": "eabb7b83",
   "metadata": {},
   "outputs": [],
   "source": []
  },
  {
   "cell_type": "markdown",
   "id": "e3458e48",
   "metadata": {},
   "source": [
    "#### 25\tCreate bins to segregate Patients with 'Mild Hypertension','Moderate ','High Hypertension','Severe Hypertension'. Create a new column to show your analysis.  \n"
   ]
  },
  {
   "cell_type": "markdown",
   "id": "2c2d2812",
   "metadata": {},
   "source": [
    "#### 26\tPlot a graph to show the distribution of expected mortality.\n"
   ]
  },
  {
   "cell_type": "markdown",
   "id": "df959a9d",
   "metadata": {},
   "source": [
    "#### 27\tWhich departmentID has maximum number of visits scheduled.\n"
   ]
  },
  {
   "cell_type": "markdown",
   "id": "80998965",
   "metadata": {},
   "source": [
    "#### 28\tFind the visit type with maximum 'No Show'.\n"
   ]
  },
  {
   "cell_type": "markdown",
   "id": "f4b525e3",
   "metadata": {},
   "source": [
    "#### 29\tWhich demographic patients are prone to get stroke?\n"
   ]
  },
  {
   "cell_type": "markdown",
   "id": "b0e62c9f",
   "metadata": {},
   "source": [
    "#### 30\tUsing loc , get the details of the providers where providerId is between 11 and 20 and ProviderSpecialty is Surgery.\n"
   ]
  },
  {
   "cell_type": "markdown",
   "id": "28170a08",
   "metadata": {},
   "source": [
    "#### 31\tIf patient's gender is Female, add Ms.to the name and for male patients add Mr. to the name.\n"
   ]
  },
  {
   "cell_type": "markdown",
   "id": "f0036ea8",
   "metadata": {},
   "source": [
    "#### 32\tCreate a pie chart by taking Service= [\"ICU\", \"Neurology\", \"General\", \"Medicine\"] & ExpectedLOS=[10,5,7,9] & explode the wedge with highest LOS.\n"
   ]
  },
  {
   "cell_type": "markdown",
   "id": "4ebf9823",
   "metadata": {},
   "source": [
    "#### 33\tPlot a graph to show the distribution of expected length of stay.\n"
   ]
  },
  {
   "cell_type": "markdown",
   "id": "21c46672",
   "metadata": {},
   "source": [
    "#### 34\tCreate a WordCloud Chart with Reason For Visit.\n"
   ]
  },
  {
   "cell_type": "markdown",
   "id": "fb1b4136",
   "metadata": {},
   "source": [
    "#### 35\tnp.arange(1,31).reshape(6,5), find array slicing to get the elements 4,5,24,25,29,30. When the value is less than 6, print as -1,else print 99.\n"
   ]
  },
  {
   "cell_type": "markdown",
   "id": "b213107a",
   "metadata": {},
   "source": [
    "#### 36\tRetrieve the count of patients who are prone to hypertension crisis. (SBP>180 & DBP>120)\n"
   ]
  },
  {
   "cell_type": "markdown",
   "id": "b6bad1d9",
   "metadata": {},
   "source": [
    "#### 37\tDisplay the data where actual LOS is greater than expected LOS.\n"
   ]
  },
  {
   "cell_type": "markdown",
   "id": "9cc0ae8b",
   "metadata": {},
   "source": [
    "#### 38\tUsing loc, retrieve the firstname and lastname of patients between indices 101 and 200.\n"
   ]
  },
  {
   "cell_type": "markdown",
   "id": "b6a6f866",
   "metadata": {},
   "source": [
    "#### 39\tDelete the column 'DischargeDispostion' iteratively.\n"
   ]
  },
  {
   "cell_type": "markdown",
   "id": "956a9b4d",
   "metadata": {},
   "source": [
    "#### 40\tCreate a jointplot on expected mortality & expected length of stay."
   ]
  }
 ],
 "metadata": {
  "kernelspec": {
   "display_name": "Python 3 (ipykernel)",
   "language": "python",
   "name": "python3"
  },
  "language_info": {
   "codemirror_mode": {
    "name": "ipython",
    "version": 3
   },
   "file_extension": ".py",
   "mimetype": "text/x-python",
   "name": "python",
   "nbconvert_exporter": "python",
   "pygments_lexer": "ipython3",
   "version": "3.10.9"
  }
 },
 "nbformat": 4,
 "nbformat_minor": 5
}
