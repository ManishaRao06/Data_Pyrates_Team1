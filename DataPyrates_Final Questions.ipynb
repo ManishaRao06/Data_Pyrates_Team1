{
 "cells": [
  {
   "cell_type": "markdown",
   "id": "2fe4889d",
   "metadata": {},
   "source": [
    "<div class=\"alert alert-block alert-warning\"><p><h1><center>Data Pyrates (Team 1)</center></h1> </p></div>\n",
    "\n",
    "\n"
   ]
  },
  {
   "cell_type": "markdown",
   "id": "a8a7b222",
   "metadata": {},
   "source": [
    "<font color=orange>**Python Hackathon April 2023**</center></font>"
   ]
  },
  {
   "cell_type": "markdown",
   "id": "f94c02ab",
   "metadata": {},
   "source": [
    "- [x] GitHub\n",
    "- [x] Agile\n",
    "- [x] Extra Questions and Insights\n"
   ]
  },
  {
   "cell_type": "markdown",
   "id": "f5499081",
   "metadata": {},
   "source": [
    "### IMPORT LIBRARY AND LOAD DATASET\n"
   ]
  },
  {
   "cell_type": "markdown",
   "id": "e32bce6f",
   "metadata": {},
   "source": [
    "### Package installation"
   ]
  },
  {
   "cell_type": "code",
   "execution_count": 2,
   "id": "4d9ca8f1",
   "metadata": {},
   "outputs": [],
   "source": [
    "# pip install panda\n",
    "# pip install matplotlib\n",
    "# pip install numpy\n",
    "# pip install seaborn\n",
    "# pip install colorama"
   ]
  },
  {
   "cell_type": "code",
   "execution_count": 3,
   "id": "cde73574",
   "metadata": {},
   "outputs": [],
   "source": [
    "import pandas as pd\n",
    "import numpy as np\n",
    "import seaborn as sns\n",
    "import matplotlib.pyplot as plt\n",
    "from matplotlib.gridspec import GridSpec\n",
    "import warnings\n",
    "warnings.filterwarnings('ignore')"
   ]
  },
  {
   "cell_type": "markdown",
   "id": "375403cf",
   "metadata": {},
   "source": [
    "### Loading the dataset in the pandas dataframe"
   ]
  },
  {
   "cell_type": "code",
   "execution_count": 4,
   "id": "2d9175eb",
   "metadata": {},
   "outputs": [],
   "source": [
    "df = pd.read_excel(\"HospitalDatabase.xlsx\")\n",
    "df_PA = pd.read_excel(\"HospitalDatabase.xlsx\", sheet_name = \"Patients\")\n",
    "df_ED = pd.read_excel(\"HospitalDatabase.xlsx\", sheet_name = \"EDVisits\")\n",
    "df_AmbV = pd.read_excel(\"HospitalDatabase.xlsx\", sheet_name = \"AmbulatoryVisits\")\n",
    "df_ReAd = pd.read_excel(\"HospitalDatabase.xlsx\", sheet_name = \"ReAdmissionRegistry\")\n",
    "df_Dis = pd.read_excel(\"HospitalDatabase.xlsx\", sheet_name = \"Discharges\")\n",
    "df_Pro = pd.read_excel(\"HospitalDatabase.xlsx\", sheet_name = \"Providers\")\n",
    "df_EDU = pd.read_excel(\"HospitalDatabase.xlsx\", sheet_name = \"EDUnique\")\n"
   ]
  },
  {
   "cell_type": "markdown",
   "id": "1d527faf",
   "metadata": {},
   "source": [
    "### EDA: info(), describe(), null values, missing, valid data, unique "
   ]
  },
  {
   "cell_type": "code",
   "execution_count": null,
   "id": "61b3cbc4",
   "metadata": {},
   "outputs": [],
   "source": []
  },
  {
   "cell_type": "code",
   "execution_count": null,
   "id": "8ecec17e",
   "metadata": {},
   "outputs": [],
   "source": []
  },
  {
   "cell_type": "code",
   "execution_count": null,
   "id": "47c182db",
   "metadata": {},
   "outputs": [],
   "source": []
  }
 ],
 "metadata": {
  "kernelspec": {
   "display_name": "Python 3 (ipykernel)",
   "language": "python",
   "name": "python3"
  },
  "language_info": {
   "codemirror_mode": {
    "name": "ipython",
    "version": 3
   },
   "file_extension": ".py",
   "mimetype": "text/x-python",
   "name": "python",
   "nbconvert_exporter": "python",
   "pygments_lexer": "ipython3",
   "version": "3.9.12"
  }
 },
 "nbformat": 4,
 "nbformat_minor": 5
}
