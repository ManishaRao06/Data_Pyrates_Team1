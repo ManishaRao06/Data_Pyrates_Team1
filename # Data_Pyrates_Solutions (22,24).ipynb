{
 "cells": [
  {
   "cell_type": "code",
   "execution_count": null,
   "id": "331bbcf6",
   "metadata": {},
   "outputs": [],
   "source": [
    "#Pyhton Tutorial\n",
    "# Data_Pyrates_Solutions (updated  22,24)"
   ]
  },
  {
   "cell_type": "code",
   "execution_count": 2,
   "id": "214064a6",
   "metadata": {},
   "outputs": [],
   "source": [
    "#import libraries\n",
    "\n",
    "import numpy as np # linear algebra\n",
    "import pandas as pd # data processing, CSV file I/O (e.g. pd.read_csv)\n",
    "import matplotlib.pyplot as plt\n",
    "import seaborn as sns #for visualisation"
   ]
  },
  {
   "cell_type": "markdown",
   "id": "70811295",
   "metadata": {},
   "source": [
    "#### Q22\tDisplay the average LOS based on Service and Discharge Disposition(Maintain the column Hierarchy)"
   ]
  },
  {
   "cell_type": "code",
   "execution_count": 24,
   "id": "c4b5f416",
   "metadata": {},
   "outputs": [
    {
     "name": "stdout",
     "output_type": "stream",
     "text": [
      "Average LOS based on Service:\n",
      "\n",
      "            Service    Average\n",
      "0        Cardiology  12.231596\n",
      "1               ICU  12.656630\n",
      "2         Neurology  11.195596\n",
      "3       Hospitalist   7.818382\n",
      "4      Orthopeadics   3.586373\n",
      "5  General Medicine   6.090473\n",
      "\n",
      "Average LOS based on DischargeDisposition:\n",
      "\n",
      "  DischargeDisposition   Average\n",
      "0              Expired  8.387274\n",
      "1                 Home  8.864248\n",
      "2             Transfer  8.864248\n"
     ]
    }
   ],
   "source": [
    "#Loading a excel file into a DataFrame\n",
    "df =pd.read_excel(\"HospitalDatabase.xlsx\",\"Discharges\")\n",
    "\n",
    "g1 = df.groupby(\"Service\")\n",
    "\n",
    "\n",
    "icu = g1.get_group('ICU')\n",
    "neurology = g1.get_group('Neurology')\n",
    "hospitalist = g1.get_group('Hospitalist')\n",
    "orthopeadics = g1.get_group('Orthopeadics')\n",
    "cardiology = g1.get_group('Cardiology')\n",
    "general_medicine = g1.get_group('General Medicine')\n",
    "\n",
    "\n",
    "\n",
    "\n",
    "Nuerology_Loc_mean = neurology['ExpectedLOS'].mean()\n",
    "Hospitalist_Loc_mean = hospitalist['ExpectedLOS'].mean()\n",
    "Orthopeadics_Loc_mean = orthopeadics['ExpectedLOS'].mean()\n",
    "Cardiology_Loc_mean = cardiology['ExpectedLOS'].mean()\n",
    "General_Medicine_Loc_mean = general_medicine['ExpectedLOS'].mean()\n",
    "Icu_Loc_mean = icu['ExpectedLOS'].mean()\n",
    "\n",
    "\n",
    "g2 = df.groupby(\"DischargeDisposition\")\n",
    "\n",
    "expired = g2.get_group('Expired')\n",
    "home = g2.get_group('Home')\n",
    "transfer = g2.get_group('Transfer')\n",
    "\n",
    "\n",
    "Expired_Loc_mean = expired['ExpectedLOS'].mean()\n",
    "Home_Loc_mean = home['ExpectedLOS'].mean()\n",
    "Home_Loc_mean = transfer['ExpectedLOS'].mean()\n",
    "\n",
    "\n",
    "data1 = {\n",
    "  \"Service\": [\"Cardiology\",\"ICU\",\"Neurology\",\"Hospitalist\",\"Orthopeadics\",\"General Medicine\"],\n",
    "  \"Average\": [Cardiology_Loc_mean,Icu_Loc_mean,Nuerology_Loc_mean ,Hospitalist_Loc_mean ,Orthopeadics_Loc_mean,General_Medicine_Loc_mean]\n",
    "}\n",
    "\n",
    "df1 = pd.DataFrame(data1)\n",
    "print(\"Average LOS based on Service:\\n\") \n",
    "print(df1)\n",
    "\n",
    "data2 = {\n",
    "  \"DischargeDisposition\": [\"Expired\",\"Home\",\"Transfer\"],\n",
    "  \"Average\": [Expired_Loc_mean,Home_Loc_mean,Home_Loc_mean]\n",
    "}\n",
    "\n",
    "df2 = pd.DataFrame(data2)\n",
    "print(\"\\nAverage LOS based on DischargeDisposition:\\n\") \n",
    "print(df2)\n"
   ]
  },
  {
   "cell_type": "markdown",
   "id": "c9658fab",
   "metadata": {},
   "source": [
    "#### Q23\tAdd column 'Age' in Patient table."
   ]
  },
  {
   "cell_type": "code",
   "execution_count": 22,
   "id": "4d7817f8",
   "metadata": {},
   "outputs": [
    {
     "name": "stdout",
     "output_type": "stream",
     "text": [
      "   PatientID FirstName LastName             DateOfBirth Gender   Race  \\\n",
      "0          1     Lanni      Sue 1960-01-01 00:00:00.000   Male  White   \n",
      "1          2       Far    Myers 1985-11-15 02:08:42.090   Male  White   \n",
      "2          3   Devlin   Michael 1976-04-15 02:52:09.762   Male  White   \n",
      "3          4   Carmine    Texas 1968-10-15 03:32:13.635   Male  White   \n",
      "4          5     Tann      Bama 1962-05-01 19:12:58.950   Male  White   \n",
      "\n",
      "  Language  Age  \n",
      "0  English   63  \n",
      "1  English   37  \n",
      "2  English   46  \n",
      "3  English   54  \n",
      "4  English   60  \n"
     ]
    }
   ],
   "source": [
    "import datetime as DT\n",
    "import io\n",
    "\n",
    "df =pd.read_excel(\"HospitalDatabase.xlsx\",\"Patients\")\n",
    "# Using DataFrame.insert() to add a column\n",
    "now = pd.Timestamp('now')\n",
    "df.insert(7,\"Age\",(now - df['DateOfBirth']).astype('<m8[Y]'))\n",
    "df['Age'] = df['Age'].astype('int64')\n",
    "print(df.head())"
   ]
  },
  {
   "cell_type": "code",
   "execution_count": null,
   "id": "ba82c5dd",
   "metadata": {},
   "outputs": [],
   "source": []
  }
 ],
 "metadata": {
  "kernelspec": {
   "display_name": "Python 3 (ipykernel)",
   "language": "python",
   "name": "python3"
  },
  "language_info": {
   "codemirror_mode": {
    "name": "ipython",
    "version": 3
   },
   "file_extension": ".py",
   "mimetype": "text/x-python",
   "name": "python",
   "nbconvert_exporter": "python",
   "pygments_lexer": "ipython3",
   "version": "3.10.9"
  }
 },
 "nbformat": 4,
 "nbformat_minor": 5
}
