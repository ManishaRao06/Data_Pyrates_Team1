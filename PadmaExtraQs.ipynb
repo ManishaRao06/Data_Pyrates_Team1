{
 "cells": [
  {
   "cell_type": "code",
   "execution_count": 1,
   "id": "cfee6e32",
   "metadata": {},
   "outputs": [],
   "source": [
    "#pip install panda\n",
    "#pip install matplotlib\n",
    "#pip install numpy\n",
    "#pip install seaborn\n",
    "#pip install colorama\n"
   ]
  },
  {
   "cell_type": "code",
   "execution_count": 2,
   "id": "3e286cb5",
   "metadata": {},
   "outputs": [],
   "source": [
    "import pandas as pd\n",
    "import numpy as np\n",
    "import seaborn as sns\n",
    "import matplotlib.pyplot as plt\n",
    "from matplotlib.gridspec import GridSpec\n",
    "import warnings\n",
    "warnings.filterwarnings('ignore')"
   ]
  },
  {
   "cell_type": "code",
   "execution_count": 3,
   "id": "ca7cb339",
   "metadata": {},
   "outputs": [],
   "source": [
    "df = pd.read_excel(\"HospitalDatabase.xlsx\")\n",
    "df_PA = pd.read_excel(\"HospitalDatabase.xlsx\", sheet_name = \"Patients\")\n",
    "df_ED = pd.read_excel(\"HospitalDatabase.xlsx\", sheet_name = \"EDVisits\")\n",
    "df_AmbV = pd.read_excel(\"HospitalDatabase.xlsx\", sheet_name =\"AmbulatoryVisits\")\n",
    "df_ReAd = pd.read_excel(\"HospitalDatabase.xlsx\", sheet_name = \"ReAdmissionRegistry\")\n",
    "df_Dis = pd.read_excel(\"HospitalDatabase.xlsx\", sheet_name = \"Discharges\")\n",
    "df_Pro = pd.read_excel(\"HospitalDatabase.xlsx\", sheet_name = \"Providers\")\n",
    "df_EDU = pd.read_excel(\"HospitalDatabase.xlsx\", sheet_name = \"EDUnique\")\n",
    "\n"
   ]
  },
  {
   "cell_type": "code",
   "execution_count": 5,
   "id": "150a44a2",
   "metadata": {
    "scrolled": true
   },
   "outputs": [
    {
     "data": {
      "text/html": [
       "<div>\n",
       "<style scoped>\n",
       "    .dataframe tbody tr th:only-of-type {\n",
       "        vertical-align: middle;\n",
       "    }\n",
       "\n",
       "    .dataframe tbody tr th {\n",
       "        vertical-align: top;\n",
       "    }\n",
       "\n",
       "    .dataframe thead th {\n",
       "        text-align: right;\n",
       "    }\n",
       "</style>\n",
       "<table border=\"1\" class=\"dataframe\">\n",
       "  <thead>\n",
       "    <tr style=\"text-align: right;\">\n",
       "      <th></th>\n",
       "      <th>ProviderName</th>\n",
       "      <th>VisitType</th>\n",
       "    </tr>\n",
       "  </thead>\n",
       "  <tbody>\n",
       "    <tr>\n",
       "      <th>0</th>\n",
       "      <td>Ala Bama</td>\n",
       "      <td>Telemedicine</td>\n",
       "    </tr>\n",
       "    <tr>\n",
       "      <th>1</th>\n",
       "      <td>Barry Bar</td>\n",
       "      <td>Telemedicine</td>\n",
       "    </tr>\n",
       "    <tr>\n",
       "      <th>2</th>\n",
       "      <td>Harry Kane</td>\n",
       "      <td>Telemedicine</td>\n",
       "    </tr>\n",
       "    <tr>\n",
       "      <th>3</th>\n",
       "      <td>Jordan Michael</td>\n",
       "      <td>Telemedicine</td>\n",
       "    </tr>\n",
       "    <tr>\n",
       "      <th>4</th>\n",
       "      <td>Mike Myers</td>\n",
       "      <td>Telemedicine</td>\n",
       "    </tr>\n",
       "    <tr>\n",
       "      <th>5</th>\n",
       "      <td>Sally Sue</td>\n",
       "      <td>Telemedicine</td>\n",
       "    </tr>\n",
       "    <tr>\n",
       "      <th>6</th>\n",
       "      <td>Ted Black</td>\n",
       "      <td>Telemedicine</td>\n",
       "    </tr>\n",
       "    <tr>\n",
       "      <th>7</th>\n",
       "      <td>Ted Green</td>\n",
       "      <td>Telemedicine</td>\n",
       "    </tr>\n",
       "    <tr>\n",
       "      <th>8</th>\n",
       "      <td>Ted Texas</td>\n",
       "      <td>Telemedicine</td>\n",
       "    </tr>\n",
       "  </tbody>\n",
       "</table>\n",
       "</div>"
      ],
      "text/plain": [
       "     ProviderName     VisitType\n",
       "0        Ala Bama  Telemedicine\n",
       "1       Barry Bar  Telemedicine\n",
       "2      Harry Kane  Telemedicine\n",
       "3  Jordan Michael  Telemedicine\n",
       "4      Mike Myers  Telemedicine\n",
       "5       Sally Sue  Telemedicine\n",
       "6       Ted Black  Telemedicine\n",
       "7       Ted Green  Telemedicine\n",
       "8       Ted Texas  Telemedicine"
      ]
     },
     "execution_count": 5,
     "metadata": {},
     "output_type": "execute_result"
    }
   ],
   "source": [
    "#1 Which providers had a speciality of Pediatrics and used Telemedicine? Use SQL for it. \n",
    "\n",
    "import psycopg2 as ps\n",
    "import pandas.io.sql as sqlio\n",
    "\n",
    "conn2=ps.connect(dbname=\"HospitalDatabase\",\n",
    "\n",
    "user=\"postgres\",password= \"TinRoof33\",host=\"localhost\",\n",
    "\n",
    "port=\"5432\")\n",
    "                \n",
    "                 \n",
    " \n",
    "sql= \"\"\" SELECT DISTINCT p.\"ProviderName\", a.\"VisitType\" FROM \"AmbulatoryVisits\" as a\n",
    "JOIN \"Providers\" as p ON p.\"ProviderID\" = a.\"ProviderID\"\n",
    "WHERE a.\"VisitType\" = 'Telemedicine' AND p.\"ProviderSpeciality\" = 'Pediatrics' \"\"\"\n",
    "\n",
    "df=sqlio.read_sql_query(sql,conn2)\n",
    "\n",
    "df\n",
    "     \n",
    "\n",
    "\n"
   ]
  },
  {
   "cell_type": "code",
   "execution_count": 1,
   "id": "d8c403bd",
   "metadata": {},
   "outputs": [
    {
     "ename": "OperationalError",
     "evalue": "connection to server at \"localhost\" (::1), port 5432 failed: FATAL:  password authentication failed for user \"postgres\"\n",
     "output_type": "error",
     "traceback": [
      "\u001b[1;31m---------------------------------------------------------------------------\u001b[0m",
      "\u001b[1;31mOperationalError\u001b[0m                          Traceback (most recent call last)",
      "Input \u001b[1;32mIn [1]\u001b[0m, in \u001b[0;36m<cell line: 6>\u001b[1;34m()\u001b[0m\n\u001b[0;32m      3\u001b[0m \u001b[38;5;28;01mimport\u001b[39;00m \u001b[38;5;21;01mpsycopg2\u001b[39;00m \u001b[38;5;28;01mas\u001b[39;00m \u001b[38;5;21;01mps\u001b[39;00m\n\u001b[0;32m      4\u001b[0m \u001b[38;5;28;01mimport\u001b[39;00m \u001b[38;5;21;01mpandas\u001b[39;00m\u001b[38;5;21;01m.\u001b[39;00m\u001b[38;5;21;01mio\u001b[39;00m\u001b[38;5;21;01m.\u001b[39;00m\u001b[38;5;21;01msql\u001b[39;00m \u001b[38;5;28;01mas\u001b[39;00m \u001b[38;5;21;01msqlio\u001b[39;00m\n\u001b[1;32m----> 6\u001b[0m conn2\u001b[38;5;241m=\u001b[39m\u001b[43mps\u001b[49m\u001b[38;5;241;43m.\u001b[39;49m\u001b[43mconnect\u001b[49m\u001b[43m(\u001b[49m\u001b[43mdbname\u001b[49m\u001b[38;5;241;43m=\u001b[39;49m\u001b[38;5;124;43m\"\u001b[39;49m\u001b[38;5;124;43mHospitalDatabase\u001b[39;49m\u001b[38;5;124;43m\"\u001b[39;49m\u001b[43m,\u001b[49m\n\u001b[0;32m      7\u001b[0m \n\u001b[0;32m      8\u001b[0m \u001b[43muser\u001b[49m\u001b[38;5;241;43m=\u001b[39;49m\u001b[38;5;124;43m\"\u001b[39;49m\u001b[38;5;124;43mpostgres\u001b[39;49m\u001b[38;5;124;43m\"\u001b[39;49m\u001b[43m,\u001b[49m\u001b[43mpassword\u001b[49m\u001b[38;5;241;43m=\u001b[39;49m\u001b[43m \u001b[49m\u001b[38;5;124;43m\"\u001b[39;49m\u001b[38;5;124;43mTinRoof33\u001b[39;49m\u001b[38;5;124;43m\"\u001b[39;49m\u001b[43m,\u001b[49m\u001b[43mhost\u001b[49m\u001b[38;5;241;43m=\u001b[39;49m\u001b[38;5;124;43m\"\u001b[39;49m\u001b[38;5;124;43mlocalhost\u001b[39;49m\u001b[38;5;124;43m\"\u001b[39;49m\u001b[43m,\u001b[49m\n\u001b[0;32m      9\u001b[0m \n\u001b[0;32m     10\u001b[0m \u001b[43mport\u001b[49m\u001b[38;5;241;43m=\u001b[39;49m\u001b[38;5;124;43m\"\u001b[39;49m\u001b[38;5;124;43m5432\u001b[39;49m\u001b[38;5;124;43m\"\u001b[39;49m\u001b[43m)\u001b[49m\n\u001b[0;32m     14\u001b[0m sql\u001b[38;5;241m=\u001b[39m \u001b[38;5;124m\"\"\"\u001b[39m\u001b[38;5;124m SELECT DISTINCT p.\u001b[39m\u001b[38;5;124m\"\u001b[39m\u001b[38;5;124mProviderName\u001b[39m\u001b[38;5;124m\"\u001b[39m\u001b[38;5;124m, a.\u001b[39m\u001b[38;5;124m\"\u001b[39m\u001b[38;5;124mVisitType\u001b[39m\u001b[38;5;124m\"\u001b[39m\u001b[38;5;124m, p.\u001b[39m\u001b[38;5;124m\"\u001b[39m\u001b[38;5;124mProviderDateOnStaff\u001b[39m\u001b[38;5;124m\"\u001b[39m\u001b[38;5;124m FROM \u001b[39m\u001b[38;5;124m\"\u001b[39m\u001b[38;5;124mAmbulatoryVisits\u001b[39m\u001b[38;5;124m\"\u001b[39m\u001b[38;5;124m as a\u001b[39m\n\u001b[0;32m     15\u001b[0m \u001b[38;5;124mJOIN \u001b[39m\u001b[38;5;124m\"\u001b[39m\u001b[38;5;124mProviders\u001b[39m\u001b[38;5;124m\"\u001b[39m\u001b[38;5;124m as p ON p.\u001b[39m\u001b[38;5;124m\"\u001b[39m\u001b[38;5;124mProviderID\u001b[39m\u001b[38;5;124m\"\u001b[39m\u001b[38;5;124m = a.\u001b[39m\u001b[38;5;124m\"\u001b[39m\u001b[38;5;124mProviderID\u001b[39m\u001b[38;5;124m\"\u001b[39m\n\u001b[0;32m     16\u001b[0m \u001b[38;5;124mWHERE a.\u001b[39m\u001b[38;5;124m\"\u001b[39m\u001b[38;5;124mVisitType\u001b[39m\u001b[38;5;124m\"\u001b[39m\u001b[38;5;124m = \u001b[39m\u001b[38;5;124m'\u001b[39m\u001b[38;5;124mPhysical\u001b[39m\u001b[38;5;124m'\u001b[39m\u001b[38;5;124m AND p.\u001b[39m\u001b[38;5;124m\"\u001b[39m\u001b[38;5;124mProviderSpeciality\u001b[39m\u001b[38;5;124m\"\u001b[39m\u001b[38;5;124m = \u001b[39m\u001b[38;5;124m'\u001b[39m\u001b[38;5;124mPrimaryCare\u001b[39m\u001b[38;5;124m'\u001b[39m\n\u001b[0;32m     17\u001b[0m \u001b[38;5;124mORDER BY p.\u001b[39m\u001b[38;5;124m\"\u001b[39m\u001b[38;5;124mProviderDateOnStaff\u001b[39m\u001b[38;5;124m\"\u001b[39m\u001b[38;5;124m ASC limit 1 \u001b[39m\u001b[38;5;124m\"\"\"\u001b[39m\n\u001b[0;32m     19\u001b[0m df\u001b[38;5;241m=\u001b[39msqlio\u001b[38;5;241m.\u001b[39mread_sql_query(sql,conn2)\n",
      "File \u001b[1;32mC:\\anaco\\lib\\site-packages\\psycopg2\\__init__.py:122\u001b[0m, in \u001b[0;36mconnect\u001b[1;34m(dsn, connection_factory, cursor_factory, **kwargs)\u001b[0m\n\u001b[0;32m    119\u001b[0m     kwasync[\u001b[38;5;124m'\u001b[39m\u001b[38;5;124masync_\u001b[39m\u001b[38;5;124m'\u001b[39m] \u001b[38;5;241m=\u001b[39m kwargs\u001b[38;5;241m.\u001b[39mpop(\u001b[38;5;124m'\u001b[39m\u001b[38;5;124masync_\u001b[39m\u001b[38;5;124m'\u001b[39m)\n\u001b[0;32m    121\u001b[0m dsn \u001b[38;5;241m=\u001b[39m _ext\u001b[38;5;241m.\u001b[39mmake_dsn(dsn, \u001b[38;5;241m*\u001b[39m\u001b[38;5;241m*\u001b[39mkwargs)\n\u001b[1;32m--> 122\u001b[0m conn \u001b[38;5;241m=\u001b[39m _connect(dsn, connection_factory\u001b[38;5;241m=\u001b[39mconnection_factory, \u001b[38;5;241m*\u001b[39m\u001b[38;5;241m*\u001b[39mkwasync)\n\u001b[0;32m    123\u001b[0m \u001b[38;5;28;01mif\u001b[39;00m cursor_factory \u001b[38;5;129;01mis\u001b[39;00m \u001b[38;5;129;01mnot\u001b[39;00m \u001b[38;5;28;01mNone\u001b[39;00m:\n\u001b[0;32m    124\u001b[0m     conn\u001b[38;5;241m.\u001b[39mcursor_factory \u001b[38;5;241m=\u001b[39m cursor_factory\n",
      "\u001b[1;31mOperationalError\u001b[0m: connection to server at \"localhost\" (::1), port 5432 failed: FATAL:  password authentication failed for user \"postgres\"\n"
     ]
    }
   ],
   "source": [
    "#2 Who is the oldest doctor that did a physical? Connect to SQL. \n",
    "\n",
    "import psycopg2 as ps\n",
    "import pandas.io.sql as sqlio\n",
    "\n",
    "conn2=ps.connect(dbname=\"HospitalDatabase\",\n",
    "\n",
    "user=\"postgres\",password= \"TinRoof33\",host=\"localhost\",\n",
    "\n",
    "port=\"5432\")\n",
    "                \n",
    "                 \n",
    " \n",
    "sql= \"\"\" SELECT DISTINCT p.\"ProviderName\", a.\"VisitType\", p.\"ProviderDateOnStaff\" FROM \"AmbulatoryVisits\" as a\n",
    "JOIN \"Providers\" as p ON p.\"ProviderID\" = a.\"ProviderID\"\n",
    "WHERE a.\"VisitType\" = 'Physical' AND p.\"ProviderSpeciality\" = 'PrimaryCare'\n",
    "ORDER BY p.\"ProviderDateOnStaff\" ASC limit 1 \"\"\"\n",
    "\n",
    "df=sqlio.read_sql_query(sql,conn2)\n",
    "\n",
    "df\n"
   ]
  },
  {
   "cell_type": "code",
   "execution_count": 10,
   "id": "1ad52ce0",
   "metadata": {},
   "outputs": [
    {
     "data": {
      "image/png": "[encoded data removed]",
      "text/plain": [
       "<Figure size 640x480 with 1 Axes>"
      ]
     },
     "metadata": {},
     "output_type": "display_data"
    }
   ],
   "source": [
    "#3 Show the gender and language divisions of patients in a bar chart.  \n",
    "\n",
    "# Group the dataframe by gender and language and count the number of rows\n",
    "df_grouped = df_PA.groupby(['Gender', 'Language']).size().reset_index(name='count')\n",
    "\n",
    "# Pivot the dataframe to get a wide format with gender as columns and language as index\n",
    "df_pivoted = df_grouped.pivot(index='Language', columns='Gender', values='count')\n",
    "\n",
    "# Plot the dataframe as a bar chart with stacked bars\n",
    "df_pivoted.plot(kind='bar', stacked=True)\n",
    "\n",
    "# Add labels and title\n",
    "plt.xlabel('Language')\n",
    "plt.ylabel('Count')\n",
    "plt.title('Bar chart for gender and language')\n",
    "\n",
    "# Show the plot\n",
    "plt.show()"
   ]
  },
  {
   "cell_type": "code",
   "execution_count": 11,
   "id": "bf359008",
   "metadata": {},
   "outputs": [
    {
     "data": {
      "image/png": "[encoded data removed]",
      "text/plain": [
       "<Figure size 640x480 with 2 Axes>"
      ]
     },
     "metadata": {},
     "output_type": "display_data"
    }
   ],
   "source": [
    "#3.1  Show the gender and language divisions of patients in a heat map. \n",
    "\n",
    "# Group the dataframe by gender and language and count the number of rows\n",
    "df_grouped = df_PA.groupby(['Gender', 'Language']).size().reset_index(name='count')\n",
    "\n",
    "# Pivot the dataframe to get a wide format with gender as columns and language as index\n",
    "df_pivoted = df_grouped.pivot(index='Language', columns='Gender', values='count')\n",
    "\n",
    "\n",
    "\n",
    "plt.imshow(df_pivoted, cmap='Blues', interpolation='nearest')\n",
    "plt.xticks(range(len(df_pivoted.columns)), df_pivoted.columns)\n",
    "plt.yticks(range(len(df_pivoted.index)), df_pivoted.index)\n",
    "plt.colorbar(label='Count')\n",
    "plt.title('Heatmap for gender and language')\n",
    "plt.show()\n",
    "\n",
    "\n",
    "\n",
    "\n"
   ]
  },
  {
   "cell_type": "code",
   "execution_count": 12,
   "id": "5cb0624a",
   "metadata": {},
   "outputs": [
    {
     "data": {
      "image/png": "[encoded data removed]",
      "text/plain": [
       "<Figure size 640x480 with 1 Axes>"
      ]
     },
     "metadata": {},
     "output_type": "display_data"
    }
   ],
   "source": [
    "#3.2 Show the gender and language divisions of patients in a stacked area chart.  \n",
    "\n",
    "Group the dataframe by gender and language and count the number of rows\n",
    "df_grouped = df_PA.groupby(['Gender', 'Language']).size().reset_index(name='count')\n",
    "\n",
    "# Pivot the dataframe to get a wide format with gender as columns and language as index\n",
    "df_pivoted = df_grouped.pivot(index='Language', columns='Gender', values='count')\n",
    "\n",
    "# Stacked area chart\n",
    "df_pivoted.plot.area(stacked=True)\n",
    "plt.xlabel('Language')\n",
    "plt.ylabel('Count')\n",
    "plt.title('Stacked area chart for gender and language')\n",
    "plt.show()"
   ]
  },
  {
   "cell_type": "code",
   "execution_count": 13,
   "id": "9d400886",
   "metadata": {},
   "outputs": [
    {
     "data": {
      "image/png": "[encoded data removed]",
      "text/plain": [
       "<Figure size 1000x500 with 2 Axes>"
      ]
     },
     "metadata": {},
     "output_type": "display_data"
    }
   ],
   "source": [
    "#3.3 Represent the division of Language and gender using a pie chart\n",
    "\n",
    "\n",
    "#Group the dataframe by gender and language and count the number of rows\n",
    "df_grouped = df_PA.groupby(['Gender', 'Language']).size().reset_index(name='count')\n",
    "\n",
    "# Pivot the dataframe to get a wide format with gender as columns and language as index\n",
    "df_pivoted = df_grouped.pivot(index='Language', columns='Gender', values='count')\n",
    "\n",
    "# Pie chart or donut chart\n",
    "df_pivoted.plot.pie(subplots=True, figsize=(10,5), autopct='%1.1f%%')\n",
    "plt.suptitle('Pie chart for gender and language')\n",
    "plt.show()\n"
   ]
  },
  {
   "cell_type": "code",
   "execution_count": 19,
   "id": "631cf18d",
   "metadata": {},
   "outputs": [
    {
     "data": {
      "application/vnd.plotly.v1+json": {
       "config": {
        "plotlyServerURL": "https://plot.ly"
       },
       "data": [
        {
         "branchvalues": "total",
         "domain": {
          "x": [
           0,
           1
          ],
          "y": [
           0,
           1
          ]
         },
         "hovertemplate": "labels=%{label}<br>count=%{value}<br>parent=%{parent}<br>id=%{id}<extra></extra>",
         "ids": [
          "5/Accident",
          "1/Bleeding",
          "4/Bleeding",
          "2/Car Accident",
          "5/Car Accident",
          "3/Chest Pain",
          "4/Chest Pain",
          "5/Chest Pain",
          "1/Fever",
          "2/Fever",
          "3/Fever",
          "5/Fever",
          "5/Gun Shot",
          "1/Intoxication",
          "1/Laceration",
          "4/Laceration",
          "1/Migraine",
          "2/Migraine",
          "3/Migraine",
          "1/Pneumonia",
          "2/Pneumonia",
          "3/Pneumonia",
          "4/Pneumonia",
          "5/Pneumonia",
          "1/Shortness of Breath",
          "2/Shortness of Breath",
          "3/Shortness of Breath",
          "4/Shortness of Breath",
          "5/Shortness of Breath",
          "1/Stomach Ache",
          "2/Stomach Ache",
          "3/Stomach Ache",
          "1",
          "2",
          "3",
          "4",
          "5"
         ],
         "labels": [
          "Accident",
          "Bleeding",
          "Bleeding",
          "Car Accident",
          "Car Accident",
          "Chest Pain",
          "Chest Pain",
          "Chest Pain",
          "Fever",
          "Fever",
          "Fever",
          "Fever",
          "Gun Shot",
          "Intoxication",
          "Laceration",
          "Laceration",
          "Migraine",
          "Migraine",
          "Migraine",
          "Pneumonia",
          "Pneumonia",
          "Pneumonia",
          "Pneumonia",
          "Pneumonia",
          "Shortness of Breath",
          "Shortness of Breath",
          "Shortness of Breath",
          "Shortness of Breath",
          "Shortness of Breath",
          "Stomach Ache",
          "Stomach Ache",
          "Stomach Ache",
          "1",
          "2",
          "3",
          "4",
          "5"
         ],
         "name": "",
         "parents": [
          "5",
          "1",
          "4",
          "2",
          "5",
          "3",
          "4",
          "5",
          "1",
          "2",
          "3",
          "5",
          "5",
          "1",
          "1",
          "4",
          "1",
          "2",
          "3",
          "1",
          "2",
          "3",
          "4",
          "5",
          "1",
          "2",
          "3",
          "4",
          "5",
          "1",
          "2",
          "3",
          "",
          "",
          "",
          "",
          ""
         ],
         "type": "treemap",
         "values": [
          37,
          11,
          14,
          1,
          15,
          13,
          25,
          53,
          144,
          12,
          1,
          15,
          16,
          23,
          11,
          11,
          55,
          33,
          28,
          50,
          40,
          13,
          55,
          13,
          31,
          36,
          2,
          14,
          37,
          102,
          21,
          13,
          427,
          143,
          70,
          119,
          186
         ]
        }
       ],
       "layout": {
        "legend": {
         "tracegroupgap": 0
        },
        "margin": {
         "t": 60
        },
        "template": {
         "data": {
          "bar": [
           {
            "error_x": {
             "color": "#2a3f5f"
            },
            "error_y": {
             "color": "#2a3f5f"
            },
            "marker": {
             "line": {
              "color": "#E5ECF6",
              "width": 0.5
             },
             "pattern": {
              "fillmode": "overlay",
              "size": 10,
              "solidity": 0.2
             }
            },
            "type": "bar"
           }
          ],
          "barpolar": [
           {
            "marker": {
             "line": {
              "color": "#E5ECF6",
              "width": 0.5
             },
             "pattern": {
              "fillmode": "overlay",
              "size": 10,
              "solidity": 0.2
             }
            },
            "type": "barpolar"
           }
          ],
          "carpet": [
           {
            "aaxis": {
             "endlinecolor": "#2a3f5f",
             "gridcolor": "white",
             "linecolor": "white",
             "minorgridcolor": "white",
             "startlinecolor": "#2a3f5f"
            },
            "baxis": {
             "endlinecolor": "#2a3f5f",
             "gridcolor": "white",
             "linecolor": "white",
             "minorgridcolor": "white",
             "startlinecolor": "#2a3f5f"
            },
            "type": "carpet"
           }
          ],
          "choropleth": [
           {
            "colorbar": {
             "outlinewidth": 0,
             "ticks": ""
            },
            "type": "choropleth"
           }
          ],
          "contour": [
           {
            "colorbar": {
             "outlinewidth": 0,
             "ticks": ""
            },
            "colorscale": [
             [
              0,
              "#0d0887"
             ],
             [
              0.1111111111111111,
              "#46039f"
             ],
             [
              0.2222222222222222,
              "#7201a8"
             ],
             [
              0.3333333333333333,
              "#9c179e"
             ],
             [
              0.4444444444444444,
              "#bd3786"
             ],
             [
              0.5555555555555556,
              "#d8576b"
             ],
             [
              0.6666666666666666,
              "#ed7953"
             ],
             [
              0.7777777777777778,
              "#fb9f3a"
             ],
             [
              0.8888888888888888,
              "#fdca26"
             ],
             [
              1,
              "#f0f921"
             ]
            ],
            "type": "contour"
           }
          ],
          "contourcarpet": [
           {
            "colorbar": {
             "outlinewidth": 0,
             "ticks": ""
            },
            "type": "contourcarpet"
           }
          ],
          "heatmap": [
           {
            "colorbar": {
             "outlinewidth": 0,
             "ticks": ""
            },
            "colorscale": [
             [
              0,
              "#0d0887"
             ],
             [
              0.1111111111111111,
              "#46039f"
             ],
             [
              0.2222222222222222,
              "#7201a8"
             ],
             [
              0.3333333333333333,
              "#9c179e"
             ],
             [
              0.4444444444444444,
              "#bd3786"
             ],
             [
              0.5555555555555556,
              "#d8576b"
             ],
             [
              0.6666666666666666,
              "#ed7953"
             ],
             [
              0.7777777777777778,
              "#fb9f3a"
             ],
             [
              0.8888888888888888,
              "#fdca26"
             ],
             [
              1,
              "#f0f921"
             ]
            ],
            "type": "heatmap"
           }
          ],
          "heatmapgl": [
           {
            "colorbar": {
             "outlinewidth": 0,
             "ticks": ""
            },
            "colorscale": [
             [
              0,
              "#0d0887"
             ],
             [
              0.1111111111111111,
              "#46039f"
             ],
             [
              0.2222222222222222,
              "#7201a8"
             ],
             [
              0.3333333333333333,
              "#9c179e"
             ],
             [
              0.4444444444444444,
              "#bd3786"
             ],
             [
              0.5555555555555556,
              "#d8576b"
             ],
             [
              0.6666666666666666,
              "#ed7953"
             ],
             [
              0.7777777777777778,
              "#fb9f3a"
             ],
             [
              0.8888888888888888,
              "#fdca26"
             ],
             [
              1,
              "#f0f921"
             ]
            ],
            "type": "heatmapgl"
           }
          ],
          "histogram": [
           {
            "marker": {
             "pattern": {
              "fillmode": "overlay",
              "size": 10,
              "solidity": 0.2
             }
            },
            "type": "histogram"
           }
          ],
          "histogram2d": [
           {
            "colorbar": {
             "outlinewidth": 0,
             "ticks": ""
            },
            "colorscale": [
             [
              0,
              "#0d0887"
             ],
             [
              0.1111111111111111,
              "#46039f"
             ],
             [
              0.2222222222222222,
              "#7201a8"
             ],
             [
              0.3333333333333333,
              "#9c179e"
             ],
             [
              0.4444444444444444,
              "#bd3786"
             ],
             [
              0.5555555555555556,
              "#d8576b"
             ],
             [
              0.6666666666666666,
              "#ed7953"
             ],
             [
              0.7777777777777778,
              "#fb9f3a"
             ],
             [
              0.8888888888888888,
              "#fdca26"
             ],
             [
              1,
              "#f0f921"
             ]
            ],
            "type": "histogram2d"
           }
          ],
          "histogram2dcontour": [
           {
            "colorbar": {
             "outlinewidth": 0,
             "ticks": ""
            },
            "colorscale": [
             [
              0,
              "#0d0887"
             ],
             [
              0.1111111111111111,
              "#46039f"
             ],
             [
              0.2222222222222222,
              "#7201a8"
             ],
             [
              0.3333333333333333,
              "#9c179e"
             ],
             [
              0.4444444444444444,
              "#bd3786"
             ],
             [
              0.5555555555555556,
              "#d8576b"
             ],
             [
              0.6666666666666666,
              "#ed7953"
             ],
             [
              0.7777777777777778,
              "#fb9f3a"
             ],
             [
              0.8888888888888888,
              "#fdca26"
             ],
             [
              1,
              "#f0f921"
             ]
            ],
            "type": "histogram2dcontour"
           }
          ],
          "mesh3d": [
           {
            "colorbar": {
             "outlinewidth": 0,
             "ticks": ""
            },
            "type": "mesh3d"
           }
          ],
          "parcoords": [
           {
            "line": {
             "colorbar": {
              "outlinewidth": 0,
              "ticks": ""
             }
            },
            "type": "parcoords"
           }
          ],
          "pie": [
           {
            "automargin": true,
            "type": "pie"
           }
          ],
          "scatter": [
           {
            "fillpattern": {
             "fillmode": "overlay",
             "size": 10,
             "solidity": 0.2
            },
            "type": "scatter"
           }
          ],
          "scatter3d": [
           {
            "line": {
             "colorbar": {
              "outlinewidth": 0,
              "ticks": ""
             }
            },
            "marker": {
             "colorbar": {
              "outlinewidth": 0,
              "ticks": ""
             }
            },
            "type": "scatter3d"
           }
          ],
          "scattercarpet": [
           {
            "marker": {
             "colorbar": {
              "outlinewidth": 0,
              "ticks": ""
             }
            },
            "type": "scattercarpet"
           }
          ],
          "scattergeo": [
           {
            "marker": {
             "colorbar": {
              "outlinewidth": 0,
              "ticks": ""
             }
            },
            "type": "scattergeo"
           }
          ],
          "scattergl": [
           {
            "marker": {
             "colorbar": {
              "outlinewidth": 0,
              "ticks": ""
             }
            },
            "type": "scattergl"
           }
          ],
          "scattermapbox": [
           {
            "marker": {
             "colorbar": {
              "outlinewidth": 0,
              "ticks": ""
             }
            },
            "type": "scattermapbox"
           }
          ],
          "scatterpolar": [
           {
            "marker": {
             "colorbar": {
              "outlinewidth": 0,
              "ticks": ""
             }
            },
            "type": "scatterpolar"
           }
          ],
          "scatterpolargl": [
           {
            "marker": {
             "colorbar": {
              "outlinewidth": 0,
              "ticks": ""
             }
            },
            "type": "scatterpolargl"
           }
          ],
          "scatterternary": [
           {
            "marker": {
             "colorbar": {
              "outlinewidth": 0,
              "ticks": ""
             }
            },
            "type": "scatterternary"
           }
          ],
          "surface": [
           {
            "colorbar": {
             "outlinewidth": 0,
             "ticks": ""
            },
            "colorscale": [
             [
              0,
              "#0d0887"
             ],
             [
              0.1111111111111111,
              "#46039f"
             ],
             [
              0.2222222222222222,
              "#7201a8"
             ],
             [
              0.3333333333333333,
              "#9c179e"
             ],
             [
              0.4444444444444444,
              "#bd3786"
             ],
             [
              0.5555555555555556,
              "#d8576b"
             ],
             [
              0.6666666666666666,
              "#ed7953"
             ],
             [
              0.7777777777777778,
              "#fb9f3a"
             ],
             [
              0.8888888888888888,
              "#fdca26"
             ],
             [
              1,
              "#f0f921"
             ]
            ],
            "type": "surface"
           }
          ],
          "table": [
           {
            "cells": {
             "fill": {
              "color": "#EBF0F8"
             },
             "line": {
              "color": "white"
             }
            },
            "header": {
             "fill": {
              "color": "#C8D4E3"
             },
             "line": {
              "color": "white"
             }
            },
            "type": "table"
           }
          ]
         },
         "layout": {
          "annotationdefaults": {
           "arrowcolor": "#2a3f5f",
           "arrowhead": 0,
           "arrowwidth": 1
          },
          "autotypenumbers": "strict",
          "coloraxis": {
           "colorbar": {
            "outlinewidth": 0,
            "ticks": ""
           }
          },
          "colorscale": {
           "diverging": [
            [
             0,
             "#8e0152"
            ],
            [
             0.1,
             "#c51b7d"
            ],
            [
             0.2,
             "#de77ae"
            ],
            [
             0.3,
             "#f1b6da"
            ],
            [
             0.4,
             "#fde0ef"
            ],
            [
             0.5,
             "#f7f7f7"
            ],
            [
             0.6,
             "#e6f5d0"
            ],
            [
             0.7,
             "#b8e186"
            ],
            [
             0.8,
             "#7fbc41"
            ],
            [
             0.9,
             "#4d9221"
            ],
            [
             1,
             "#276419"
            ]
           ],
           "sequential": [
            [
             0,
             "#0d0887"
            ],
            [
             0.1111111111111111,
             "#46039f"
            ],
            [
             0.2222222222222222,
             "#7201a8"
            ],
            [
             0.3333333333333333,
             "#9c179e"
            ],
            [
             0.4444444444444444,
             "#bd3786"
            ],
            [
             0.5555555555555556,
             "#d8576b"
            ],
            [
             0.6666666666666666,
             "#ed7953"
            ],
            [
             0.7777777777777778,
             "#fb9f3a"
            ],
            [
             0.8888888888888888,
             "#fdca26"
            ],
            [
             1,
             "#f0f921"
            ]
           ],
           "sequentialminus": [
            [
             0,
             "#0d0887"
            ],
            [
             0.1111111111111111,
             "#46039f"
            ],
            [
             0.2222222222222222,
             "#7201a8"
            ],
            [
             0.3333333333333333,
             "#9c179e"
            ],
            [
             0.4444444444444444,
             "#bd3786"
            ],
            [
             0.5555555555555556,
             "#d8576b"
            ],
            [
             0.6666666666666666,
             "#ed7953"
            ],
            [
             0.7777777777777778,
             "#fb9f3a"
            ],
            [
             0.8888888888888888,
             "#fdca26"
            ],
            [
             1,
             "#f0f921"
            ]
           ]
          },
          "colorway": [
           "#636efa",
           "#EF553B",
           "#00cc96",
           "#ab63fa",
           "#FFA15A",
           "#19d3f3",
           "#FF6692",
           "#B6E880",
           "#FF97FF",
           "#FECB52"
          ],
          "font": {
           "color": "#2a3f5f"
          },
          "geo": {
           "bgcolor": "white",
           "lakecolor": "white",
           "landcolor": "#E5ECF6",
           "showlakes": true,
           "showland": true,
           "subunitcolor": "white"
          },
          "hoverlabel": {
           "align": "left"
          },
          "hovermode": "closest",
          "mapbox": {
           "style": "light"
          },
          "paper_bgcolor": "white",
          "plot_bgcolor": "#E5ECF6",
          "polar": {
           "angularaxis": {
            "gridcolor": "white",
            "linecolor": "white",
            "ticks": ""
           },
           "bgcolor": "#E5ECF6",
           "radialaxis": {
            "gridcolor": "white",
            "linecolor": "white",
            "ticks": ""
           }
          },
          "scene": {
           "xaxis": {
            "backgroundcolor": "#E5ECF6",
            "gridcolor": "white",
            "gridwidth": 2,
            "linecolor": "white",
            "showbackground": true,
            "ticks": "",
            "zerolinecolor": "white"
           },
           "yaxis": {
            "backgroundcolor": "#E5ECF6",
            "gridcolor": "white",
            "gridwidth": 2,
            "linecolor": "white",
            "showbackground": true,
            "ticks": "",
            "zerolinecolor": "white"
           },
           "zaxis": {
            "backgroundcolor": "#E5ECF6",
            "gridcolor": "white",
            "gridwidth": 2,
            "linecolor": "white",
            "showbackground": true,
            "ticks": "",
            "zerolinecolor": "white"
           }
          },
          "shapedefaults": {
           "line": {
            "color": "#2a3f5f"
           }
          },
          "ternary": {
           "aaxis": {
            "gridcolor": "white",
            "linecolor": "white",
            "ticks": ""
           },
           "baxis": {
            "gridcolor": "white",
            "linecolor": "white",
            "ticks": ""
           },
           "bgcolor": "#E5ECF6",
           "caxis": {
            "gridcolor": "white",
            "linecolor": "white",
            "ticks": ""
           }
          },
          "title": {
           "x": 0.05
          },
          "xaxis": {
           "automargin": true,
           "gridcolor": "white",
           "linecolor": "white",
           "ticks": "",
           "title": {
            "standoff": 15
           },
           "zerolinecolor": "white",
           "zerolinewidth": 2
          },
          "yaxis": {
           "automargin": true,
           "gridcolor": "white",
           "linecolor": "white",
           "ticks": "",
           "title": {
            "standoff": 15
           },
           "zerolinecolor": "white",
           "zerolinewidth": 2
          }
         }
        },
        "title": {
         "text": "Treemap for acuity and ReasonForVisit"
        }
       }
      },
      "text/html": [
       "<div>                            <div id=\"7953da77-edf4-4685-a012-4a08a73d818f\" class=\"plotly-graph-div\" style=\"height:525px; width:100%;\"></div>            <script type=\"text/javascript\">                require([\"plotly\"], function(Plotly) {                    window.PLOTLYENV=window.PLOTLYENV || {};                                    if (document.getElementById(\"7953da77-edf4-4685-a012-4a08a73d818f\")) {                    Plotly.newPlot(                        \"7953da77-edf4-4685-a012-4a08a73d818f\",                        [{\"branchvalues\":\"total\",\"domain\":{\"x\":[0.0,1.0],\"y\":[0.0,1.0]},\"hovertemplate\":\"labels=%{label}<br>count=%{value}<br>parent=%{parent}<br>id=%{id}<extra></extra>\",\"ids\":[\"5/Accident\",\"1/Bleeding\",\"4/Bleeding\",\"2/Car Accident\",\"5/Car Accident\",\"3/Chest Pain\",\"4/Chest Pain\",\"5/Chest Pain\",\"1/Fever\",\"2/Fever\",\"3/Fever\",\"5/Fever\",\"5/Gun Shot\",\"1/Intoxication\",\"1/Laceration\",\"4/Laceration\",\"1/Migraine\",\"2/Migraine\",\"3/Migraine\",\"1/Pneumonia\",\"2/Pneumonia\",\"3/Pneumonia\",\"4/Pneumonia\",\"5/Pneumonia\",\"1/Shortness of Breath\",\"2/Shortness of Breath\",\"3/Shortness of Breath\",\"4/Shortness of Breath\",\"5/Shortness of Breath\",\"1/Stomach Ache\",\"2/Stomach Ache\",\"3/Stomach Ache\",\"1\",\"2\",\"3\",\"4\",\"5\"],\"labels\":[\"Accident\",\"Bleeding\",\"Bleeding\",\"Car Accident\",\"Car Accident\",\"Chest Pain\",\"Chest Pain\",\"Chest Pain\",\"Fever\",\"Fever\",\"Fever\",\"Fever\",\"Gun Shot\",\"Intoxication\",\"Laceration\",\"Laceration\",\"Migraine\",\"Migraine\",\"Migraine\",\"Pneumonia\",\"Pneumonia\",\"Pneumonia\",\"Pneumonia\",\"Pneumonia\",\"Shortness of Breath\",\"Shortness of Breath\",\"Shortness of Breath\",\"Shortness of Breath\",\"Shortness of Breath\",\"Stomach Ache\",\"Stomach Ache\",\"Stomach Ache\",\"1\",\"2\",\"3\",\"4\",\"5\"],\"name\":\"\",\"parents\":[\"5\",\"1\",\"4\",\"2\",\"5\",\"3\",\"4\",\"5\",\"1\",\"2\",\"3\",\"5\",\"5\",\"1\",\"1\",\"4\",\"1\",\"2\",\"3\",\"1\",\"2\",\"3\",\"4\",\"5\",\"1\",\"2\",\"3\",\"4\",\"5\",\"1\",\"2\",\"3\",\"\",\"\",\"\",\"\",\"\"],\"values\":[37,11,14,1,15,13,25,53,144,12,1,15,16,23,11,11,55,33,28,50,40,13,55,13,31,36,2,14,37,102,21,13,427,143,70,119,186],\"type\":\"treemap\"}],                        {\"template\":{\"data\":{\"histogram2dcontour\":[{\"type\":\"histogram2dcontour\",\"colorbar\":{\"outlinewidth\":0,\"ticks\":\"\"},\"colorscale\":[[0.0,\"#0d0887\"],[0.1111111111111111,\"#46039f\"],[0.2222222222222222,\"#7201a8\"],[0.3333333333333333,\"#9c179e\"],[0.4444444444444444,\"#bd3786\"],[0.5555555555555556,\"#d8576b\"],[0.6666666666666666,\"#ed7953\"],[0.7777777777777778,\"#fb9f3a\"],[0.8888888888888888,\"#fdca26\"],[1.0,\"#f0f921\"]]}],\"choropleth\":[{\"type\":\"choropleth\",\"colorbar\":{\"outlinewidth\":0,\"ticks\":\"\"}}],\"histogram2d\":[{\"type\":\"histogram2d\",\"colorbar\":{\"outlinewidth\":0,\"ticks\":\"\"},\"colorscale\":[[0.0,\"#0d0887\"],[0.1111111111111111,\"#46039f\"],[0.2222222222222222,\"#7201a8\"],[0.3333333333333333,\"#9c179e\"],[0.4444444444444444,\"#bd3786\"],[0.5555555555555556,\"#d8576b\"],[0.6666666666666666,\"#ed7953\"],[0.7777777777777778,\"#fb9f3a\"],[0.8888888888888888,\"#fdca26\"],[1.0,\"#f0f921\"]]}],\"heatmap\":[{\"type\":\"heatmap\",\"colorbar\":{\"outlinewidth\":0,\"ticks\":\"\"},\"colorscale\":[[0.0,\"#0d0887\"],[0.1111111111111111,\"#46039f\"],[0.2222222222222222,\"#7201a8\"],[0.3333333333333333,\"#9c179e\"],[0.4444444444444444,\"#bd3786\"],[0.5555555555555556,\"#d8576b\"],[0.6666666666666666,\"#ed7953\"],[0.7777777777777778,\"#fb9f3a\"],[0.8888888888888888,\"#fdca26\"],[1.0,\"#f0f921\"]]}],\"heatmapgl\":[{\"type\":\"heatmapgl\",\"colorbar\":{\"outlinewidth\":0,\"ticks\":\"\"},\"colorscale\":[[0.0,\"#0d0887\"],[0.1111111111111111,\"#46039f\"],[0.2222222222222222,\"#7201a8\"],[0.3333333333333333,\"#9c179e\"],[0.4444444444444444,\"#bd3786\"],[0.5555555555555556,\"#d8576b\"],[0.6666666666666666,\"#ed7953\"],[0.7777777777777778,\"#fb9f3a\"],[0.8888888888888888,\"#fdca26\"],[1.0,\"#f0f921\"]]}],\"contourcarpet\":[{\"type\":\"contourcarpet\",\"colorbar\":{\"outlinewidth\":0,\"ticks\":\"\"}}],\"contour\":[{\"type\":\"contour\",\"colorbar\":{\"outlinewidth\":0,\"ticks\":\"\"},\"colorscale\":[[0.0,\"#0d0887\"],[0.1111111111111111,\"#46039f\"],[0.2222222222222222,\"#7201a8\"],[0.3333333333333333,\"#9c179e\"],[0.4444444444444444,\"#bd3786\"],[0.5555555555555556,\"#d8576b\"],[0.6666666666666666,\"#ed7953\"],[0.7777777777777778,\"#fb9f3a\"],[0.8888888888888888,\"#fdca26\"],[1.0,\"#f0f921\"]]}],\"surface\":[{\"type\":\"surface\",\"colorbar\":{\"outlinewidth\":0,\"ticks\":\"\"},\"colorscale\":[[0.0,\"#0d0887\"],[0.1111111111111111,\"#46039f\"],[0.2222222222222222,\"#7201a8\"],[0.3333333333333333,\"#9c179e\"],[0.4444444444444444,\"#bd3786\"],[0.5555555555555556,\"#d8576b\"],[0.6666666666666666,\"#ed7953\"],[0.7777777777777778,\"#fb9f3a\"],[0.8888888888888888,\"#fdca26\"],[1.0,\"#f0f921\"]]}],\"mesh3d\":[{\"type\":\"mesh3d\",\"colorbar\":{\"outlinewidth\":0,\"ticks\":\"\"}}],\"scatter\":[{\"fillpattern\":{\"fillmode\":\"overlay\",\"size\":10,\"solidity\":0.2},\"type\":\"scatter\"}],\"parcoords\":[{\"type\":\"parcoords\",\"line\":{\"colorbar\":{\"outlinewidth\":0,\"ticks\":\"\"}}}],\"scatterpolargl\":[{\"type\":\"scatterpolargl\",\"marker\":{\"colorbar\":{\"outlinewidth\":0,\"ticks\":\"\"}}}],\"bar\":[{\"error_x\":{\"color\":\"#2a3f5f\"},\"error_y\":{\"color\":\"#2a3f5f\"},\"marker\":{\"line\":{\"color\":\"#E5ECF6\",\"width\":0.5},\"pattern\":{\"fillmode\":\"overlay\",\"size\":10,\"solidity\":0.2}},\"type\":\"bar\"}],\"scattergeo\":[{\"type\":\"scattergeo\",\"marker\":{\"colorbar\":{\"outlinewidth\":0,\"ticks\":\"\"}}}],\"scatterpolar\":[{\"type\":\"scatterpolar\",\"marker\":{\"colorbar\":{\"outlinewidth\":0,\"ticks\":\"\"}}}],\"histogram\":[{\"marker\":{\"pattern\":{\"fillmode\":\"overlay\",\"size\":10,\"solidity\":0.2}},\"type\":\"histogram\"}],\"scattergl\":[{\"type\":\"scattergl\",\"marker\":{\"colorbar\":{\"outlinewidth\":0,\"ticks\":\"\"}}}],\"scatter3d\":[{\"type\":\"scatter3d\",\"line\":{\"colorbar\":{\"outlinewidth\":0,\"ticks\":\"\"}},\"marker\":{\"colorbar\":{\"outlinewidth\":0,\"ticks\":\"\"}}}],\"scattermapbox\":[{\"type\":\"scattermapbox\",\"marker\":{\"colorbar\":{\"outlinewidth\":0,\"ticks\":\"\"}}}],\"scatterternary\":[{\"type\":\"scatterternary\",\"marker\":{\"colorbar\":{\"outlinewidth\":0,\"ticks\":\"\"}}}],\"scattercarpet\":[{\"type\":\"scattercarpet\",\"marker\":{\"colorbar\":{\"outlinewidth\":0,\"ticks\":\"\"}}}],\"carpet\":[{\"aaxis\":{\"endlinecolor\":\"#2a3f5f\",\"gridcolor\":\"white\",\"linecolor\":\"white\",\"minorgridcolor\":\"white\",\"startlinecolor\":\"#2a3f5f\"},\"baxis\":{\"endlinecolor\":\"#2a3f5f\",\"gridcolor\":\"white\",\"linecolor\":\"white\",\"minorgridcolor\":\"white\",\"startlinecolor\":\"#2a3f5f\"},\"type\":\"carpet\"}],\"table\":[{\"cells\":{\"fill\":{\"color\":\"#EBF0F8\"},\"line\":{\"color\":\"white\"}},\"header\":{\"fill\":{\"color\":\"#C8D4E3\"},\"line\":{\"color\":\"white\"}},\"type\":\"table\"}],\"barpolar\":[{\"marker\":{\"line\":{\"color\":\"#E5ECF6\",\"width\":0.5},\"pattern\":{\"fillmode\":\"overlay\",\"size\":10,\"solidity\":0.2}},\"type\":\"barpolar\"}],\"pie\":[{\"automargin\":true,\"type\":\"pie\"}]},\"layout\":{\"autotypenumbers\":\"strict\",\"colorway\":[\"#636efa\",\"#EF553B\",\"#00cc96\",\"#ab63fa\",\"#FFA15A\",\"#19d3f3\",\"#FF6692\",\"#B6E880\",\"#FF97FF\",\"#FECB52\"],\"font\":{\"color\":\"#2a3f5f\"},\"hovermode\":\"closest\",\"hoverlabel\":{\"align\":\"left\"},\"paper_bgcolor\":\"white\",\"plot_bgcolor\":\"#E5ECF6\",\"polar\":{\"bgcolor\":\"#E5ECF6\",\"angularaxis\":{\"gridcolor\":\"white\",\"linecolor\":\"white\",\"ticks\":\"\"},\"radialaxis\":{\"gridcolor\":\"white\",\"linecolor\":\"white\",\"ticks\":\"\"}},\"ternary\":{\"bgcolor\":\"#E5ECF6\",\"aaxis\":{\"gridcolor\":\"white\",\"linecolor\":\"white\",\"ticks\":\"\"},\"baxis\":{\"gridcolor\":\"white\",\"linecolor\":\"white\",\"ticks\":\"\"},\"caxis\":{\"gridcolor\":\"white\",\"linecolor\":\"white\",\"ticks\":\"\"}},\"coloraxis\":{\"colorbar\":{\"outlinewidth\":0,\"ticks\":\"\"}},\"colorscale\":{\"sequential\":[[0.0,\"#0d0887\"],[0.1111111111111111,\"#46039f\"],[0.2222222222222222,\"#7201a8\"],[0.3333333333333333,\"#9c179e\"],[0.4444444444444444,\"#bd3786\"],[0.5555555555555556,\"#d8576b\"],[0.6666666666666666,\"#ed7953\"],[0.7777777777777778,\"#fb9f3a\"],[0.8888888888888888,\"#fdca26\"],[1.0,\"#f0f921\"]],\"sequentialminus\":[[0.0,\"#0d0887\"],[0.1111111111111111,\"#46039f\"],[0.2222222222222222,\"#7201a8\"],[0.3333333333333333,\"#9c179e\"],[0.4444444444444444,\"#bd3786\"],[0.5555555555555556,\"#d8576b\"],[0.6666666666666666,\"#ed7953\"],[0.7777777777777778,\"#fb9f3a\"],[0.8888888888888888,\"#fdca26\"],[1.0,\"#f0f921\"]],\"diverging\":[[0,\"#8e0152\"],[0.1,\"#c51b7d\"],[0.2,\"#de77ae\"],[0.3,\"#f1b6da\"],[0.4,\"#fde0ef\"],[0.5,\"#f7f7f7\"],[0.6,\"#e6f5d0\"],[0.7,\"#b8e186\"],[0.8,\"#7fbc41\"],[0.9,\"#4d9221\"],[1,\"#276419\"]]},\"xaxis\":{\"gridcolor\":\"white\",\"linecolor\":\"white\",\"ticks\":\"\",\"title\":{\"standoff\":15},\"zerolinecolor\":\"white\",\"automargin\":true,\"zerolinewidth\":2},\"yaxis\":{\"gridcolor\":\"white\",\"linecolor\":\"white\",\"ticks\":\"\",\"title\":{\"standoff\":15},\"zerolinecolor\":\"white\",\"automargin\":true,\"zerolinewidth\":2},\"scene\":{\"xaxis\":{\"backgroundcolor\":\"#E5ECF6\",\"gridcolor\":\"white\",\"linecolor\":\"white\",\"showbackground\":true,\"ticks\":\"\",\"zerolinecolor\":\"white\",\"gridwidth\":2},\"yaxis\":{\"backgroundcolor\":\"#E5ECF6\",\"gridcolor\":\"white\",\"linecolor\":\"white\",\"showbackground\":true,\"ticks\":\"\",\"zerolinecolor\":\"white\",\"gridwidth\":2},\"zaxis\":{\"backgroundcolor\":\"#E5ECF6\",\"gridcolor\":\"white\",\"linecolor\":\"white\",\"showbackground\":true,\"ticks\":\"\",\"zerolinecolor\":\"white\",\"gridwidth\":2}},\"shapedefaults\":{\"line\":{\"color\":\"#2a3f5f\"}},\"annotationdefaults\":{\"arrowcolor\":\"#2a3f5f\",\"arrowhead\":0,\"arrowwidth\":1},\"geo\":{\"bgcolor\":\"white\",\"landcolor\":\"#E5ECF6\",\"subunitcolor\":\"white\",\"showland\":true,\"showlakes\":true,\"lakecolor\":\"white\"},\"title\":{\"x\":0.05},\"mapbox\":{\"style\":\"light\"}}},\"legend\":{\"tracegroupgap\":0},\"margin\":{\"t\":60},\"title\":{\"text\":\"Treemap for acuity and ReasonForVisit\"}},                        {\"responsive\": true}                    ).then(function(){\n",
       "                            \n",
       "var gd = document.getElementById('7953da77-edf4-4685-a012-4a08a73d818f');\n",
       "var x = new MutationObserver(function (mutations, observer) {{\n",
       "        var display = window.getComputedStyle(gd).display;\n",
       "        if (!display || display === 'none') {{\n",
       "            console.log([gd, 'removed!']);\n",
       "            Plotly.purge(gd);\n",
       "            observer.disconnect();\n",
       "        }}\n",
       "}});\n",
       "\n",
       "// Listen for the removal of the full notebook cells\n",
       "var notebookContainer = gd.closest('#notebook-container');\n",
       "if (notebookContainer) {{\n",
       "    x.observe(notebookContainer, {childList: true});\n",
       "}}\n",
       "\n",
       "// Listen for the clearing of the current output cell\n",
       "var outputEl = gd.closest('.output');\n",
       "if (outputEl) {{\n",
       "    x.observe(outputEl, {childList: true});\n",
       "}}\n",
       "\n",
       "                        })                };                });            </script>        </div>"
      ]
     },
     "metadata": {},
     "output_type": "display_data"
    }
   ],
   "source": [
    "#4 Create a treemap for the relationship between Acuity and the reasons for visit. \n",
    "\n",
    "\n",
    "import plotly.express as px\n",
    "\n",
    "# Group the dataframe by acuity and ReasonForVisit and count the number of rows\n",
    "df_grouped = df_EDU.groupby(['Acuity', 'ReasonForVisit']).size().reset_index(name='count')\n",
    "\n",
    "# Plot the dataframe as a treemap with nested rectangles proportional to the count\n",
    "fig = px.treemap(df_grouped, path=['Acuity', 'ReasonForVisit'], values='count')\n",
    "\n",
    "# Add title\n",
    "fig.update_layout(title='Treemap for acuity and ReasonForVisit')\n",
    "\n",
    "# Show the plot\n",
    "fig.show()\n"
   ]
  },
  {
   "cell_type": "code",
   "execution_count": 23,
   "id": "b86873ba",
   "metadata": {},
   "outputs": [
    {
     "data": {
      "application/vnd.plotly.v1+json": {
       "config": {
        "plotlyServerURL": "https://plot.ly"
       },
       "data": [
        {
         "branchvalues": "total",
         "domain": {
          "x": [
           0,
           1
          ],
          "y": [
           0,
           1
          ]
         },
         "hovertemplate": "labels=%{label}<br>count=%{value}<br>parent=%{parent}<br>id=%{id}<extra></extra>",
         "ids": [
          "Expired/Cardiology/AMI",
          "Home/Cardiology/AMI",
          "Home/Hospitalist/AMI",
          "Expired/ICU/AMI",
          "Home/ICU/AMI",
          "Expired/Neurology/AMI",
          "Expired/Cardiology/Afib",
          "Home/Cardiology/Afib",
          "Transfer/Cardiology/Afib",
          "Expired/ICU/Afib",
          "Expired/Cardiology/Broken Leg",
          "Home/General Medicine/Broken Leg",
          "Home/Hospitalist/Broken Leg",
          "Expired/General Medicine/Diabetes",
          "Home/General Medicine/Diabetes",
          "Transfer/General Medicine/Diabetes",
          "Expired/Hospitalist/Diabetes",
          "Home/Hospitalist/Diabetes",
          "Transfer/Hospitalist/Diabetes",
          "Expired/General Medicine/Fever",
          "Home/General Medicine/Fever",
          "Home/Hospitalist/Fever",
          "Expired/ICU/Fever",
          "Expired/Cardiology/Flu",
          "Expired/General Medicine/Flu",
          "Home/General Medicine/Flu",
          "Expired/Hospitalist/Flu",
          "Home/Hospitalist/Flu",
          "Transfer/Hospitalist/Flu",
          "Expired/ICU/Flu",
          "Expired/Neurology/Flu",
          "Expired/Cardiology/Heart Failure",
          "Home/Cardiology/Heart Failure",
          "Transfer/Cardiology/Heart Failure",
          "Expired/ICU/Heart Failure",
          "Home/ICU/Heart Failure",
          "Transfer/ICU/Heart Failure",
          "Expired/Neurology/Heart Failure",
          "Expired/Orthopeadics/Hip Fracture",
          "Home/Orthopeadics/Hip Fracture",
          "Expired/General Medicine/Hypertension",
          "Home/General Medicine/Hypertension",
          "Home/Hospitalist/Hypertension",
          "Expired/ICU/Hypertension",
          "Expired/Neurology/Hypertension",
          "Expired/Cardiology/Kidney Failure",
          "Home/General Medicine/Kidney Failure",
          "Home/Hospitalist/Kidney Failure",
          "Expired/ICU/Kidney Failure",
          "Home/Hospitalist/Knee Replacement",
          "Expired/Orthopeadics/Knee Replacement",
          "Home/Orthopeadics/Knee Replacement",
          "Transfer/Orthopeadics/Knee Replacement",
          "Home/General Medicine/Laceration",
          "Expired/Hospitalist/Laceration",
          "Home/Hospitalist/Laceration",
          "Transfer/ICU/Laceration",
          "Home/Neurology/Migraine",
          "Expired/Neurology/Pain",
          "Home/Neurology/Pain",
          "Transfer/Neurology/Pain",
          "Expired/General Medicine/Pneumonia",
          "Home/General Medicine/Pneumonia",
          "Transfer/General Medicine/Pneumonia",
          "Expired/Hospitalist/Pneumonia",
          "Home/Hospitalist/Pneumonia",
          "Expired/ICU/Pneumonia",
          "Home/ICU/Pneumonia",
          "Transfer/ICU/Pneumonia",
          "Expired/Neurology/Pneumonia",
          "Expired/ICU/Spinal Cord Injury",
          "Home/General Medicine/Stroke",
          "Transfer/General Medicine/Stroke",
          "Home/Hospitalist/Stroke",
          "Expired/ICU/Stroke",
          "Home/ICU/Stroke",
          "Transfer/ICU/Stroke",
          "Expired/Neurology/Stroke",
          "Home/Neurology/Stroke",
          "Transfer/Neurology/Stroke",
          "Expired/Cardiology",
          "Home/Cardiology",
          "Transfer/Cardiology",
          "Expired/General Medicine",
          "Home/General Medicine",
          "Transfer/General Medicine",
          "Expired/Hospitalist",
          "Home/Hospitalist",
          "Transfer/Hospitalist",
          "Expired/ICU",
          "Home/ICU",
          "Transfer/ICU",
          "Expired/Neurology",
          "Home/Neurology",
          "Transfer/Neurology",
          "Expired/Orthopeadics",
          "Home/Orthopeadics",
          "Transfer/Orthopeadics",
          "Expired",
          "Home",
          "Transfer"
         ],
         "labels": [
          "AMI",
          "AMI",
          "AMI",
          "AMI",
          "AMI",
          "AMI",
          "Afib",
          "Afib",
          "Afib",
          "Afib",
          "Broken Leg",
          "Broken Leg",
          "Broken Leg",
          "Diabetes",
          "Diabetes",
          "Diabetes",
          "Diabetes",
          "Diabetes",
          "Diabetes",
          "Fever",
          "Fever",
          "Fever",
          "Fever",
          "Flu",
          "Flu",
          "Flu",
          "Flu",
          "Flu",
          "Flu",
          "Flu",
          "Flu",
          "Heart Failure",
          "Heart Failure",
          "Heart Failure",
          "Heart Failure",
          "Heart Failure",
          "Heart Failure",
          "Heart Failure",
          "Hip Fracture",
          "Hip Fracture",
          "Hypertension",
          "Hypertension",
          "Hypertension",
          "Hypertension",
          "Hypertension",
          "Kidney Failure",
          "Kidney Failure",
          "Kidney Failure",
          "Kidney Failure",
          "Knee Replacement",
          "Knee Replacement",
          "Knee Replacement",
          "Knee Replacement",
          "Laceration",
          "Laceration",
          "Laceration",
          "Laceration",
          "Migraine",
          "Pain",
          "Pain",
          "Pain",
          "Pneumonia",
          "Pneumonia",
          "Pneumonia",
          "Pneumonia",
          "Pneumonia",
          "Pneumonia",
          "Pneumonia",
          "Pneumonia",
          "Pneumonia",
          "Spinal Cord Injury",
          "Stroke",
          "Stroke",
          "Stroke",
          "Stroke",
          "Stroke",
          "Stroke",
          "Stroke",
          "Stroke",
          "Stroke",
          "Cardiology",
          "Cardiology",
          "Cardiology",
          "General Medicine",
          "General Medicine",
          "General Medicine",
          "Hospitalist",
          "Hospitalist",
          "Hospitalist",
          "ICU",
          "ICU",
          "ICU",
          "Neurology",
          "Neurology",
          "Neurology",
          "Orthopeadics",
          "Orthopeadics",
          "Orthopeadics",
          "Expired",
          "Home",
          "Transfer"
         ],
         "name": "",
         "parents": [
          "Expired/Cardiology",
          "Home/Cardiology",
          "Home/Hospitalist",
          "Expired/ICU",
          "Home/ICU",
          "Expired/Neurology",
          "Expired/Cardiology",
          "Home/Cardiology",
          "Transfer/Cardiology",
          "Expired/ICU",
          "Expired/Cardiology",
          "Home/General Medicine",
          "Home/Hospitalist",
          "Expired/General Medicine",
          "Home/General Medicine",
          "Transfer/General Medicine",
          "Expired/Hospitalist",
          "Home/Hospitalist",
          "Transfer/Hospitalist",
          "Expired/General Medicine",
          "Home/General Medicine",
          "Home/Hospitalist",
          "Expired/ICU",
          "Expired/Cardiology",
          "Expired/General Medicine",
          "Home/General Medicine",
          "Expired/Hospitalist",
          "Home/Hospitalist",
          "Transfer/Hospitalist",
          "Expired/ICU",
          "Expired/Neurology",
          "Expired/Cardiology",
          "Home/Cardiology",
          "Transfer/Cardiology",
          "Expired/ICU",
          "Home/ICU",
          "Transfer/ICU",
          "Expired/Neurology",
          "Expired/Orthopeadics",
          "Home/Orthopeadics",
          "Expired/General Medicine",
          "Home/General Medicine",
          "Home/Hospitalist",
          "Expired/ICU",
          "Expired/Neurology",
          "Expired/Cardiology",
          "Home/General Medicine",
          "Home/Hospitalist",
          "Expired/ICU",
          "Home/Hospitalist",
          "Expired/Orthopeadics",
          "Home/Orthopeadics",
          "Transfer/Orthopeadics",
          "Home/General Medicine",
          "Expired/Hospitalist",
          "Home/Hospitalist",
          "Transfer/ICU",
          "Home/Neurology",
          "Expired/Neurology",
          "Home/Neurology",
          "Transfer/Neurology",
          "Expired/General Medicine",
          "Home/General Medicine",
          "Transfer/General Medicine",
          "Expired/Hospitalist",
          "Home/Hospitalist",
          "Expired/ICU",
          "Home/ICU",
          "Transfer/ICU",
          "Expired/Neurology",
          "Expired/ICU",
          "Home/General Medicine",
          "Transfer/General Medicine",
          "Home/Hospitalist",
          "Expired/ICU",
          "Home/ICU",
          "Transfer/ICU",
          "Expired/Neurology",
          "Home/Neurology",
          "Transfer/Neurology",
          "Expired",
          "Home",
          "Transfer",
          "Expired",
          "Home",
          "Transfer",
          "Expired",
          "Home",
          "Transfer",
          "Expired",
          "Home",
          "Transfer",
          "Expired",
          "Home",
          "Transfer",
          "Expired",
          "Home",
          "Transfer",
          "",
          "",
          ""
         ],
         "type": "sunburst",
         "values": [
          3,
          37,
          1,
          1,
          4,
          2,
          3,
          6,
          1,
          1,
          3,
          3,
          3,
          5,
          27,
          6,
          4,
          21,
          1,
          1,
          12,
          3,
          3,
          2,
          1,
          53,
          3,
          14,
          2,
          3,
          2,
          3,
          32,
          4,
          7,
          21,
          5,
          6,
          3,
          20,
          7,
          28,
          6,
          4,
          5,
          1,
          12,
          6,
          1,
          1,
          2,
          19,
          1,
          21,
          2,
          5,
          1,
          12,
          1,
          5,
          1,
          4,
          56,
          7,
          1,
          27,
          6,
          70,
          1,
          5,
          2,
          17,
          3,
          1,
          1,
          15,
          5,
          6,
          19,
          1,
          15,
          75,
          5,
          18,
          229,
          16,
          10,
          88,
          3,
          29,
          110,
          12,
          27,
          36,
          2,
          5,
          39,
          1,
          104,
          577,
          39
         ]
        }
       ],
       "layout": {
        "legend": {
         "tracegroupgap": 0
        },
        "margin": {
         "t": 60
        },
        "template": {
         "data": {
          "bar": [
           {
            "error_x": {
             "color": "#2a3f5f"
            },
            "error_y": {
             "color": "#2a3f5f"
            },
            "marker": {
             "line": {
              "color": "#E5ECF6",
              "width": 0.5
             },
             "pattern": {
              "fillmode": "overlay",
              "size": 10,
              "solidity": 0.2
             }
            },
            "type": "bar"
           }
          ],
          "barpolar": [
           {
            "marker": {
             "line": {
              "color": "#E5ECF6",
              "width": 0.5
             },
             "pattern": {
              "fillmode": "overlay",
              "size": 10,
              "solidity": 0.2
             }
            },
            "type": "barpolar"
           }
          ],
          "carpet": [
           {
            "aaxis": {
             "endlinecolor": "#2a3f5f",
             "gridcolor": "white",
             "linecolor": "white",
             "minorgridcolor": "white",
             "startlinecolor": "#2a3f5f"
            },
            "baxis": {
             "endlinecolor": "#2a3f5f",
             "gridcolor": "white",
             "linecolor": "white",
             "minorgridcolor": "white",
             "startlinecolor": "#2a3f5f"
            },
            "type": "carpet"
           }
          ],
          "choropleth": [
           {
            "colorbar": {
             "outlinewidth": 0,
             "ticks": ""
            },
            "type": "choropleth"
           }
          ],
          "contour": [
           {
            "colorbar": {
             "outlinewidth": 0,
             "ticks": ""
            },
            "colorscale": [
             [
              0,
              "#0d0887"
             ],
             [
              0.1111111111111111,
              "#46039f"
             ],
             [
              0.2222222222222222,
              "#7201a8"
             ],
             [
              0.3333333333333333,
              "#9c179e"
             ],
             [
              0.4444444444444444,
              "#bd3786"
             ],
             [
              0.5555555555555556,
              "#d8576b"
             ],
             [
              0.6666666666666666,
              "#ed7953"
             ],
             [
              0.7777777777777778,
              "#fb9f3a"
             ],
             [
              0.8888888888888888,
              "#fdca26"
             ],
             [
              1,
              "#f0f921"
             ]
            ],
            "type": "contour"
           }
          ],
          "contourcarpet": [
           {
            "colorbar": {
             "outlinewidth": 0,
             "ticks": ""
            },
            "type": "contourcarpet"
           }
          ],
          "heatmap": [
           {
            "colorbar": {
             "outlinewidth": 0,
             "ticks": ""
            },
            "colorscale": [
             [
              0,
              "#0d0887"
             ],
             [
              0.1111111111111111,
              "#46039f"
             ],
             [
              0.2222222222222222,
              "#7201a8"
             ],
             [
              0.3333333333333333,
              "#9c179e"
             ],
             [
              0.4444444444444444,
              "#bd3786"
             ],
             [
              0.5555555555555556,
              "#d8576b"
             ],
             [
              0.6666666666666666,
              "#ed7953"
             ],
             [
              0.7777777777777778,
              "#fb9f3a"
             ],
             [
              0.8888888888888888,
              "#fdca26"
             ],
             [
              1,
              "#f0f921"
             ]
            ],
            "type": "heatmap"
           }
          ],
          "heatmapgl": [
           {
            "colorbar": {
             "outlinewidth": 0,
             "ticks": ""
            },
            "colorscale": [
             [
              0,
              "#0d0887"
             ],
             [
              0.1111111111111111,
              "#46039f"
             ],
             [
              0.2222222222222222,
              "#7201a8"
             ],
             [
              0.3333333333333333,
              "#9c179e"
             ],
             [
              0.4444444444444444,
              "#bd3786"
             ],
             [
              0.5555555555555556,
              "#d8576b"
             ],
             [
              0.6666666666666666,
              "#ed7953"
             ],
             [
              0.7777777777777778,
              "#fb9f3a"
             ],
             [
              0.8888888888888888,
              "#fdca26"
             ],
             [
              1,
              "#f0f921"
             ]
            ],
            "type": "heatmapgl"
           }
          ],
          "histogram": [
           {
            "marker": {
             "pattern": {
              "fillmode": "overlay",
              "size": 10,
              "solidity": 0.2
             }
            },
            "type": "histogram"
           }
          ],
          "histogram2d": [
           {
            "colorbar": {
             "outlinewidth": 0,
             "ticks": ""
            },
            "colorscale": [
             [
              0,
              "#0d0887"
             ],
             [
              0.1111111111111111,
              "#46039f"
             ],
             [
              0.2222222222222222,
              "#7201a8"
             ],
             [
              0.3333333333333333,
              "#9c179e"
             ],
             [
              0.4444444444444444,
              "#bd3786"
             ],
             [
              0.5555555555555556,
              "#d8576b"
             ],
             [
              0.6666666666666666,
              "#ed7953"
             ],
             [
              0.7777777777777778,
              "#fb9f3a"
             ],
             [
              0.8888888888888888,
              "#fdca26"
             ],
             [
              1,
              "#f0f921"
             ]
            ],
            "type": "histogram2d"
           }
          ],
          "histogram2dcontour": [
           {
            "colorbar": {
             "outlinewidth": 0,
             "ticks": ""
            },
            "colorscale": [
             [
              0,
              "#0d0887"
             ],
             [
              0.1111111111111111,
              "#46039f"
             ],
             [
              0.2222222222222222,
              "#7201a8"
             ],
             [
              0.3333333333333333,
              "#9c179e"
             ],
             [
              0.4444444444444444,
              "#bd3786"
             ],
             [
              0.5555555555555556,
              "#d8576b"
             ],
             [
              0.6666666666666666,
              "#ed7953"
             ],
             [
              0.7777777777777778,
              "#fb9f3a"
             ],
             [
              0.8888888888888888,
              "#fdca26"
             ],
             [
              1,
              "#f0f921"
             ]
            ],
            "type": "histogram2dcontour"
           }
          ],
          "mesh3d": [
           {
            "colorbar": {
             "outlinewidth": 0,
             "ticks": ""
            },
            "type": "mesh3d"
           }
          ],
          "parcoords": [
           {
            "line": {
             "colorbar": {
              "outlinewidth": 0,
              "ticks": ""
             }
            },
            "type": "parcoords"
           }
          ],
          "pie": [
           {
            "automargin": true,
            "type": "pie"
           }
          ],
          "scatter": [
           {
            "fillpattern": {
             "fillmode": "overlay",
             "size": 10,
             "solidity": 0.2
            },
            "type": "scatter"
           }
          ],
          "scatter3d": [
           {
            "line": {
             "colorbar": {
              "outlinewidth": 0,
              "ticks": ""
             }
            },
            "marker": {
             "colorbar": {
              "outlinewidth": 0,
              "ticks": ""
             }
            },
            "type": "scatter3d"
           }
          ],
          "scattercarpet": [
           {
            "marker": {
             "colorbar": {
              "outlinewidth": 0,
              "ticks": ""
             }
            },
            "type": "scattercarpet"
           }
          ],
          "scattergeo": [
           {
            "marker": {
             "colorbar": {
              "outlinewidth": 0,
              "ticks": ""
             }
            },
            "type": "scattergeo"
           }
          ],
          "scattergl": [
           {
            "marker": {
             "colorbar": {
              "outlinewidth": 0,
              "ticks": ""
             }
            },
            "type": "scattergl"
           }
          ],
          "scattermapbox": [
           {
            "marker": {
             "colorbar": {
              "outlinewidth": 0,
              "ticks": ""
             }
            },
            "type": "scattermapbox"
           }
          ],
          "scatterpolar": [
           {
            "marker": {
             "colorbar": {
              "outlinewidth": 0,
              "ticks": ""
             }
            },
            "type": "scatterpolar"
           }
          ],
          "scatterpolargl": [
           {
            "marker": {
             "colorbar": {
              "outlinewidth": 0,
              "ticks": ""
             }
            },
            "type": "scatterpolargl"
           }
          ],
          "scatterternary": [
           {
            "marker": {
             "colorbar": {
              "outlinewidth": 0,
              "ticks": ""
             }
            },
            "type": "scatterternary"
           }
          ],
          "surface": [
           {
            "colorbar": {
             "outlinewidth": 0,
             "ticks": ""
            },
            "colorscale": [
             [
              0,
              "#0d0887"
             ],
             [
              0.1111111111111111,
              "#46039f"
             ],
             [
              0.2222222222222222,
              "#7201a8"
             ],
             [
              0.3333333333333333,
              "#9c179e"
             ],
             [
              0.4444444444444444,
              "#bd3786"
             ],
             [
              0.5555555555555556,
              "#d8576b"
             ],
             [
              0.6666666666666666,
              "#ed7953"
             ],
             [
              0.7777777777777778,
              "#fb9f3a"
             ],
             [
              0.8888888888888888,
              "#fdca26"
             ],
             [
              1,
              "#f0f921"
             ]
            ],
            "type": "surface"
           }
          ],
          "table": [
           {
            "cells": {
             "fill": {
              "color": "#EBF0F8"
             },
             "line": {
              "color": "white"
             }
            },
            "header": {
             "fill": {
              "color": "#C8D4E3"
             },
             "line": {
              "color": "white"
             }
            },
            "type": "table"
           }
          ]
         },
         "layout": {
          "annotationdefaults": {
           "arrowcolor": "#2a3f5f",
           "arrowhead": 0,
           "arrowwidth": 1
          },
          "autotypenumbers": "strict",
          "coloraxis": {
           "colorbar": {
            "outlinewidth": 0,
            "ticks": ""
           }
          },
          "colorscale": {
           "diverging": [
            [
             0,
             "#8e0152"
            ],
            [
             0.1,
             "#c51b7d"
            ],
            [
             0.2,
             "#de77ae"
            ],
            [
             0.3,
             "#f1b6da"
            ],
            [
             0.4,
             "#fde0ef"
            ],
            [
             0.5,
             "#f7f7f7"
            ],
            [
             0.6,
             "#e6f5d0"
            ],
            [
             0.7,
             "#b8e186"
            ],
            [
             0.8,
             "#7fbc41"
            ],
            [
             0.9,
             "#4d9221"
            ],
            [
             1,
             "#276419"
            ]
           ],
           "sequential": [
            [
             0,
             "#0d0887"
            ],
            [
             0.1111111111111111,
             "#46039f"
            ],
            [
             0.2222222222222222,
             "#7201a8"
            ],
            [
             0.3333333333333333,
             "#9c179e"
            ],
            [
             0.4444444444444444,
             "#bd3786"
            ],
            [
             0.5555555555555556,
             "#d8576b"
            ],
            [
             0.6666666666666666,
             "#ed7953"
            ],
            [
             0.7777777777777778,
             "#fb9f3a"
            ],
            [
             0.8888888888888888,
             "#fdca26"
            ],
            [
             1,
             "#f0f921"
            ]
           ],
           "sequentialminus": [
            [
             0,
             "#0d0887"
            ],
            [
             0.1111111111111111,
             "#46039f"
            ],
            [
             0.2222222222222222,
             "#7201a8"
            ],
            [
             0.3333333333333333,
             "#9c179e"
            ],
            [
             0.4444444444444444,
             "#bd3786"
            ],
            [
             0.5555555555555556,
             "#d8576b"
            ],
            [
             0.6666666666666666,
             "#ed7953"
            ],
            [
             0.7777777777777778,
             "#fb9f3a"
            ],
            [
             0.8888888888888888,
             "#fdca26"
            ],
            [
             1,
             "#f0f921"
            ]
           ]
          },
          "colorway": [
           "#636efa",
           "#EF553B",
           "#00cc96",
           "#ab63fa",
           "#FFA15A",
           "#19d3f3",
           "#FF6692",
           "#B6E880",
           "#FF97FF",
           "#FECB52"
          ],
          "font": {
           "color": "#2a3f5f"
          },
          "geo": {
           "bgcolor": "white",
           "lakecolor": "white",
           "landcolor": "#E5ECF6",
           "showlakes": true,
           "showland": true,
           "subunitcolor": "white"
          },
          "hoverlabel": {
           "align": "left"
          },
          "hovermode": "closest",
          "mapbox": {
           "style": "light"
          },
          "paper_bgcolor": "white",
          "plot_bgcolor": "#E5ECF6",
          "polar": {
           "angularaxis": {
            "gridcolor": "white",
            "linecolor": "white",
            "ticks": ""
           },
           "bgcolor": "#E5ECF6",
           "radialaxis": {
            "gridcolor": "white",
            "linecolor": "white",
            "ticks": ""
           }
          },
          "scene": {
           "xaxis": {
            "backgroundcolor": "#E5ECF6",
            "gridcolor": "white",
            "gridwidth": 2,
            "linecolor": "white",
            "showbackground": true,
            "ticks": "",
            "zerolinecolor": "white"
           },
           "yaxis": {
            "backgroundcolor": "#E5ECF6",
            "gridcolor": "white",
            "gridwidth": 2,
            "linecolor": "white",
            "showbackground": true,
            "ticks": "",
            "zerolinecolor": "white"
           },
           "zaxis": {
            "backgroundcolor": "#E5ECF6",
            "gridcolor": "white",
            "gridwidth": 2,
            "linecolor": "white",
            "showbackground": true,
            "ticks": "",
            "zerolinecolor": "white"
           }
          },
          "shapedefaults": {
           "line": {
            "color": "#2a3f5f"
           }
          },
          "ternary": {
           "aaxis": {
            "gridcolor": "white",
            "linecolor": "white",
            "ticks": ""
           },
           "baxis": {
            "gridcolor": "white",
            "linecolor": "white",
            "ticks": ""
           },
           "bgcolor": "#E5ECF6",
           "caxis": {
            "gridcolor": "white",
            "linecolor": "white",
            "ticks": ""
           }
          },
          "title": {
           "x": 0.05
          },
          "xaxis": {
           "automargin": true,
           "gridcolor": "white",
           "linecolor": "white",
           "ticks": "",
           "title": {
            "standoff": 15
           },
           "zerolinecolor": "white",
           "zerolinewidth": 2
          },
          "yaxis": {
           "automargin": true,
           "gridcolor": "white",
           "linecolor": "white",
           "ticks": "",
           "title": {
            "standoff": 15
           },
           "zerolinecolor": "white",
           "zerolinewidth": 2
          }
         }
        },
        "title": {
         "text": "Sunburst chart for DischargeDisposition, Service and PrimaryDiagnosis"
        }
       }
      },
      "text/html": [
       "<div>                            <div id=\"cd7f68df-57a4-49ee-83cb-f2b65c420af1\" class=\"plotly-graph-div\" style=\"height:525px; width:100%;\"></div>            <script type=\"text/javascript\">                require([\"plotly\"], function(Plotly) {                    window.PLOTLYENV=window.PLOTLYENV || {};                                    if (document.getElementById(\"cd7f68df-57a4-49ee-83cb-f2b65c420af1\")) {                    Plotly.newPlot(                        \"cd7f68df-57a4-49ee-83cb-f2b65c420af1\",                        [{\"branchvalues\":\"total\",\"domain\":{\"x\":[0.0,1.0],\"y\":[0.0,1.0]},\"hovertemplate\":\"labels=%{label}<br>count=%{value}<br>parent=%{parent}<br>id=%{id}<extra></extra>\",\"ids\":[\"Expired/Cardiology/AMI\",\"Home/Cardiology/AMI\",\"Home/Hospitalist/AMI\",\"Expired/ICU/AMI\",\"Home/ICU/AMI\",\"Expired/Neurology/AMI\",\"Expired/Cardiology/Afib\",\"Home/Cardiology/Afib\",\"Transfer/Cardiology/Afib\",\"Expired/ICU/Afib\",\"Expired/Cardiology/Broken Leg\",\"Home/General Medicine/Broken Leg\",\"Home/Hospitalist/Broken Leg\",\"Expired/General Medicine/Diabetes\",\"Home/General Medicine/Diabetes\",\"Transfer/General Medicine/Diabetes\",\"Expired/Hospitalist/Diabetes\",\"Home/Hospitalist/Diabetes\",\"Transfer/Hospitalist/Diabetes\",\"Expired/General Medicine/Fever\",\"Home/General Medicine/Fever\",\"Home/Hospitalist/Fever\",\"Expired/ICU/Fever\",\"Expired/Cardiology/Flu\",\"Expired/General Medicine/Flu\",\"Home/General Medicine/Flu\",\"Expired/Hospitalist/Flu\",\"Home/Hospitalist/Flu\",\"Transfer/Hospitalist/Flu\",\"Expired/ICU/Flu\",\"Expired/Neurology/Flu\",\"Expired/Cardiology/Heart Failure\",\"Home/Cardiology/Heart Failure\",\"Transfer/Cardiology/Heart Failure\",\"Expired/ICU/Heart Failure\",\"Home/ICU/Heart Failure\",\"Transfer/ICU/Heart Failure\",\"Expired/Neurology/Heart Failure\",\"Expired/Orthopeadics/Hip Fracture\",\"Home/Orthopeadics/Hip Fracture\",\"Expired/General Medicine/Hypertension\",\"Home/General Medicine/Hypertension\",\"Home/Hospitalist/Hypertension\",\"Expired/ICU/Hypertension\",\"Expired/Neurology/Hypertension\",\"Expired/Cardiology/Kidney Failure\",\"Home/General Medicine/Kidney Failure\",\"Home/Hospitalist/Kidney Failure\",\"Expired/ICU/Kidney Failure\",\"Home/Hospitalist/Knee Replacement\",\"Expired/Orthopeadics/Knee Replacement\",\"Home/Orthopeadics/Knee Replacement\",\"Transfer/Orthopeadics/Knee Replacement\",\"Home/General Medicine/Laceration\",\"Expired/Hospitalist/Laceration\",\"Home/Hospitalist/Laceration\",\"Transfer/ICU/Laceration\",\"Home/Neurology/Migraine\",\"Expired/Neurology/Pain\",\"Home/Neurology/Pain\",\"Transfer/Neurology/Pain\",\"Expired/General Medicine/Pneumonia\",\"Home/General Medicine/Pneumonia\",\"Transfer/General Medicine/Pneumonia\",\"Expired/Hospitalist/Pneumonia\",\"Home/Hospitalist/Pneumonia\",\"Expired/ICU/Pneumonia\",\"Home/ICU/Pneumonia\",\"Transfer/ICU/Pneumonia\",\"Expired/Neurology/Pneumonia\",\"Expired/ICU/Spinal Cord Injury\",\"Home/General Medicine/Stroke\",\"Transfer/General Medicine/Stroke\",\"Home/Hospitalist/Stroke\",\"Expired/ICU/Stroke\",\"Home/ICU/Stroke\",\"Transfer/ICU/Stroke\",\"Expired/Neurology/Stroke\",\"Home/Neurology/Stroke\",\"Transfer/Neurology/Stroke\",\"Expired/Cardiology\",\"Home/Cardiology\",\"Transfer/Cardiology\",\"Expired/General Medicine\",\"Home/General Medicine\",\"Transfer/General Medicine\",\"Expired/Hospitalist\",\"Home/Hospitalist\",\"Transfer/Hospitalist\",\"Expired/ICU\",\"Home/ICU\",\"Transfer/ICU\",\"Expired/Neurology\",\"Home/Neurology\",\"Transfer/Neurology\",\"Expired/Orthopeadics\",\"Home/Orthopeadics\",\"Transfer/Orthopeadics\",\"Expired\",\"Home\",\"Transfer\"],\"labels\":[\"AMI\",\"AMI\",\"AMI\",\"AMI\",\"AMI\",\"AMI\",\"Afib\",\"Afib\",\"Afib\",\"Afib\",\"Broken Leg\",\"Broken Leg\",\"Broken Leg\",\"Diabetes\",\"Diabetes\",\"Diabetes\",\"Diabetes\",\"Diabetes\",\"Diabetes\",\"Fever\",\"Fever\",\"Fever\",\"Fever\",\"Flu\",\"Flu\",\"Flu\",\"Flu\",\"Flu\",\"Flu\",\"Flu\",\"Flu\",\"Heart Failure\",\"Heart Failure\",\"Heart Failure\",\"Heart Failure\",\"Heart Failure\",\"Heart Failure\",\"Heart Failure\",\"Hip Fracture\",\"Hip Fracture\",\"Hypertension\",\"Hypertension\",\"Hypertension\",\"Hypertension\",\"Hypertension\",\"Kidney Failure\",\"Kidney Failure\",\"Kidney Failure\",\"Kidney Failure\",\"Knee Replacement\",\"Knee Replacement\",\"Knee Replacement\",\"Knee Replacement\",\"Laceration\",\"Laceration\",\"Laceration\",\"Laceration\",\"Migraine\",\"Pain\",\"Pain\",\"Pain\",\"Pneumonia\",\"Pneumonia\",\"Pneumonia\",\"Pneumonia\",\"Pneumonia\",\"Pneumonia\",\"Pneumonia\",\"Pneumonia\",\"Pneumonia\",\"Spinal Cord Injury\",\"Stroke\",\"Stroke\",\"Stroke\",\"Stroke\",\"Stroke\",\"Stroke\",\"Stroke\",\"Stroke\",\"Stroke\",\"Cardiology\",\"Cardiology\",\"Cardiology\",\"General Medicine\",\"General Medicine\",\"General Medicine\",\"Hospitalist\",\"Hospitalist\",\"Hospitalist\",\"ICU\",\"ICU\",\"ICU\",\"Neurology\",\"Neurology\",\"Neurology\",\"Orthopeadics\",\"Orthopeadics\",\"Orthopeadics\",\"Expired\",\"Home\",\"Transfer\"],\"name\":\"\",\"parents\":[\"Expired/Cardiology\",\"Home/Cardiology\",\"Home/Hospitalist\",\"Expired/ICU\",\"Home/ICU\",\"Expired/Neurology\",\"Expired/Cardiology\",\"Home/Cardiology\",\"Transfer/Cardiology\",\"Expired/ICU\",\"Expired/Cardiology\",\"Home/General Medicine\",\"Home/Hospitalist\",\"Expired/General Medicine\",\"Home/General Medicine\",\"Transfer/General Medicine\",\"Expired/Hospitalist\",\"Home/Hospitalist\",\"Transfer/Hospitalist\",\"Expired/General Medicine\",\"Home/General Medicine\",\"Home/Hospitalist\",\"Expired/ICU\",\"Expired/Cardiology\",\"Expired/General Medicine\",\"Home/General Medicine\",\"Expired/Hospitalist\",\"Home/Hospitalist\",\"Transfer/Hospitalist\",\"Expired/ICU\",\"Expired/Neurology\",\"Expired/Cardiology\",\"Home/Cardiology\",\"Transfer/Cardiology\",\"Expired/ICU\",\"Home/ICU\",\"Transfer/ICU\",\"Expired/Neurology\",\"Expired/Orthopeadics\",\"Home/Orthopeadics\",\"Expired/General Medicine\",\"Home/General Medicine\",\"Home/Hospitalist\",\"Expired/ICU\",\"Expired/Neurology\",\"Expired/Cardiology\",\"Home/General Medicine\",\"Home/Hospitalist\",\"Expired/ICU\",\"Home/Hospitalist\",\"Expired/Orthopeadics\",\"Home/Orthopeadics\",\"Transfer/Orthopeadics\",\"Home/General Medicine\",\"Expired/Hospitalist\",\"Home/Hospitalist\",\"Transfer/ICU\",\"Home/Neurology\",\"Expired/Neurology\",\"Home/Neurology\",\"Transfer/Neurology\",\"Expired/General Medicine\",\"Home/General Medicine\",\"Transfer/General Medicine\",\"Expired/Hospitalist\",\"Home/Hospitalist\",\"Expired/ICU\",\"Home/ICU\",\"Transfer/ICU\",\"Expired/Neurology\",\"Expired/ICU\",\"Home/General Medicine\",\"Transfer/General Medicine\",\"Home/Hospitalist\",\"Expired/ICU\",\"Home/ICU\",\"Transfer/ICU\",\"Expired/Neurology\",\"Home/Neurology\",\"Transfer/Neurology\",\"Expired\",\"Home\",\"Transfer\",\"Expired\",\"Home\",\"Transfer\",\"Expired\",\"Home\",\"Transfer\",\"Expired\",\"Home\",\"Transfer\",\"Expired\",\"Home\",\"Transfer\",\"Expired\",\"Home\",\"Transfer\",\"\",\"\",\"\"],\"values\":[3,37,1,1,4,2,3,6,1,1,3,3,3,5,27,6,4,21,1,1,12,3,3,2,1,53,3,14,2,3,2,3,32,4,7,21,5,6,3,20,7,28,6,4,5,1,12,6,1,1,2,19,1,21,2,5,1,12,1,5,1,4,56,7,1,27,6,70,1,5,2,17,3,1,1,15,5,6,19,1,15,75,5,18,229,16,10,88,3,29,110,12,27,36,2,5,39,1,104,577,39],\"type\":\"sunburst\"}],                        {\"template\":{\"data\":{\"histogram2dcontour\":[{\"type\":\"histogram2dcontour\",\"colorbar\":{\"outlinewidth\":0,\"ticks\":\"\"},\"colorscale\":[[0.0,\"#0d0887\"],[0.1111111111111111,\"#46039f\"],[0.2222222222222222,\"#7201a8\"],[0.3333333333333333,\"#9c179e\"],[0.4444444444444444,\"#bd3786\"],[0.5555555555555556,\"#d8576b\"],[0.6666666666666666,\"#ed7953\"],[0.7777777777777778,\"#fb9f3a\"],[0.8888888888888888,\"#fdca26\"],[1.0,\"#f0f921\"]]}],\"choropleth\":[{\"type\":\"choropleth\",\"colorbar\":{\"outlinewidth\":0,\"ticks\":\"\"}}],\"histogram2d\":[{\"type\":\"histogram2d\",\"colorbar\":{\"outlinewidth\":0,\"ticks\":\"\"},\"colorscale\":[[0.0,\"#0d0887\"],[0.1111111111111111,\"#46039f\"],[0.2222222222222222,\"#7201a8\"],[0.3333333333333333,\"#9c179e\"],[0.4444444444444444,\"#bd3786\"],[0.5555555555555556,\"#d8576b\"],[0.6666666666666666,\"#ed7953\"],[0.7777777777777778,\"#fb9f3a\"],[0.8888888888888888,\"#fdca26\"],[1.0,\"#f0f921\"]]}],\"heatmap\":[{\"type\":\"heatmap\",\"colorbar\":{\"outlinewidth\":0,\"ticks\":\"\"},\"colorscale\":[[0.0,\"#0d0887\"],[0.1111111111111111,\"#46039f\"],[0.2222222222222222,\"#7201a8\"],[0.3333333333333333,\"#9c179e\"],[0.4444444444444444,\"#bd3786\"],[0.5555555555555556,\"#d8576b\"],[0.6666666666666666,\"#ed7953\"],[0.7777777777777778,\"#fb9f3a\"],[0.8888888888888888,\"#fdca26\"],[1.0,\"#f0f921\"]]}],\"heatmapgl\":[{\"type\":\"heatmapgl\",\"colorbar\":{\"outlinewidth\":0,\"ticks\":\"\"},\"colorscale\":[[0.0,\"#0d0887\"],[0.1111111111111111,\"#46039f\"],[0.2222222222222222,\"#7201a8\"],[0.3333333333333333,\"#9c179e\"],[0.4444444444444444,\"#bd3786\"],[0.5555555555555556,\"#d8576b\"],[0.6666666666666666,\"#ed7953\"],[0.7777777777777778,\"#fb9f3a\"],[0.8888888888888888,\"#fdca26\"],[1.0,\"#f0f921\"]]}],\"contourcarpet\":[{\"type\":\"contourcarpet\",\"colorbar\":{\"outlinewidth\":0,\"ticks\":\"\"}}],\"contour\":[{\"type\":\"contour\",\"colorbar\":{\"outlinewidth\":0,\"ticks\":\"\"},\"colorscale\":[[0.0,\"#0d0887\"],[0.1111111111111111,\"#46039f\"],[0.2222222222222222,\"#7201a8\"],[0.3333333333333333,\"#9c179e\"],[0.4444444444444444,\"#bd3786\"],[0.5555555555555556,\"#d8576b\"],[0.6666666666666666,\"#ed7953\"],[0.7777777777777778,\"#fb9f3a\"],[0.8888888888888888,\"#fdca26\"],[1.0,\"#f0f921\"]]}],\"surface\":[{\"type\":\"surface\",\"colorbar\":{\"outlinewidth\":0,\"ticks\":\"\"},\"colorscale\":[[0.0,\"#0d0887\"],[0.1111111111111111,\"#46039f\"],[0.2222222222222222,\"#7201a8\"],[0.3333333333333333,\"#9c179e\"],[0.4444444444444444,\"#bd3786\"],[0.5555555555555556,\"#d8576b\"],[0.6666666666666666,\"#ed7953\"],[0.7777777777777778,\"#fb9f3a\"],[0.8888888888888888,\"#fdca26\"],[1.0,\"#f0f921\"]]}],\"mesh3d\":[{\"type\":\"mesh3d\",\"colorbar\":{\"outlinewidth\":0,\"ticks\":\"\"}}],\"scatter\":[{\"fillpattern\":{\"fillmode\":\"overlay\",\"size\":10,\"solidity\":0.2},\"type\":\"scatter\"}],\"parcoords\":[{\"type\":\"parcoords\",\"line\":{\"colorbar\":{\"outlinewidth\":0,\"ticks\":\"\"}}}],\"scatterpolargl\":[{\"type\":\"scatterpolargl\",\"marker\":{\"colorbar\":{\"outlinewidth\":0,\"ticks\":\"\"}}}],\"bar\":[{\"error_x\":{\"color\":\"#2a3f5f\"},\"error_y\":{\"color\":\"#2a3f5f\"},\"marker\":{\"line\":{\"color\":\"#E5ECF6\",\"width\":0.5},\"pattern\":{\"fillmode\":\"overlay\",\"size\":10,\"solidity\":0.2}},\"type\":\"bar\"}],\"scattergeo\":[{\"type\":\"scattergeo\",\"marker\":{\"colorbar\":{\"outlinewidth\":0,\"ticks\":\"\"}}}],\"scatterpolar\":[{\"type\":\"scatterpolar\",\"marker\":{\"colorbar\":{\"outlinewidth\":0,\"ticks\":\"\"}}}],\"histogram\":[{\"marker\":{\"pattern\":{\"fillmode\":\"overlay\",\"size\":10,\"solidity\":0.2}},\"type\":\"histogram\"}],\"scattergl\":[{\"type\":\"scattergl\",\"marker\":{\"colorbar\":{\"outlinewidth\":0,\"ticks\":\"\"}}}],\"scatter3d\":[{\"type\":\"scatter3d\",\"line\":{\"colorbar\":{\"outlinewidth\":0,\"ticks\":\"\"}},\"marker\":{\"colorbar\":{\"outlinewidth\":0,\"ticks\":\"\"}}}],\"scattermapbox\":[{\"type\":\"scattermapbox\",\"marker\":{\"colorbar\":{\"outlinewidth\":0,\"ticks\":\"\"}}}],\"scatterternary\":[{\"type\":\"scatterternary\",\"marker\":{\"colorbar\":{\"outlinewidth\":0,\"ticks\":\"\"}}}],\"scattercarpet\":[{\"type\":\"scattercarpet\",\"marker\":{\"colorbar\":{\"outlinewidth\":0,\"ticks\":\"\"}}}],\"carpet\":[{\"aaxis\":{\"endlinecolor\":\"#2a3f5f\",\"gridcolor\":\"white\",\"linecolor\":\"white\",\"minorgridcolor\":\"white\",\"startlinecolor\":\"#2a3f5f\"},\"baxis\":{\"endlinecolor\":\"#2a3f5f\",\"gridcolor\":\"white\",\"linecolor\":\"white\",\"minorgridcolor\":\"white\",\"startlinecolor\":\"#2a3f5f\"},\"type\":\"carpet\"}],\"table\":[{\"cells\":{\"fill\":{\"color\":\"#EBF0F8\"},\"line\":{\"color\":\"white\"}},\"header\":{\"fill\":{\"color\":\"#C8D4E3\"},\"line\":{\"color\":\"white\"}},\"type\":\"table\"}],\"barpolar\":[{\"marker\":{\"line\":{\"color\":\"#E5ECF6\",\"width\":0.5},\"pattern\":{\"fillmode\":\"overlay\",\"size\":10,\"solidity\":0.2}},\"type\":\"barpolar\"}],\"pie\":[{\"automargin\":true,\"type\":\"pie\"}]},\"layout\":{\"autotypenumbers\":\"strict\",\"colorway\":[\"#636efa\",\"#EF553B\",\"#00cc96\",\"#ab63fa\",\"#FFA15A\",\"#19d3f3\",\"#FF6692\",\"#B6E880\",\"#FF97FF\",\"#FECB52\"],\"font\":{\"color\":\"#2a3f5f\"},\"hovermode\":\"closest\",\"hoverlabel\":{\"align\":\"left\"},\"paper_bgcolor\":\"white\",\"plot_bgcolor\":\"#E5ECF6\",\"polar\":{\"bgcolor\":\"#E5ECF6\",\"angularaxis\":{\"gridcolor\":\"white\",\"linecolor\":\"white\",\"ticks\":\"\"},\"radialaxis\":{\"gridcolor\":\"white\",\"linecolor\":\"white\",\"ticks\":\"\"}},\"ternary\":{\"bgcolor\":\"#E5ECF6\",\"aaxis\":{\"gridcolor\":\"white\",\"linecolor\":\"white\",\"ticks\":\"\"},\"baxis\":{\"gridcolor\":\"white\",\"linecolor\":\"white\",\"ticks\":\"\"},\"caxis\":{\"gridcolor\":\"white\",\"linecolor\":\"white\",\"ticks\":\"\"}},\"coloraxis\":{\"colorbar\":{\"outlinewidth\":0,\"ticks\":\"\"}},\"colorscale\":{\"sequential\":[[0.0,\"#0d0887\"],[0.1111111111111111,\"#46039f\"],[0.2222222222222222,\"#7201a8\"],[0.3333333333333333,\"#9c179e\"],[0.4444444444444444,\"#bd3786\"],[0.5555555555555556,\"#d8576b\"],[0.6666666666666666,\"#ed7953\"],[0.7777777777777778,\"#fb9f3a\"],[0.8888888888888888,\"#fdca26\"],[1.0,\"#f0f921\"]],\"sequentialminus\":[[0.0,\"#0d0887\"],[0.1111111111111111,\"#46039f\"],[0.2222222222222222,\"#7201a8\"],[0.3333333333333333,\"#9c179e\"],[0.4444444444444444,\"#bd3786\"],[0.5555555555555556,\"#d8576b\"],[0.6666666666666666,\"#ed7953\"],[0.7777777777777778,\"#fb9f3a\"],[0.8888888888888888,\"#fdca26\"],[1.0,\"#f0f921\"]],\"diverging\":[[0,\"#8e0152\"],[0.1,\"#c51b7d\"],[0.2,\"#de77ae\"],[0.3,\"#f1b6da\"],[0.4,\"#fde0ef\"],[0.5,\"#f7f7f7\"],[0.6,\"#e6f5d0\"],[0.7,\"#b8e186\"],[0.8,\"#7fbc41\"],[0.9,\"#4d9221\"],[1,\"#276419\"]]},\"xaxis\":{\"gridcolor\":\"white\",\"linecolor\":\"white\",\"ticks\":\"\",\"title\":{\"standoff\":15},\"zerolinecolor\":\"white\",\"automargin\":true,\"zerolinewidth\":2},\"yaxis\":{\"gridcolor\":\"white\",\"linecolor\":\"white\",\"ticks\":\"\",\"title\":{\"standoff\":15},\"zerolinecolor\":\"white\",\"automargin\":true,\"zerolinewidth\":2},\"scene\":{\"xaxis\":{\"backgroundcolor\":\"#E5ECF6\",\"gridcolor\":\"white\",\"linecolor\":\"white\",\"showbackground\":true,\"ticks\":\"\",\"zerolinecolor\":\"white\",\"gridwidth\":2},\"yaxis\":{\"backgroundcolor\":\"#E5ECF6\",\"gridcolor\":\"white\",\"linecolor\":\"white\",\"showbackground\":true,\"ticks\":\"\",\"zerolinecolor\":\"white\",\"gridwidth\":2},\"zaxis\":{\"backgroundcolor\":\"#E5ECF6\",\"gridcolor\":\"white\",\"linecolor\":\"white\",\"showbackground\":true,\"ticks\":\"\",\"zerolinecolor\":\"white\",\"gridwidth\":2}},\"shapedefaults\":{\"line\":{\"color\":\"#2a3f5f\"}},\"annotationdefaults\":{\"arrowcolor\":\"#2a3f5f\",\"arrowhead\":0,\"arrowwidth\":1},\"geo\":{\"bgcolor\":\"white\",\"landcolor\":\"#E5ECF6\",\"subunitcolor\":\"white\",\"showland\":true,\"showlakes\":true,\"lakecolor\":\"white\"},\"title\":{\"x\":0.05},\"mapbox\":{\"style\":\"light\"}}},\"legend\":{\"tracegroupgap\":0},\"margin\":{\"t\":60},\"title\":{\"text\":\"Sunburst chart for DischargeDisposition, Service and PrimaryDiagnosis\"}},                        {\"responsive\": true}                    ).then(function(){\n",
       "                            \n",
       "var gd = document.getElementById('cd7f68df-57a4-49ee-83cb-f2b65c420af1');\n",
       "var x = new MutationObserver(function (mutations, observer) {{\n",
       "        var display = window.getComputedStyle(gd).display;\n",
       "        if (!display || display === 'none') {{\n",
       "            console.log([gd, 'removed!']);\n",
       "            Plotly.purge(gd);\n",
       "            observer.disconnect();\n",
       "        }}\n",
       "}});\n",
       "\n",
       "// Listen for the removal of the full notebook cells\n",
       "var notebookContainer = gd.closest('#notebook-container');\n",
       "if (notebookContainer) {{\n",
       "    x.observe(notebookContainer, {childList: true});\n",
       "}}\n",
       "\n",
       "// Listen for the clearing of the current output cell\n",
       "var outputEl = gd.closest('.output');\n",
       "if (outputEl) {{\n",
       "    x.observe(outputEl, {childList: true});\n",
       "}}\n",
       "\n",
       "                        })                };                });            </script>        </div>"
      ]
     },
     "metadata": {},
     "output_type": "display_data"
    }
   ],
   "source": [
    "#5. Show how Discharge disposition, Service and Primary Diagnosis are connected using a chart. \n",
    "\n",
    "\n",
    "import plotly.express as px\n",
    "\n",
    "# Group the dataframe by DischargeDisposition, Service and PrimaryDiagnosis and count the number of rows\n",
    "df_grouped = df_Dis.groupby(['DischargeDisposition', 'Service', 'PrimaryDiagnosis']).size().reset_index(name='count')\n",
    "\n",
    "# Plot the dataframe as a sunburst chart with nested rings proportional to the count\n",
    "fig = px.sunburst(df_grouped, path=['DischargeDisposition', 'Service', 'PrimaryDiagnosis'], values='count')\n",
    "\n",
    "# Add title\n",
    "fig.update_layout(title='Sunburst chart for DischargeDisposition, Service and PrimaryDiagnosis')\n",
    "\n",
    "# Show the plot\n",
    "fig.show()"
   ]
  },
  {
   "cell_type": "code",
   "execution_count": null,
   "id": "1e7447da",
   "metadata": {},
   "outputs": [],
   "source": []
  }
 ],
 "metadata": {
  "kernelspec": {
   "display_name": "Python 3 (ipykernel)",
   "language": "python",
   "name": "python3"
  },
  "language_info": {
   "codemirror_mode": {
    "name": "ipython",
    "version": 3
   },
   "file_extension": ".py",
   "mimetype": "text/x-python",
   "name": "python",
   "nbconvert_exporter": "python",
   "pygments_lexer": "ipython3",
   "version": "3.9.12"
  }
 },
 "nbformat": 4,
 "nbformat_minor": 5
}
