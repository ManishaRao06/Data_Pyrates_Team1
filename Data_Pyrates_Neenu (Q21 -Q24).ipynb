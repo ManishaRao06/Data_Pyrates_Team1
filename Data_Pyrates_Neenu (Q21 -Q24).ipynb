{
 "cells": [
  {
   "cell_type": "markdown",
   "id": "a3c476b1",
   "metadata": {},
   "source": [
    "# Data_Pyrates_Solutions ( 21- 40)"
   ]
  },
  {
   "cell_type": "code",
   "execution_count": 2,
   "id": "9ec82e8f",
   "metadata": {},
   "outputs": [],
   "source": [
    "#import libraries\n",
    "\n",
    "import numpy as np # linear algebra\n",
    "import pandas as pd # data processing, CSV file I/O (e.g. pd.read_csv)\n",
    "import matplotlib.pyplot as plt\n",
    "import seaborn as sns #for visualisation"
   ]
  },
  {
   "cell_type": "code",
   "execution_count": null,
   "id": "e2c31404",
   "metadata": {},
   "outputs": [],
   "source": [
    "Q21. Which reason of visit has maximum mortality rate."
   ]
  },
  {
   "cell_type": "code",
   "execution_count": 24,
   "id": "dc39fa5a",
   "metadata": {},
   "outputs": [
    {
     "name": "stdout",
     "output_type": "stream",
     "text": [
      "Maximum Mortality :\n",
      "0.9899452598970535\n",
      "\n",
      "'Reason for visit' which shows maximum mortality rate : \n",
      "88    Pneumonia\n",
      "Name: PrimaryDiagnosis, dtype: object\n"
     ]
    }
   ],
   "source": [
    "# Which reason of visit has maximum mortality rate.\n",
    "\n",
    "#Loading a excel file into a DataFrame\n",
    "df =pd.read_excel(\"HospitalDatabase.xlsx\",\"Discharges\")\n",
    "#print(\"\\nReason for Visists\")\n",
    "#df1 = pd.DataFrame(df[\"PrimaryDiagnosis\"])\n",
    "#print(df1)\n",
    "m = df[\"ExpectedMortality\"].max()\n",
    "print(\"Maximum Mortality :\")\n",
    "print(m)\n",
    "print(\"\\n'Reason for visit' which shows maximum mortality rate : \")\n",
    "r = df[\"PrimaryDiagnosis\"].where(df[\"ExpectedMortality\"] == m)\n",
    "new_df = r.dropna()\n",
    "print(new_df)"
   ]
  },
  {
   "cell_type": "markdown",
   "id": "2a646a82",
   "metadata": {},
   "source": [
    "####Q22\tDisplay the average LOS based on Service and Discharge Disposition(Maintain the column Hierarchy)"
   ]
  },
  {
   "cell_type": "code",
   "execution_count": 57,
   "id": "3f5be50c",
   "metadata": {},
   "outputs": [
    {
     "name": "stdout",
     "output_type": "stream",
     "text": [
      "Average LOS based on Service:\n",
      "\n",
      "Average LOS based on Service-Nuerology:  11.195595749648236\n",
      "Average LOS based on Service-Hospitalist:  7.818381546794938\n",
      "Average LOS based on Service-Orthopeadics:  3.58637331567086\n",
      "Average LOS based on Service-Cardiology:  12.231595655541636\n",
      "Average LOS based on Service-General_Medicine:  6.09047318530852\n",
      "Average LOS based on Service-ICU:  12.656629804114019\n",
      "\n",
      "\n",
      "Average LOS based on DischargeDisposition:\n",
      "\n",
      "\n",
      "Average LOS based on DischargeDisposition - Expired:  8.387273673125936\n",
      "Average LOS based on DischargeDisposition -Home :  8.900731474263589\n",
      "Average LOS based on DischargeDisposition - Expired:  8.864247998390715\n"
     ]
    }
   ],
   "source": [
    "#Loading a excel file into a DataFrame\n",
    "df =pd.read_excel(\"HospitalDatabase.xlsx\",\"Discharges\")\n",
    "\n",
    "g1 = df.groupby(\"Service\")\n",
    "\n",
    "cardiology = g1.get_group('Cardiology')\n",
    "icu = g1.get_group('ICU')\n",
    "neurology = g1.get_group('Neurology')\n",
    "hospitalist = g1.get_group('Hospitalist')\n",
    "orthopeadics = g1.get_group('Orthopeadics')\n",
    "cardiology = g1.get_group('Cardiology')\n",
    "general_medicine = g1.get_group('General Medicine')\n",
    "\n",
    "\n",
    "print(\"Average LOS based on Service:\\n\") \n",
    "\n",
    "Service_Nuerology_Loc_mean = neurology['ExpectedLOS'].mean()\n",
    "print(\"Average LOS based on Service-Nuerology: \",Service_Nuerology_Loc_mean)\n",
    "\n",
    "Service_Hospitalist_Loc_mean = hospitalist['ExpectedLOS'].mean()\n",
    "print(\"Average LOS based on Service-Hospitalist: \",Service_Hospitalist_Loc_mean)\n",
    "\n",
    "Service_Orthopeadics_Loc_mean = orthopeadics['ExpectedLOS'].mean()\n",
    "print(\"Average LOS based on Service-Orthopeadics: \",Service_Orthopeadics_Loc_mean)\n",
    "\n",
    "Service_Cardiology_Loc_mean = cardiology['ExpectedLOS'].mean()\n",
    "print(\"Average LOS based on Service-Cardiology: \",Service_Cardiology_Loc_mean)\n",
    "\n",
    "Service_General_Medicine_Loc_mean = general_medicine['ExpectedLOS'].mean()\n",
    "print(\"Average LOS based on Service-General_Medicine: \",Service_General_Medicine_Loc_mean)\n",
    "\n",
    "Service_Icu_Loc_mean = icu['ExpectedLOS'].mean()\n",
    "print(\"Average LOS based on Service-ICU: \",Service_Icu_Loc_mean)\n",
    "\n",
    "\n",
    "g2 = df.groupby(\"DischargeDisposition\")\n",
    "\n",
    "expired = g2.get_group('Expired')\n",
    "home = g2.get_group('Home')\n",
    "transfer = g2.get_group('Transfer')\n",
    "\n",
    "print(\"\\n\\nAverage LOS based on DischargeDisposition:\\n\") \n",
    "\n",
    "DischargeDisposition_Expired_Loc_mean = expired['ExpectedLOS'].mean()\n",
    "print(\"\\nAverage LOS based on DischargeDisposition - Expired: \",DischargeDisposition_Expired_Loc_mean)\n",
    "\n",
    "\n",
    "DischargeDisposition_Home_Loc_mean = home['ExpectedLOS'].mean()\n",
    "print(\"Average LOS based on DischargeDisposition -Home : \",DischargeDisposition_Home_Loc_mean)\n",
    "\n",
    "\n",
    "DischargeDisposition_Transfer_Loc_mean = transfer['ExpectedLOS'].mean()\n",
    "print(\"Average LOS based on DischargeDisposition - Expired: \",DischargeDisposition_Transfer_Loc_mean)"
   ]
  },
  {
   "cell_type": "markdown",
   "id": "a2089882",
   "metadata": {},
   "source": [
    "#### Q23\tAdd column 'Age' in Patient table."
   ]
  },
  {
   "cell_type": "code",
   "execution_count": 22,
   "id": "3f32462d",
   "metadata": {},
   "outputs": [
    {
     "name": "stdout",
     "output_type": "stream",
     "text": [
      "   PatientID FirstName LastName             DateOfBirth Gender   Race  \\\n",
      "0          1     Lanni      Sue 1960-01-01 00:00:00.000   Male  White   \n",
      "1          2       Far    Myers 1985-11-15 02:08:42.090   Male  White   \n",
      "2          3   Devlin   Michael 1976-04-15 02:52:09.762   Male  White   \n",
      "3          4   Carmine    Texas 1968-10-15 03:32:13.635   Male  White   \n",
      "4          5     Tann      Bama 1962-05-01 19:12:58.950   Male  White   \n",
      "\n",
      "  Language  Age  \n",
      "0  English   49  \n",
      "1  English   73  \n",
      "2  English   50  \n",
      "3  English   17  \n",
      "4  English   41  \n"
     ]
    }
   ],
   "source": [
    "df =pd.read_excel(\"HospitalDatabase.xlsx\",\"Patients\")\n",
    "# Using DataFrame.insert() to add a column\n",
    "df.insert(7,\"Age\",np.random.randint(80, size=(945)))\n",
    "print(df.head())"
   ]
  },
  {
   "cell_type": "markdown",
   "id": "b599ee12",
   "metadata": {},
   "source": [
    "#### 24\tUsing arrays and loops, find the count of patients based on gender.\n"
   ]
  },
  {
   "cell_type": "code",
   "execution_count": 28,
   "id": "eabb7b83",
   "metadata": {},
   "outputs": [
    {
     "name": "stdout",
     "output_type": "stream",
     "text": [
      "Male      537\n",
      "Female    408\n",
      "Name: Gender, dtype: int64\n"
     ]
    }
   ],
   "source": [
    "#Solution 1\n",
    "df =pd.read_excel(\"HospitalDatabase.xlsx\",\"Patients\")\n",
    "# pandas count distinct values in column\n",
    "c = df['Gender'].value_counts()\n",
    "print(c)"
   ]
  },
  {
   "cell_type": "code",
   "execution_count": 33,
   "id": "33f382fa",
   "metadata": {},
   "outputs": [
    {
     "name": "stdout",
     "output_type": "stream",
     "text": [
      "Males : 537\n",
      "Females : 408\n"
     ]
    }
   ],
   "source": [
    "#solution 2 Using Arrays and loops\n",
    "df =pd.read_excel(\"HospitalDatabase.xlsx\",\"Patients\")\n",
    "countm = 0\n",
    "countf = 0\n",
    "for i in df['Gender']:\n",
    "    if(i==\"Male\"):\n",
    "        countm+=1\n",
    "    else:\n",
    "        countf+=1\n",
    "\n",
    "print(\"Males :\",countm)\n",
    "print(\"Females :\",countf)"
   ]
  },
  {
   "cell_type": "markdown",
   "id": "e3458e48",
   "metadata": {},
   "source": [
    "#### 25\tCreate bins to segregate Patients with 'Mild Hypertension','Moderate ','High Hypertension','Severe Hypertension'. Create a new column to show your analysis.  \n"
   ]
  },
  {
   "cell_type": "markdown",
   "id": "2c2d2812",
   "metadata": {},
   "source": [
    "#### 26\tPlot a graph to show the distribution of expected mortality.\n"
   ]
  },
  {
   "cell_type": "markdown",
   "id": "df959a9d",
   "metadata": {},
   "source": [
    "#### 27\tWhich departmentID has maximum number of visits scheduled.\n"
   ]
  },
  {
   "cell_type": "markdown",
   "id": "80998965",
   "metadata": {},
   "source": [
    "#### 28\tFind the visit type with maximum 'No Show'.\n"
   ]
  },
  {
   "cell_type": "markdown",
   "id": "f4b525e3",
   "metadata": {},
   "source": [
    "#### 29\tWhich demographic patients are prone to get stroke?\n"
   ]
  },
  {
   "cell_type": "markdown",
   "id": "b0e62c9f",
   "metadata": {},
   "source": [
    "#### 30\tUsing loc , get the details of the providers where providerId is between 11 and 20 and ProviderSpecialty is Surgery.\n"
   ]
  },
  {
   "cell_type": "markdown",
   "id": "28170a08",
   "metadata": {},
   "source": [
    "#### 31\tIf patient's gender is Female, add Ms.to the name and for male patients add Mr. to the name.\n"
   ]
  },
  {
   "cell_type": "markdown",
   "id": "f0036ea8",
   "metadata": {},
   "source": [
    "#### 32\tCreate a pie chart by taking Service= [\"ICU\", \"Neurology\", \"General\", \"Medicine\"] & ExpectedLOS=[10,5,7,9] & explode the wedge with highest LOS.\n"
   ]
  },
  {
   "cell_type": "markdown",
   "id": "4ebf9823",
   "metadata": {},
   "source": [
    "#### 33\tPlot a graph to show the distribution of expected length of stay.\n"
   ]
  },
  {
   "cell_type": "markdown",
   "id": "21c46672",
   "metadata": {},
   "source": [
    "#### 34\tCreate a WordCloud Chart with Reason For Visit.\n"
   ]
  },
  {
   "cell_type": "markdown",
   "id": "fb1b4136",
   "metadata": {},
   "source": [
    "#### 35\tnp.arange(1,31).reshape(6,5), find array slicing to get the elements 4,5,24,25,29,30. When the value is less than 6, print as -1,else print 99.\n"
   ]
  },
  {
   "cell_type": "markdown",
   "id": "b213107a",
   "metadata": {},
   "source": [
    "#### 36\tRetrieve the count of patients who are prone to hypertension crisis. (SBP>180 & DBP>120)\n"
   ]
  },
  {
   "cell_type": "markdown",
   "id": "b6bad1d9",
   "metadata": {},
   "source": [
    "#### 37\tDisplay the data where actual LOS is greater than expected LOS.\n"
   ]
  },
  {
   "cell_type": "markdown",
   "id": "9cc0ae8b",
   "metadata": {},
   "source": [
    "#### 38\tUsing loc, retrieve the firstname and lastname of patients between indices 101 and 200.\n"
   ]
  },
  {
   "cell_type": "markdown",
   "id": "b6a6f866",
   "metadata": {},
   "source": [
    "#### 39\tDelete the column 'DischargeDispostion' iteratively.\n"
   ]
  },
  {
   "cell_type": "markdown",
   "id": "956a9b4d",
   "metadata": {},
   "source": [
    "#### 40\tCreate a jointplot on expected mortality & expected length of stay."
   ]
  }
 ],
 "metadata": {
  "kernelspec": {
   "display_name": "Python 3 (ipykernel)",
   "language": "python",
   "name": "python3"
  },
  "language_info": {
   "codemirror_mode": {
    "name": "ipython",
    "version": 3
   },
   "file_extension": ".py",
   "mimetype": "text/x-python",
   "name": "python",
   "nbconvert_exporter": "python",
   "pygments_lexer": "ipython3",
   "version": "3.10.9"
  }
 },
 "nbformat": 4,
 "nbformat_minor": 5
}
