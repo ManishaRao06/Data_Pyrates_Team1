{
 "cells": [
  {
   "cell_type": "code",
   "execution_count": 1,
   "id": "cfee6e32",
   "metadata": {},
   "outputs": [],
   "source": [
    "#pip install panda\n",
    "#pip install matplotlib\n",
    "#pip install numpy\n",
    "#pip install seaborn\n",
    "#pip install colorama\n"
   ]
  },
  {
   "cell_type": "code",
   "execution_count": 2,
   "id": "3e286cb5",
   "metadata": {},
   "outputs": [],
   "source": [
    "import pandas as pd\n",
    "import numpy as np\n",
    "import seaborn as sns\n",
    "import matplotlib.pyplot as plt\n",
    "from matplotlib.gridspec import GridSpec\n",
    "import warnings\n",
    "warnings.filterwarnings('ignore')"
   ]
  },
  {
   "cell_type": "code",
   "execution_count": 3,
   "id": "ca7cb339",
   "metadata": {},
   "outputs": [],
   "source": [
    "df = pd.read_excel(\"HospitalDatabase.xlsx\")\n",
    "df_PA = pd.read_excel(\"HospitalDatabase.xlsx\", sheet_name = \"Patients\")\n",
    "df_ED = pd.read_excel(\"HospitalDatabase.xlsx\", sheet_name = \"EDVisits\")\n",
    "df_AmbV = pd.read_excel(\"HospitalDatabase.xlsx\", sheet_name =\"AmbulatoryVisits\")\n",
    "df_ReAd = pd.read_excel(\"HospitalDatabase.xlsx\", sheet_name = \"ReAdmissionRegistry\")\n",
    "df_Dis = pd.read_excel(\"HospitalDatabase.xlsx\", sheet_name = \"Discharges\")\n",
    "df_Pro = pd.read_excel(\"HospitalDatabase.xlsx\", sheet_name = \"Providers\")\n",
    "df_EDU = pd.read_excel(\"HospitalDatabase.xlsx\", sheet_name = \"EDUnique\")\n",
    "\n"
   ]
  },
  {
   "cell_type": "code",
   "execution_count": 5,
   "id": "150a44a2",
   "metadata": {},
   "outputs": [
    {
     "data": {
      "text/html": [
       "<div>\n",
       "<style scoped>\n",
       "    .dataframe tbody tr th:only-of-type {\n",
       "        vertical-align: middle;\n",
       "    }\n",
       "\n",
       "    .dataframe tbody tr th {\n",
       "        vertical-align: top;\n",
       "    }\n",
       "\n",
       "    .dataframe thead th {\n",
       "        text-align: right;\n",
       "    }\n",
       "</style>\n",
       "<table border=\"1\" class=\"dataframe\">\n",
       "  <thead>\n",
       "    <tr style=\"text-align: right;\">\n",
       "      <th></th>\n",
       "      <th>ProviderName</th>\n",
       "      <th>VisitType</th>\n",
       "    </tr>\n",
       "  </thead>\n",
       "  <tbody>\n",
       "    <tr>\n",
       "      <th>0</th>\n",
       "      <td>Ala Bama</td>\n",
       "      <td>Telemedicine</td>\n",
       "    </tr>\n",
       "    <tr>\n",
       "      <th>1</th>\n",
       "      <td>Barry Bar</td>\n",
       "      <td>Telemedicine</td>\n",
       "    </tr>\n",
       "    <tr>\n",
       "      <th>2</th>\n",
       "      <td>Harry Kane</td>\n",
       "      <td>Telemedicine</td>\n",
       "    </tr>\n",
       "    <tr>\n",
       "      <th>3</th>\n",
       "      <td>Jordan Michael</td>\n",
       "      <td>Telemedicine</td>\n",
       "    </tr>\n",
       "    <tr>\n",
       "      <th>4</th>\n",
       "      <td>Mike Myers</td>\n",
       "      <td>Telemedicine</td>\n",
       "    </tr>\n",
       "    <tr>\n",
       "      <th>5</th>\n",
       "      <td>Sally Sue</td>\n",
       "      <td>Telemedicine</td>\n",
       "    </tr>\n",
       "    <tr>\n",
       "      <th>6</th>\n",
       "      <td>Ted Black</td>\n",
       "      <td>Telemedicine</td>\n",
       "    </tr>\n",
       "    <tr>\n",
       "      <th>7</th>\n",
       "      <td>Ted Green</td>\n",
       "      <td>Telemedicine</td>\n",
       "    </tr>\n",
       "    <tr>\n",
       "      <th>8</th>\n",
       "      <td>Ted Texas</td>\n",
       "      <td>Telemedicine</td>\n",
       "    </tr>\n",
       "  </tbody>\n",
       "</table>\n",
       "</div>"
      ],
      "text/plain": [
       "     ProviderName     VisitType\n",
       "0        Ala Bama  Telemedicine\n",
       "1       Barry Bar  Telemedicine\n",
       "2      Harry Kane  Telemedicine\n",
       "3  Jordan Michael  Telemedicine\n",
       "4      Mike Myers  Telemedicine\n",
       "5       Sally Sue  Telemedicine\n",
       "6       Ted Black  Telemedicine\n",
       "7       Ted Green  Telemedicine\n",
       "8       Ted Texas  Telemedicine"
      ]
     },
     "execution_count": 5,
     "metadata": {},
     "output_type": "execute_result"
    }
   ],
   "source": [
    "#1 Which providers had a speciality of Pediatrics and used Telemedicine? Use SQL for it. \n",
    "\n",
    "import psycopg2 as ps\n",
    "import pandas.io.sql as sqlio\n",
    "\n",
    "conn2=ps.connect(dbname=\"HospitalDatabase\",\n",
    "\n",
    "user=\"postgres\",password= \"TinRoof33\",host=\"localhost\",\n",
    "\n",
    "port=\"5432\")\n",
    "                \n",
    "                 \n",
    " \n",
    "sql= \"\"\" SELECT DISTINCT p.\"ProviderName\", a.\"VisitType\" FROM \"AmbulatoryVisits\" as a\n",
    "JOIN \"Providers\" as p ON p.\"ProviderID\" = a.\"ProviderID\"\n",
    "WHERE a.\"VisitType\" = 'Telemedicine' AND p.\"ProviderSpeciality\" = 'Pediatrics' \"\"\"\n",
    "\n",
    "df=sqlio.read_sql_query(sql,conn2)\n",
    "\n",
    "df\n",
    "     \n",
    "\n",
    "\n"
   ]
  },
  {
   "cell_type": "code",
   "execution_count": 8,
   "id": "d8c403bd",
   "metadata": {},
   "outputs": [
    {
     "data": {
      "text/html": [
       "<div>\n",
       "<style scoped>\n",
       "    .dataframe tbody tr th:only-of-type {\n",
       "        vertical-align: middle;\n",
       "    }\n",
       "\n",
       "    .dataframe tbody tr th {\n",
       "        vertical-align: top;\n",
       "    }\n",
       "\n",
       "    .dataframe thead th {\n",
       "        text-align: right;\n",
       "    }\n",
       "</style>\n",
       "<table border=\"1\" class=\"dataframe\">\n",
       "  <thead>\n",
       "    <tr style=\"text-align: right;\">\n",
       "      <th></th>\n",
       "      <th>ProviderName</th>\n",
       "      <th>VisitType</th>\n",
       "      <th>ProviderDateOnStaff</th>\n",
       "    </tr>\n",
       "  </thead>\n",
       "  <tbody>\n",
       "    <tr>\n",
       "      <th>0</th>\n",
       "      <td>Justin Time</td>\n",
       "      <td>Physical</td>\n",
       "      <td>2006-06-21</td>\n",
       "    </tr>\n",
       "  </tbody>\n",
       "</table>\n",
       "</div>"
      ],
      "text/plain": [
       "  ProviderName VisitType ProviderDateOnStaff\n",
       "0  Justin Time  Physical          2006-06-21"
      ]
     },
     "execution_count": 8,
     "metadata": {},
     "output_type": "execute_result"
    }
   ],
   "source": [
    "#2 Who is the oldest doctor that did a physical? Connect to SQL. \n",
    "\n",
    "import psycopg2 as ps\n",
    "import pandas.io.sql as sqlio\n",
    "\n",
    "conn2=ps.connect(dbname=\"HospitalDatabase\",\n",
    "\n",
    "user=\"postgres\",password= \"TinRoof33\",host=\"localhost\",\n",
    "\n",
    "port=\"5432\")\n",
    "                \n",
    "                 \n",
    " \n",
    "sql= \"\"\" SELECT DISTINCT p.\"ProviderName\", a.\"VisitType\", p.\"ProviderDateOnStaff\" FROM \"AmbulatoryVisits\" as a\n",
    "JOIN \"Providers\" as p ON p.\"ProviderID\" = a.\"ProviderID\"\n",
    "WHERE a.\"VisitType\" = 'Physical' AND p.\"ProviderSpeciality\" = 'PrimaryCare'\n",
    "ORDER BY p.\"ProviderDateOnStaff\" ASC limit 1 \"\"\"\n",
    "\n",
    "df=sqlio.read_sql_query(sql,conn2)\n",
    "\n",
    "df\n"
   ]
  },
  {
   "cell_type": "code",
   "execution_count": null,
   "id": "1ad52ce0",
   "metadata": {},
   "outputs": [],
   "source": [
    "#3"
   ]
  },
  {
   "cell_type": "code",
   "execution_count": 9,
   "id": "bf359008",
   "metadata": {},
   "outputs": [],
   "source": [
    "#4\n"
   ]
  },
  {
   "cell_type": "code",
   "execution_count": null,
   "id": "5cb0624a",
   "metadata": {},
   "outputs": [],
   "source": [
    "#5"
   ]
  }
 ],
 "metadata": {
  "kernelspec": {
   "display_name": "Python 3 (ipykernel)",
   "language": "python",
   "name": "python3"
  },
  "language_info": {
   "codemirror_mode": {
    "name": "ipython",
    "version": 3
   },
   "file_extension": ".py",
   "mimetype": "text/x-python",
   "name": "python",
   "nbconvert_exporter": "python",
   "pygments_lexer": "ipython3",
   "version": "3.10.9"
  }
 },
 "nbformat": 4,
 "nbformat_minor": 5
}
