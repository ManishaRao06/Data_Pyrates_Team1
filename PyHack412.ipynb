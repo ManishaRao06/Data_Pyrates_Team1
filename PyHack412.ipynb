{
 "cells": [
  {
   "cell_type": "code",
   "execution_count": 3,
   "id": "dfcf2ff2",
   "metadata": {},
   "outputs": [],
   "source": [
    "import pandas as pd\n",
    "import numpy as np\n",
    "import seaborn as sns\n",
    "import matplotlib.pyplot as plt\n",
    "from matplotlib.gridspec import GridSpec\n",
    "import warnings\n",
    "warnings.filterwarnings('ignore')"
   ]
  },
  {
   "cell_type": "code",
   "execution_count": 16,
   "id": "a21f2add",
   "metadata": {},
   "outputs": [],
   "source": [
    "df = pd.read_excel(\"HospitalDatabase.xlsx\")\n",
    "df_PA = pd.read_excel(\"HospitalDatabase.xlsx\", sheet_name = \"Patients\")\n",
    "df_ED = pd.read_excel(\"HospitalDatabase.xlsx\", sheet_name = \"EDVisits\")\n",
    "df_AmbV = pd.read_excel(\"HospitalDatabase.xlsx\", sheet_name = \"AmbulatoryVisits\")\n",
    "df_ReAd = pd.read_excel(\"HospitalDatabase.xlsx\", sheet_name = \"ReAdmissionRegistry\")\n",
    "df_Dis = pd.read_excel(\"HospitalDatabase.xlsx\", sheet_name = \"Discharges\")\n",
    "df_Pro = pd.read_excel(\"HospitalDatabase.xlsx\", sheet_name = \"Providers\")\n",
    "df_EDU = pd.read_excel(\"HospitalDatabase.xlsx\", sheet_name = \"EDUnique\")\n",
    "\n",
    "\n"
   ]
  },
  {
   "cell_type": "code",
   "execution_count": null,
   "id": "98a6bc04",
   "metadata": {},
   "outputs": [],
   "source": [
    "#Calculate the time spent in ED Department for each visit.\n"
   ]
  },
  {
   "cell_type": "code",
   "execution_count": 18,
   "id": "2ecdd4a0",
   "metadata": {},
   "outputs": [
    {
     "name": "stdout",
     "output_type": "stream",
     "text": [
      "Service           PrimaryDiagnosis  \n",
      "Cardiology        AMI                   40\n",
      "                  Afib                  10\n",
      "                  Broken Leg             3\n",
      "                  Flu                    2\n",
      "                  Heart Failure         39\n",
      "                  Kidney Failure         1\n",
      "General Medicine  Broken Leg             3\n",
      "                  Diabetes              38\n",
      "                  Fever                 13\n",
      "                  Flu                   54\n",
      "                  Hypertension          34\n",
      "                  Kidney Failure        12\n",
      "                  Laceration            21\n",
      "                  Pneumonia             67\n",
      "                  Stroke                20\n",
      "Hospitalist       AMI                    1\n",
      "                  Broken Leg             3\n",
      "                  Diabetes              26\n",
      "                  Fever                  3\n",
      "                  Flu                   19\n",
      "                  Hypertension           6\n",
      "                  Kidney Failure         6\n",
      "                  Knee Replacement       1\n",
      "                  Laceration             7\n",
      "                  Pneumonia             28\n",
      "                  Stroke                 1\n",
      "ICU               AMI                    5\n",
      "                  Afib                   1\n",
      "                  Fever                  3\n",
      "                  Flu                    3\n",
      "                  Heart Failure         33\n",
      "                  Hypertension           4\n",
      "                  Kidney Failure         1\n",
      "                  Laceration             1\n",
      "                  Pneumonia             77\n",
      "                  Spinal Cord Injury     2\n",
      "                  Stroke                21\n",
      "Neurology         AMI                    2\n",
      "                  Flu                    2\n",
      "                  Heart Failure          6\n",
      "                  Hypertension           5\n",
      "                  Migraine              12\n",
      "                  Pain                   7\n",
      "                  Pneumonia              5\n",
      "                  Stroke                26\n",
      "Orthopeadics      Hip Fracture          23\n",
      "                  Knee Replacement      22\n",
      "Name: PatientID, dtype: int64\n"
     ]
    }
   ],
   "source": [
    "#Get the  number of patients based on service and primary diagnosis.\n",
    "\n",
    "result = df_ReAd.groupby(['Service','PrimaryDiagnosis'])['PatientID'].nunique()\n",
    "print(result)\n",
    "\n",
    "\n"
   ]
  },
  {
   "cell_type": "code",
   "execution_count": null,
   "id": "d706720a",
   "metadata": {},
   "outputs": [],
   "source": []
  }
 ],
 "metadata": {
  "kernelspec": {
   "display_name": "Python 3 (ipykernel)",
   "language": "python",
   "name": "python3"
  },
  "language_info": {
   "codemirror_mode": {
    "name": "ipython",
    "version": 3
   },
   "file_extension": ".py",
   "mimetype": "text/x-python",
   "name": "python",
   "nbconvert_exporter": "python",
   "pygments_lexer": "ipython3",
   "version": "3.10.9"
  }
 },
 "nbformat": 4,
 "nbformat_minor": 5
}
