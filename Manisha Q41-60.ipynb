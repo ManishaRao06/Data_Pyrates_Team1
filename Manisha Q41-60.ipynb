{
 "cells": [
  {
   "cell_type": "code",
   "execution_count": 1,
   "id": "2136696a",
   "metadata": {},
   "outputs": [],
   "source": [
    "# pip install panda\n",
    "# pip install matplotlib\n",
    "# pip install numpy\n",
    "# pip install seaborn\n",
    "# pip install colorama\n"
   ]
  },
  {
   "cell_type": "code",
   "execution_count": 2,
   "id": "02fa649d",
   "metadata": {},
   "outputs": [],
   "source": [
    "import pandas as pd\n",
    "import numpy as np\n",
    "import seaborn as sns\n",
    "import matplotlib.pyplot as plt\n",
    "from matplotlib.gridspec import GridSpec\n",
    "import warnings\n",
    "warnings.filterwarnings('ignore')"
   ]
  },
  {
   "cell_type": "code",
   "execution_count": 3,
   "id": "18d4d235",
   "metadata": {},
   "outputs": [],
   "source": [
    "df = pd.read_excel(\"HospitalDatabase.xlsx\")\n",
    "df_PA = pd.read_excel(\"HospitalDatabase.xlsx\", sheet_name = \"Patients\")\n",
    "df_ED = pd.read_excel(\"HospitalDatabase.xlsx\", sheet_name = \"EDVisits\")\n",
    "df_AmbV = pd.read_excel(\"HospitalDatabase.xlsx\", sheet_name = \"AmbulatoryVisits\")\n",
    "df_ReAd = pd.read_excel(\"HospitalDatabase.xlsx\", sheet_name = \"ReAdmissionRegistry\")\n",
    "df_Dis = pd.read_excel(\"HospitalDatabase.xlsx\", sheet_name = \"Discharges\")\n",
    "df_Pro = pd.read_excel(\"HospitalDatabase.xlsx\", sheet_name = \"Providers\")\n",
    "df_EDU = pd.read_excel(\"HospitalDatabase.xlsx\", sheet_name = \"EDUnique\")\n"
   ]
  },
  {
   "cell_type": "markdown",
   "id": "e0a753f6",
   "metadata": {},
   "source": [
    "<div class=\"alert alert-block alert-warning\"><b>Question 41:</b> Find the age prone to get stroke."
   ]
  },
  {
   "cell_type": "code",
   "execution_count": 4,
   "id": "03a53817",
   "metadata": {},
   "outputs": [
    {
     "name": "stdout",
     "output_type": "stream",
     "text": [
      "The age 58.0 prone to stroke\n"
     ]
    }
   ],
   "source": [
    "df_stroke = df_ReAd[['PatientID', 'PrimaryDiagnosis']].loc[df_ReAd.PrimaryDiagnosis == 'Stroke']\n",
    "df_stroke \n",
    "#calculating age\n",
    "df_age = pd.DataFrame(df_PA.PatientID)\n",
    "now = pd.Timestamp('now')\n",
    "df_age ['Age'] = (now - df_PA['DateOfBirth']).astype('<m8[Y]')\n",
    "df_age .sort_values('Age')\n",
    "df_strokeAge = df_age.merge(df_stroke , how = 'inner')[['Age','PrimaryDiagnosis']]\n",
    "#df_strokeAge ['AgeRange'] = pd.cut(x=df_strokeAge ['Age'], bins=[35, 45, 55, 65])\n",
    "df_strokeAge  = df_strokeAge .groupby('Age')['PrimaryDiagnosis'].count().sort_values(ascending = False)\n",
    "df_strokeAge \n",
    "print('The age', df_strokeAge.index[0], 'prone to stroke')"
   ]
  },
  {
   "cell_type": "markdown",
   "id": "b53c05cd",
   "metadata": {},
   "source": [
    "<span style=\"color:#00008B;\"> Qs 42: Calculate mortality by diagnosis. </span>"
   ]
  },
  {
   "cell_type": "code",
   "execution_count": 5,
   "id": "9ffee25f",
   "metadata": {},
   "outputs": [
    {
     "data": {
      "text/html": [
       "<div>\n",
       "<style scoped>\n",
       "    .dataframe tbody tr th:only-of-type {\n",
       "        vertical-align: middle;\n",
       "    }\n",
       "\n",
       "    .dataframe tbody tr th {\n",
       "        vertical-align: top;\n",
       "    }\n",
       "\n",
       "    .dataframe thead th {\n",
       "        text-align: right;\n",
       "    }\n",
       "</style>\n",
       "<table border=\"1\" class=\"dataframe\">\n",
       "  <thead>\n",
       "    <tr style=\"text-align: right;\">\n",
       "      <th></th>\n",
       "      <th>DischargeDisposition</th>\n",
       "    </tr>\n",
       "    <tr>\n",
       "      <th>PrimaryDiagnosis</th>\n",
       "      <th></th>\n",
       "    </tr>\n",
       "  </thead>\n",
       "  <tbody>\n",
       "    <tr>\n",
       "      <th>AMI</th>\n",
       "      <td>0.008333</td>\n",
       "    </tr>\n",
       "    <tr>\n",
       "      <th>Afib</th>\n",
       "      <td>0.002778</td>\n",
       "    </tr>\n",
       "    <tr>\n",
       "      <th>Broken Leg</th>\n",
       "      <td>0.001389</td>\n",
       "    </tr>\n",
       "    <tr>\n",
       "      <th>Diabetes</th>\n",
       "      <td>0.006944</td>\n",
       "    </tr>\n",
       "    <tr>\n",
       "      <th>Fever</th>\n",
       "      <td>0.002778</td>\n",
       "    </tr>\n",
       "    <tr>\n",
       "      <th>Flu</th>\n",
       "      <td>0.033333</td>\n",
       "    </tr>\n",
       "    <tr>\n",
       "      <th>Heart Failure</th>\n",
       "      <td>0.011111</td>\n",
       "    </tr>\n",
       "    <tr>\n",
       "      <th>Hip Fracture</th>\n",
       "      <td>0.002778</td>\n",
       "    </tr>\n",
       "    <tr>\n",
       "      <th>Hypertension</th>\n",
       "      <td>0.004167</td>\n",
       "    </tr>\n",
       "    <tr>\n",
       "      <th>Kidney Failure</th>\n",
       "      <td>0.013889</td>\n",
       "    </tr>\n",
       "    <tr>\n",
       "      <th>Knee Replacement</th>\n",
       "      <td>0.005556</td>\n",
       "    </tr>\n",
       "    <tr>\n",
       "      <th>Laceration</th>\n",
       "      <td>0.001389</td>\n",
       "    </tr>\n",
       "    <tr>\n",
       "      <th>Migraine</th>\n",
       "      <td>0.001389</td>\n",
       "    </tr>\n",
       "    <tr>\n",
       "      <th>Pain</th>\n",
       "      <td>0.001389</td>\n",
       "    </tr>\n",
       "    <tr>\n",
       "      <th>Pneumonia</th>\n",
       "      <td>0.027778</td>\n",
       "    </tr>\n",
       "    <tr>\n",
       "      <th>Stroke</th>\n",
       "      <td>0.019444</td>\n",
       "    </tr>\n",
       "  </tbody>\n",
       "</table>\n",
       "</div>"
      ],
      "text/plain": [
       "                  DischargeDisposition\n",
       "PrimaryDiagnosis                      \n",
       "AMI                           0.008333\n",
       "Afib                          0.002778\n",
       "Broken Leg                    0.001389\n",
       "Diabetes                      0.006944\n",
       "Fever                         0.002778\n",
       "Flu                           0.033333\n",
       "Heart Failure                 0.011111\n",
       "Hip Fracture                  0.002778\n",
       "Hypertension                  0.004167\n",
       "Kidney Failure                0.013889\n",
       "Knee Replacement              0.005556\n",
       "Laceration                    0.001389\n",
       "Migraine                      0.001389\n",
       "Pain                          0.001389\n",
       "Pneumonia                     0.027778\n",
       "Stroke                        0.019444"
      ]
     },
     "execution_count": 5,
     "metadata": {},
     "output_type": "execute_result"
    }
   ],
   "source": [
    "df_ReAd = pd.read_excel(\"HospitalDatabase.xlsx\", sheet_name = \"ReAdmissionRegistry\")\n",
    "new_df = df_ReAd[['PrimaryDiagnosis', 'DischargeDisposition']].loc[df_Dis.DischargeDisposition == 'Expired'].groupby('PrimaryDiagnosis').count()\n",
    "new_df\n",
    "dis_count = len(df_Dis)\n",
    "mortality_bydiagnosis = new_df/dis_count\n",
    "mortality_bydiagnosis "
   ]
  },
  {
   "cell_type": "markdown",
   "id": "3f13702b",
   "metadata": {},
   "source": [
    "<span style=\"color:#00008B;\"> Qs 43: Details of the patients whose firstname or lastname contains string \"lau\" , should be case insensitive. </span>"
   ]
  },
  {
   "cell_type": "code",
   "execution_count": 6,
   "id": "f4ca1f35",
   "metadata": {
    "scrolled": true
   },
   "outputs": [
    {
     "data": {
      "text/html": [
       "<div>\n",
       "<style scoped>\n",
       "    .dataframe tbody tr th:only-of-type {\n",
       "        vertical-align: middle;\n",
       "    }\n",
       "\n",
       "    .dataframe tbody tr th {\n",
       "        vertical-align: top;\n",
       "    }\n",
       "\n",
       "    .dataframe thead th {\n",
       "        text-align: right;\n",
       "    }\n",
       "</style>\n",
       "<table border=\"1\" class=\"dataframe\">\n",
       "  <thead>\n",
       "    <tr style=\"text-align: right;\">\n",
       "      <th></th>\n",
       "      <th>PatientID</th>\n",
       "      <th>FirstName</th>\n",
       "      <th>LastName</th>\n",
       "      <th>DateOfBirth</th>\n",
       "      <th>Gender</th>\n",
       "      <th>Race</th>\n",
       "      <th>Language</th>\n",
       "      <th>FL</th>\n",
       "    </tr>\n",
       "  </thead>\n",
       "  <tbody>\n",
       "    <tr>\n",
       "      <th>282</th>\n",
       "      <td>283.0</td>\n",
       "      <td>Lauren</td>\n",
       "      <td>Gaskal</td>\n",
       "      <td>1962-05-08 01:54:00.111</td>\n",
       "      <td>Female</td>\n",
       "      <td>Black/African-American</td>\n",
       "      <td>English</td>\n",
       "      <td>True</td>\n",
       "    </tr>\n",
       "    <tr>\n",
       "      <th>322</th>\n",
       "      <td>323.0</td>\n",
       "      <td>Lauren</td>\n",
       "      <td>Foort</td>\n",
       "      <td>1960-06-23 20:07:53.045</td>\n",
       "      <td>Female</td>\n",
       "      <td>White</td>\n",
       "      <td>English</td>\n",
       "      <td>True</td>\n",
       "    </tr>\n",
       "    <tr>\n",
       "      <th>369</th>\n",
       "      <td>370.0</td>\n",
       "      <td>Zulauf</td>\n",
       "      <td>Ellingham</td>\n",
       "      <td>1982-12-17 16:27:56.391</td>\n",
       "      <td>Female</td>\n",
       "      <td>White</td>\n",
       "      <td>English</td>\n",
       "      <td>True</td>\n",
       "    </tr>\n",
       "    <tr>\n",
       "      <th>382</th>\n",
       "      <td>383.0</td>\n",
       "      <td>Zulauf</td>\n",
       "      <td>LLC</td>\n",
       "      <td>1969-03-16 07:48:49.338</td>\n",
       "      <td>Female</td>\n",
       "      <td>White</td>\n",
       "      <td>English</td>\n",
       "      <td>True</td>\n",
       "    </tr>\n",
       "    <tr>\n",
       "      <th>454</th>\n",
       "      <td>455.0</td>\n",
       "      <td>Zulauf</td>\n",
       "      <td>Alvar</td>\n",
       "      <td>1961-10-02 08:24:17.334</td>\n",
       "      <td>Female</td>\n",
       "      <td>White</td>\n",
       "      <td>English</td>\n",
       "      <td>True</td>\n",
       "    </tr>\n",
       "    <tr>\n",
       "      <th>463</th>\n",
       "      <td>464.0</td>\n",
       "      <td>Zulauf</td>\n",
       "      <td>Manske</td>\n",
       "      <td>1965-06-22 02:49:28.667</td>\n",
       "      <td>Female</td>\n",
       "      <td>White</td>\n",
       "      <td>English</td>\n",
       "      <td>True</td>\n",
       "    </tr>\n",
       "    <tr>\n",
       "      <th>818</th>\n",
       "      <td>819.0</td>\n",
       "      <td>Zulauf</td>\n",
       "      <td>Bitcheno</td>\n",
       "      <td>1967-04-02 07:17:53.635</td>\n",
       "      <td>Female</td>\n",
       "      <td>White</td>\n",
       "      <td>English</td>\n",
       "      <td>True</td>\n",
       "    </tr>\n",
       "    <tr>\n",
       "      <th>830</th>\n",
       "      <td>831.0</td>\n",
       "      <td>Zulauf</td>\n",
       "      <td>O'Shavlan</td>\n",
       "      <td>1970-05-17 08:09:28.988</td>\n",
       "      <td>Female</td>\n",
       "      <td>White</td>\n",
       "      <td>English</td>\n",
       "      <td>True</td>\n",
       "    </tr>\n",
       "    <tr>\n",
       "      <th>850</th>\n",
       "      <td>851.0</td>\n",
       "      <td>Lemmy</td>\n",
       "      <td>Klausen</td>\n",
       "      <td>1973-06-18 06:19:43.475</td>\n",
       "      <td>Female</td>\n",
       "      <td>White</td>\n",
       "      <td>English</td>\n",
       "      <td>True</td>\n",
       "    </tr>\n",
       "    <tr>\n",
       "      <th>906</th>\n",
       "      <td>907.0</td>\n",
       "      <td>Jerrilyn</td>\n",
       "      <td>Klausen</td>\n",
       "      <td>1979-09-04 13:05:57.870</td>\n",
       "      <td>Male</td>\n",
       "      <td>Black/African-American</td>\n",
       "      <td>English</td>\n",
       "      <td>True</td>\n",
       "    </tr>\n",
       "    <tr>\n",
       "      <th>910</th>\n",
       "      <td>911.0</td>\n",
       "      <td>Zulauf</td>\n",
       "      <td>Orbine</td>\n",
       "      <td>1973-06-26 03:13:50.449</td>\n",
       "      <td>Male</td>\n",
       "      <td>Black/African-American</td>\n",
       "      <td>English</td>\n",
       "      <td>True</td>\n",
       "    </tr>\n",
       "  </tbody>\n",
       "</table>\n",
       "</div>"
      ],
      "text/plain": [
       "     PatientID FirstName   LastName             DateOfBirth  Gender  \\\n",
       "282      283.0    Lauren     Gaskal 1962-05-08 01:54:00.111  Female   \n",
       "322      323.0    Lauren      Foort 1960-06-23 20:07:53.045  Female   \n",
       "369      370.0    Zulauf  Ellingham 1982-12-17 16:27:56.391  Female   \n",
       "382      383.0    Zulauf        LLC 1969-03-16 07:48:49.338  Female   \n",
       "454      455.0    Zulauf      Alvar 1961-10-02 08:24:17.334  Female   \n",
       "463      464.0    Zulauf     Manske 1965-06-22 02:49:28.667  Female   \n",
       "818      819.0    Zulauf   Bitcheno 1967-04-02 07:17:53.635  Female   \n",
       "830      831.0    Zulauf  O'Shavlan 1970-05-17 08:09:28.988  Female   \n",
       "850      851.0     Lemmy    Klausen 1973-06-18 06:19:43.475  Female   \n",
       "906      907.0  Jerrilyn    Klausen 1979-09-04 13:05:57.870    Male   \n",
       "910      911.0    Zulauf     Orbine 1973-06-26 03:13:50.449    Male   \n",
       "\n",
       "                       Race Language    FL  \n",
       "282  Black/African-American  English  True  \n",
       "322                   White  English  True  \n",
       "369                   White  English  True  \n",
       "382                   White  English  True  \n",
       "454                   White  English  True  \n",
       "463                   White  English  True  \n",
       "818                   White  English  True  \n",
       "830                   White  English  True  \n",
       "850                   White  English  True  \n",
       "906  Black/African-American  English  True  \n",
       "910  Black/African-American  English  True  "
      ]
     },
     "execution_count": 6,
     "metadata": {},
     "output_type": "execute_result"
    }
   ],
   "source": [
    "df_PA['FL'] = df_PA['FirstName'].str.contains('lau',case=False)| df_PA['LastName'].str.contains('lau',case=False)\n",
    "(df_PA[(df_PA['FL']==True)])\n"
   ]
  },
  {
   "cell_type": "markdown",
   "id": "6ae8b7f7",
   "metadata": {},
   "source": [
    "<span style=\"color:#00008B;\"> Qs 44: Display data by splitting age in 4 quartiles and labeling the quartiles. </span>"
   ]
  },
  {
   "cell_type": "code",
   "execution_count": 7,
   "id": "6c92a724",
   "metadata": {},
   "outputs": [
    {
     "name": "stdout",
     "output_type": "stream",
     "text": [
      "       Age\n",
      "0.25  43.0\n",
      "0.50  49.0\n",
      "0.75  56.0\n",
      "1.00  63.0\n"
     ]
    },
    {
     "data": {
      "image/png": "[encoded data removed]",
      "text/plain": [
       "<Figure size 432x288 with 1 Axes>"
      ]
     },
     "metadata": {
      "needs_background": "light"
     },
     "output_type": "display_data"
    }
   ],
   "source": [
    "import numpy as np\n",
    "import statsmodels.api as sm\n",
    "import pylab as py\n",
    "age_quant= pd. DataFrame()\n",
    "now = pd.Timestamp('now')\n",
    "age_quant['Age'] = (now - pd.to_datetime(df_PA['DateOfBirth'], format='%m%d%y')).astype('<m8[Y]')\n",
    "age_quant\n",
    "age_quant1 = age_quant.quantile([.25, .5, .75 , 1.00])\n",
    "print(age_quant1)\n",
    "\n",
    "split_quantiles = np.array(age_quant1)    \n",
    "  \n",
    "sm.qqplot(split_quantiles)\n",
    "py.show()"
   ]
  },
  {
   "cell_type": "markdown",
   "id": "58bfa9c2",
   "metadata": {},
   "source": [
    "<span style=\"color:#00008B;\"> Qs 45: Usage of Enumeration in Python with any example. </span>"
   ]
  },
  {
   "cell_type": "code",
   "execution_count": null,
   "id": "f80a9fb1",
   "metadata": {},
   "outputs": [],
   "source": []
  },
  {
   "cell_type": "markdown",
   "id": "e345a0ba",
   "metadata": {},
   "source": [
    "<span style=\"color:  #00008B;\"> Qs 46: Count of canceled status. </span>"
   ]
  },
  {
   "cell_type": "code",
   "execution_count": 8,
   "id": "c4cc62dd",
   "metadata": {
    "scrolled": true
   },
   "outputs": [
    {
     "name": "stdout",
     "output_type": "stream",
     "text": [
      "Number of patients whose visit status are canceled:  60\n"
     ]
    }
   ],
   "source": [
    "canceled_status = len(df_AmbV[df_AmbV['VisitStatus'] == 'Canceled'])\n",
    "\n",
    "print(\"Number of patients whose visit status are canceled: \",canceled_status)"
   ]
  },
  {
   "cell_type": "markdown",
   "id": "6f4dc4a3",
   "metadata": {},
   "source": [
    "<span style=\"color:#00008B;\"> Qs 47: Display the patient details with maximum pulse pressure. </span>"
   ]
  },
  {
   "cell_type": "code",
   "execution_count": null,
   "id": "a5f0d134",
   "metadata": {},
   "outputs": [],
   "source": []
  },
  {
   "cell_type": "markdown",
   "id": "bd0c7340",
   "metadata": {},
   "source": [
    "<span style=\"color:#00008B;\"> Qs 48:  Create a heat map to show the correlation between the column values of Edvisits. </span>"
   ]
  },
  {
   "cell_type": "code",
   "execution_count": 9,
   "id": "9c103e96",
   "metadata": {},
   "outputs": [
    {
     "data": {
      "text/plain": [
       "<AxesSubplot:title={'center':'Correlation Heatmap'}>"
      ]
     },
     "execution_count": 9,
     "metadata": {},
     "output_type": "execute_result"
    },
    {
     "data": {
      "image/png": "[encoded data removed]",
      "text/plain": [
       "<Figure size 432x288 with 4 Axes>"
      ]
     },
     "metadata": {
      "needs_background": "light"
     },
     "output_type": "display_data"
    }
   ],
   "source": [
    "import seaborn as sns\n",
    "df_ED = pd.read_excel(\"HospitalDatabase.xlsx\", sheet_name = \"EDVisits\")\n",
    "df_ED.corr()\n",
    "sns.heatmap(df_ED.corr());\n",
    "sns.heatmap(df_ED.corr()).set_title('Correlation Heatmap', fontdict={'fontsize':12}, pad=12);\n",
    "sns.heatmap(df_ED.corr(), vmin=-1, vmax=1, annot=True)\n"
   ]
  },
  {
   "cell_type": "markdown",
   "id": "cce352bb",
   "metadata": {},
   "source": [
    "<span style=\"color:#00008B;\"> Qs 49:  Plot a graph by counting the no. of patients in each department. </span>"
   ]
  },
  {
   "cell_type": "code",
   "execution_count": 10,
   "id": "01458648",
   "metadata": {},
   "outputs": [
    {
     "data": {
      "image/png": "[encoded data removed]",
      "text/plain": [
       "<Figure size 432x288 with 1 Axes>"
      ]
     },
     "metadata": {
      "needs_background": "light"
     },
     "output_type": "display_data"
    }
   ],
   "source": [
    "PI=sns.countplot(x='VisitDepartmentID',data=df_AmbV)\n",
    "PI.bar_label(PI.containers[0],label_type='edge')\n",
    "plt.title('No. of Patients Visited the Department')\n",
    "plt.xlabel('Department ID') and plt.ylabel('No of Patients')\n",
    "\n",
    "plt.show()\n"
   ]
  },
  {
   "cell_type": "markdown",
   "id": "3d55797e",
   "metadata": {},
   "source": [
    "<span style=\"color:#00008B;\"> Qs 50:  Display patient details where \"ReasonForVisit\" is either 'Migraine' or 'Pneumonia' and Acuity is 2 or more. </span>"
   ]
  },
  {
   "cell_type": "code",
   "execution_count": null,
   "id": "8fd28492",
   "metadata": {},
   "outputs": [],
   "source": []
  },
  {
   "cell_type": "markdown",
   "id": "cacbe18f",
   "metadata": {},
   "source": [
    "<span style=\"color:#00008B;\"> Qs 51:  Take the ReasonForVisit from user, find the number of patients admitted with that ReasonForVisit. </span>"
   ]
  },
  {
   "cell_type": "code",
   "execution_count": null,
   "id": "9fb68fcb",
   "metadata": {},
   "outputs": [],
   "source": []
  },
  {
   "cell_type": "markdown",
   "id": "d7374e83",
   "metadata": {},
   "source": [
    "<span style=\"color:#00008B;\"> Qs 52  Using indexing , loc to retrieve the row with maximum BloodPressureSystolic. </span>"
   ]
  },
  {
   "cell_type": "code",
   "execution_count": 11,
   "id": "428072dc",
   "metadata": {},
   "outputs": [
    {
     "data": {
      "text/html": [
       "<div>\n",
       "<style scoped>\n",
       "    .dataframe tbody tr th:only-of-type {\n",
       "        vertical-align: middle;\n",
       "    }\n",
       "\n",
       "    .dataframe tbody tr th {\n",
       "        vertical-align: top;\n",
       "    }\n",
       "\n",
       "    .dataframe thead th {\n",
       "        text-align: right;\n",
       "    }\n",
       "</style>\n",
       "<table border=\"1\" class=\"dataframe\">\n",
       "  <thead>\n",
       "    <tr style=\"text-align: right;\">\n",
       "      <th></th>\n",
       "      <th>VisitID</th>\n",
       "      <th>PatientMRN</th>\n",
       "      <th>ProviderID</th>\n",
       "      <th>DateofVisit</th>\n",
       "      <th>DateScheduled</th>\n",
       "      <th>VisitDepartmentID</th>\n",
       "      <th>VisitType</th>\n",
       "      <th>BloodPressureSystolic</th>\n",
       "      <th>BloodPressureDiastolic</th>\n",
       "      <th>Pulse</th>\n",
       "      <th>VisitStatus</th>\n",
       "    </tr>\n",
       "  </thead>\n",
       "  <tbody>\n",
       "    <tr>\n",
       "      <th>236</th>\n",
       "      <td>933.0</td>\n",
       "      <td>884.0</td>\n",
       "      <td>27.0</td>\n",
       "      <td>2019-02-14</td>\n",
       "      <td>2019-01-22 19:26:49.163</td>\n",
       "      <td>12.0</td>\n",
       "      <td>Telemedicine</td>\n",
       "      <td>190.0</td>\n",
       "      <td>143.989174</td>\n",
       "      <td>74.976879</td>\n",
       "      <td>Completed</td>\n",
       "    </tr>\n",
       "    <tr>\n",
       "      <th>251</th>\n",
       "      <td>888.0</td>\n",
       "      <td>906.0</td>\n",
       "      <td>24.0</td>\n",
       "      <td>2019-03-31</td>\n",
       "      <td>2019-03-17 23:21:17.361</td>\n",
       "      <td>10.0</td>\n",
       "      <td>New</td>\n",
       "      <td>190.0</td>\n",
       "      <td>137.207999</td>\n",
       "      <td>52.666922</td>\n",
       "      <td>Completed</td>\n",
       "    </tr>\n",
       "    <tr>\n",
       "      <th>424</th>\n",
       "      <td>314.0</td>\n",
       "      <td>63.0</td>\n",
       "      <td>7.0</td>\n",
       "      <td>2019-04-05</td>\n",
       "      <td>2019-03-24 22:31:26.092</td>\n",
       "      <td>11.0</td>\n",
       "      <td>Telemedicine</td>\n",
       "      <td>190.0</td>\n",
       "      <td>121.539859</td>\n",
       "      <td>95.471260</td>\n",
       "      <td>Completed</td>\n",
       "    </tr>\n",
       "    <tr>\n",
       "      <th>432</th>\n",
       "      <td>740.0</td>\n",
       "      <td>892.0</td>\n",
       "      <td>31.0</td>\n",
       "      <td>2019-03-14</td>\n",
       "      <td>2019-03-11 15:08:33.963</td>\n",
       "      <td>8.0</td>\n",
       "      <td>Physical</td>\n",
       "      <td>190.0</td>\n",
       "      <td>145.343479</td>\n",
       "      <td>94.849021</td>\n",
       "      <td>Completed</td>\n",
       "    </tr>\n",
       "    <tr>\n",
       "      <th>677</th>\n",
       "      <td>929.0</td>\n",
       "      <td>880.0</td>\n",
       "      <td>23.0</td>\n",
       "      <td>2019-02-10</td>\n",
       "      <td>2019-01-22 13:32:14.549</td>\n",
       "      <td>8.0</td>\n",
       "      <td>Follow Up</td>\n",
       "      <td>190.0</td>\n",
       "      <td>144.313400</td>\n",
       "      <td>82.781940</td>\n",
       "      <td>Completed</td>\n",
       "    </tr>\n",
       "    <tr>\n",
       "      <th>869</th>\n",
       "      <td>839.0</td>\n",
       "      <td>857.0</td>\n",
       "      <td>12.0</td>\n",
       "      <td>2019-03-17</td>\n",
       "      <td>2019-02-23 09:05:43.676</td>\n",
       "      <td>8.0</td>\n",
       "      <td>Follow Up</td>\n",
       "      <td>190.0</td>\n",
       "      <td>130.997386</td>\n",
       "      <td>71.829542</td>\n",
       "      <td>Completed</td>\n",
       "    </tr>\n",
       "    <tr>\n",
       "      <th>934</th>\n",
       "      <td>482.0</td>\n",
       "      <td>866.0</td>\n",
       "      <td>14.0</td>\n",
       "      <td>2019-05-04</td>\n",
       "      <td>2019-04-13 07:54:49.580</td>\n",
       "      <td>5.0</td>\n",
       "      <td>New</td>\n",
       "      <td>190.0</td>\n",
       "      <td>124.736359</td>\n",
       "      <td>69.731779</td>\n",
       "      <td>Canceled</td>\n",
       "    </tr>\n",
       "  </tbody>\n",
       "</table>\n",
       "</div>"
      ],
      "text/plain": [
       "     VisitID  PatientMRN  ProviderID DateofVisit           DateScheduled  \\\n",
       "236    933.0       884.0        27.0  2019-02-14 2019-01-22 19:26:49.163   \n",
       "251    888.0       906.0        24.0  2019-03-31 2019-03-17 23:21:17.361   \n",
       "424    314.0        63.0         7.0  2019-04-05 2019-03-24 22:31:26.092   \n",
       "432    740.0       892.0        31.0  2019-03-14 2019-03-11 15:08:33.963   \n",
       "677    929.0       880.0        23.0  2019-02-10 2019-01-22 13:32:14.549   \n",
       "869    839.0       857.0        12.0  2019-03-17 2019-02-23 09:05:43.676   \n",
       "934    482.0       866.0        14.0  2019-05-04 2019-04-13 07:54:49.580   \n",
       "\n",
       "     VisitDepartmentID     VisitType  BloodPressureSystolic  \\\n",
       "236               12.0  Telemedicine                  190.0   \n",
       "251               10.0           New                  190.0   \n",
       "424               11.0  Telemedicine                  190.0   \n",
       "432                8.0      Physical                  190.0   \n",
       "677                8.0     Follow Up                  190.0   \n",
       "869                8.0     Follow Up                  190.0   \n",
       "934                5.0           New                  190.0   \n",
       "\n",
       "     BloodPressureDiastolic      Pulse VisitStatus  \n",
       "236              143.989174  74.976879   Completed  \n",
       "251              137.207999  52.666922   Completed  \n",
       "424              121.539859  95.471260   Completed  \n",
       "432              145.343479  94.849021   Completed  \n",
       "677              144.313400  82.781940   Completed  \n",
       "869              130.997386  71.829542   Completed  \n",
       "934              124.736359  69.731779    Canceled  "
      ]
     },
     "execution_count": 11,
     "metadata": {},
     "output_type": "execute_result"
    }
   ],
   "source": [
    "df_AmbV.iloc[df_AmbV[df_AmbV['BloodPressureSystolic']==df_AmbV['BloodPressureSystolic'].max()].index]"
   ]
  },
  {
   "cell_type": "markdown",
   "id": "01404663",
   "metadata": {},
   "source": [
    "<span style=\"color:#00008B;\"> Qs 53: Plot a graph by multiplotting on the same canvas . </span>"
   ]
  },
  {
   "cell_type": "code",
   "execution_count": 12,
   "id": "fcccb376",
   "metadata": {},
   "outputs": [
    {
     "data": {
      "image/png": "[encoded data removed]",
      "text/plain": [
       "<Figure size 1080x432 with 1 Axes>"
      ]
     },
     "metadata": {
      "needs_background": "light"
     },
     "output_type": "display_data"
    }
   ],
   "source": [
    "plt.figure(figsize=(15,6))\n",
    "sns.set(style=\"darkgrid\")\n",
    "\n",
    "x1 = [1,2,3,4,5,6,7]\n",
    "y1 = [2,4,1,5,7,3,2]\n",
    "# plotting the line 1 points \n",
    "plt.plot(x1, y1, label = \"line 1\")  \n",
    "# line 2 points\n",
    "x2 = [1,2,3,4,5,6,7]\n",
    "y2 = [4,1,3,8,2,7,9]\n",
    "# plotting the line 2 points \n",
    "plt.plot(x2, y2, label = \"line 2\")  \n",
    "# naming the x axis\n",
    "plt.xlabel('x - axis')\n",
    "# naming the y axis\n",
    "plt.ylabel('y - axis')\n",
    "# giving a title to my graph\n",
    "plt.title('Two lines on same graph!')  \n",
    "# show a legend on the plot\n",
    "plt.legend()  \n",
    "# function to show the plot\n",
    "plt.show() \n"
   ]
  },
  {
   "cell_type": "markdown",
   "id": "0d25bc70",
   "metadata": {},
   "source": [
    "<span style=\"color:#00008B;\"> Qs 54: Retrieve the row with minimum DBP using sorting technique. </span> "
   ]
  },
  {
   "cell_type": "code",
   "execution_count": 13,
   "id": "df8f40ee",
   "metadata": {},
   "outputs": [
    {
     "data": {
      "text/html": [
       "<div>\n",
       "<style scoped>\n",
       "    .dataframe tbody tr th:only-of-type {\n",
       "        vertical-align: middle;\n",
       "    }\n",
       "\n",
       "    .dataframe tbody tr th {\n",
       "        vertical-align: top;\n",
       "    }\n",
       "\n",
       "    .dataframe thead th {\n",
       "        text-align: right;\n",
       "    }\n",
       "</style>\n",
       "<table border=\"1\" class=\"dataframe\">\n",
       "  <thead>\n",
       "    <tr style=\"text-align: right;\">\n",
       "      <th></th>\n",
       "      <th>VisitID</th>\n",
       "      <th>PatientMRN</th>\n",
       "      <th>ProviderID</th>\n",
       "      <th>DateofVisit</th>\n",
       "      <th>DateScheduled</th>\n",
       "      <th>VisitDepartmentID</th>\n",
       "      <th>VisitType</th>\n",
       "      <th>BloodPressureSystolic</th>\n",
       "      <th>BloodPressureDiastolic</th>\n",
       "      <th>Pulse</th>\n",
       "      <th>VisitStatus</th>\n",
       "    </tr>\n",
       "  </thead>\n",
       "  <tbody>\n",
       "    <tr>\n",
       "      <th>757</th>\n",
       "      <td>163.0</td>\n",
       "      <td>801.0</td>\n",
       "      <td>11.0</td>\n",
       "      <td>2019-02-08</td>\n",
       "      <td>2019-02-07 23:41:12.181</td>\n",
       "      <td>7.0</td>\n",
       "      <td>Follow Up</td>\n",
       "      <td>120.0</td>\n",
       "      <td>51.695653</td>\n",
       "      <td>53.310495</td>\n",
       "      <td>Completed</td>\n",
       "    </tr>\n",
       "  </tbody>\n",
       "</table>\n",
       "</div>"
      ],
      "text/plain": [
       "     VisitID  PatientMRN  ProviderID DateofVisit           DateScheduled  \\\n",
       "757    163.0       801.0        11.0  2019-02-08 2019-02-07 23:41:12.181   \n",
       "\n",
       "     VisitDepartmentID  VisitType  BloodPressureSystolic  \\\n",
       "757                7.0  Follow Up                  120.0   \n",
       "\n",
       "     BloodPressureDiastolic      Pulse VisitStatus  \n",
       "757               51.695653  53.310495   Completed  "
      ]
     },
     "execution_count": 13,
     "metadata": {},
     "output_type": "execute_result"
    }
   ],
   "source": [
    "df_AmbV.sort_values(\"BloodPressureDiastolic\", ascending=True).head(1)\n",
    "#df_AmbV.nsmallest(1, \"BloodPressureDiastolic\") "
   ]
  },
  {
   "cell_type": "markdown",
   "id": "5a7ac969",
   "metadata": {},
   "source": [
    "<span style=\"color:#00008B;\">Qs 55: Replace all the null values in ReadmissionFlag with 0. </span> "
   ]
  },
  {
   "cell_type": "code",
   "execution_count": 14,
   "id": "f6e558a0",
   "metadata": {},
   "outputs": [
    {
     "data": {
      "text/html": [
       "<div>\n",
       "<style scoped>\n",
       "    .dataframe tbody tr th:only-of-type {\n",
       "        vertical-align: middle;\n",
       "    }\n",
       "\n",
       "    .dataframe tbody tr th {\n",
       "        vertical-align: top;\n",
       "    }\n",
       "\n",
       "    .dataframe thead th {\n",
       "        text-align: right;\n",
       "    }\n",
       "</style>\n",
       "<table border=\"1\" class=\"dataframe\">\n",
       "  <thead>\n",
       "    <tr style=\"text-align: right;\">\n",
       "      <th></th>\n",
       "      <th>AdmissionID</th>\n",
       "      <th>PatientID</th>\n",
       "      <th>AdmissionDate</th>\n",
       "      <th>DischargeDate</th>\n",
       "      <th>DischargeDisposition</th>\n",
       "      <th>Service</th>\n",
       "      <th>PrimaryDiagnosis</th>\n",
       "      <th>ExpectedLOS</th>\n",
       "      <th>ExpectedMortality</th>\n",
       "      <th>ReadmissionFlag</th>\n",
       "      <th>DaysToReadmission</th>\n",
       "      <th>EDVisitAfterDischargeFlag</th>\n",
       "    </tr>\n",
       "  </thead>\n",
       "  <tbody>\n",
       "    <tr>\n",
       "      <th>0</th>\n",
       "      <td>389.0</td>\n",
       "      <td>1.0</td>\n",
       "      <td>2018-01-01</td>\n",
       "      <td>2018-01-04 19:59:31.391</td>\n",
       "      <td>Home</td>\n",
       "      <td>Hospitalist</td>\n",
       "      <td>Kidney Failure</td>\n",
       "      <td>6.717771</td>\n",
       "      <td>0.010046</td>\n",
       "      <td>0.0</td>\n",
       "      <td>0.0</td>\n",
       "      <td>0.0</td>\n",
       "    </tr>\n",
       "    <tr>\n",
       "      <th>1</th>\n",
       "      <td>635.0</td>\n",
       "      <td>2.0</td>\n",
       "      <td>2018-01-01</td>\n",
       "      <td>2018-01-04 21:28:51.898</td>\n",
       "      <td>Home</td>\n",
       "      <td>General Medicine</td>\n",
       "      <td>Flu</td>\n",
       "      <td>3.825969</td>\n",
       "      <td>0.604562</td>\n",
       "      <td>1.0</td>\n",
       "      <td>2.0</td>\n",
       "      <td>1.0</td>\n",
       "    </tr>\n",
       "    <tr>\n",
       "      <th>2</th>\n",
       "      <td>606.0</td>\n",
       "      <td>3.0</td>\n",
       "      <td>2018-01-01</td>\n",
       "      <td>2018-01-04 22:28:23.672</td>\n",
       "      <td>Home</td>\n",
       "      <td>General Medicine</td>\n",
       "      <td>Flu</td>\n",
       "      <td>3.382493</td>\n",
       "      <td>0.266137</td>\n",
       "      <td>1.0</td>\n",
       "      <td>3.0</td>\n",
       "      <td>1.0</td>\n",
       "    </tr>\n",
       "    <tr>\n",
       "      <th>3</th>\n",
       "      <td>587.0</td>\n",
       "      <td>5.0</td>\n",
       "      <td>2018-01-01</td>\n",
       "      <td>2018-01-05 05:47:04.933</td>\n",
       "      <td>Home</td>\n",
       "      <td>General Medicine</td>\n",
       "      <td>Flu</td>\n",
       "      <td>3.763352</td>\n",
       "      <td>0.307527</td>\n",
       "      <td>1.0</td>\n",
       "      <td>4.0</td>\n",
       "      <td>1.0</td>\n",
       "    </tr>\n",
       "    <tr>\n",
       "      <th>4</th>\n",
       "      <td>640.0</td>\n",
       "      <td>6.0</td>\n",
       "      <td>2018-01-01</td>\n",
       "      <td>2018-01-05 14:18:30.029</td>\n",
       "      <td>Home</td>\n",
       "      <td>ICU</td>\n",
       "      <td>Heart Failure</td>\n",
       "      <td>13.650953</td>\n",
       "      <td>0.408898</td>\n",
       "      <td>0.0</td>\n",
       "      <td>0.0</td>\n",
       "      <td>0.0</td>\n",
       "    </tr>\n",
       "  </tbody>\n",
       "</table>\n",
       "</div>"
      ],
      "text/plain": [
       "   AdmissionID  PatientID AdmissionDate           DischargeDate  \\\n",
       "0        389.0        1.0    2018-01-01 2018-01-04 19:59:31.391   \n",
       "1        635.0        2.0    2018-01-01 2018-01-04 21:28:51.898   \n",
       "2        606.0        3.0    2018-01-01 2018-01-04 22:28:23.672   \n",
       "3        587.0        5.0    2018-01-01 2018-01-05 05:47:04.933   \n",
       "4        640.0        6.0    2018-01-01 2018-01-05 14:18:30.029   \n",
       "\n",
       "  DischargeDisposition           Service PrimaryDiagnosis  ExpectedLOS  \\\n",
       "0                 Home       Hospitalist   Kidney Failure     6.717771   \n",
       "1                 Home  General Medicine              Flu     3.825969   \n",
       "2                 Home  General Medicine              Flu     3.382493   \n",
       "3                 Home  General Medicine              Flu     3.763352   \n",
       "4                 Home               ICU    Heart Failure    13.650953   \n",
       "\n",
       "   ExpectedMortality  ReadmissionFlag  DaysToReadmission  \\\n",
       "0           0.010046              0.0                0.0   \n",
       "1           0.604562              1.0                2.0   \n",
       "2           0.266137              1.0                3.0   \n",
       "3           0.307527              1.0                4.0   \n",
       "4           0.408898              0.0                0.0   \n",
       "\n",
       "   EDVisitAfterDischargeFlag  \n",
       "0                        0.0  \n",
       "1                        1.0  \n",
       "2                        1.0  \n",
       "3                        1.0  \n",
       "4                        0.0  "
      ]
     },
     "execution_count": 14,
     "metadata": {},
     "output_type": "execute_result"
    }
   ],
   "source": [
    "df = df_ReAd = pd.read_excel(\"HospitalDatabase.xlsx\", sheet_name = \"ReAdmissionRegistry\")\n",
    "df.fillna(value = 0,inplace = True)\n",
    "# Show the DataFrame\n",
    "df.head()\n",
    "\n"
   ]
  },
  {
   "cell_type": "markdown",
   "id": "786a3e7c",
   "metadata": {},
   "source": []
  },
  {
   "cell_type": "code",
   "execution_count": null,
   "id": "ba8d6fbc",
   "metadata": {},
   "outputs": [],
   "source": []
  }
 ],
 "metadata": {
  "kernelspec": {
   "display_name": "Python 3 (ipykernel)",
   "language": "python",
   "name": "python3"
  },
  "language_info": {
   "codemirror_mode": {
    "name": "ipython",
    "version": 3
   },
   "file_extension": ".py",
   "mimetype": "text/x-python",
   "name": "python",
   "nbconvert_exporter": "python",
   "pygments_lexer": "ipython3",
   "version": "3.9.12"
  }
 },
 "nbformat": 4,
 "nbformat_minor": 5
}
