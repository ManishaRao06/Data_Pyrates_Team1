{
 "cells": [
  {
   "cell_type": "markdown",
   "id": "f5499081",
   "metadata": {},
   "source": [
    "## IMPORT LIBRARY AND LOAD DATASET\n"
   ]
  },
  {
   "cell_type": "markdown",
   "id": "e32bce6f",
   "metadata": {},
   "source": [
    "### Package installation"
   ]
  },
  {
   "cell_type": "code",
   "execution_count": 2,
   "id": "4d9ca8f1",
   "metadata": {},
   "outputs": [],
   "source": [
    "# pip install panda\n",
    "# pip install matplotlib\n",
    "# pip install numpy\n",
    "# pip install seaborn\n",
    "# pip install colorama"
   ]
  },
  {
   "cell_type": "code",
   "execution_count": 3,
   "id": "cde73574",
   "metadata": {},
   "outputs": [],
   "source": [
    "import pandas as pd\n",
    "import numpy as np\n",
    "import seaborn as sns\n",
    "import matplotlib.pyplot as plt\n",
    "from matplotlib.gridspec import GridSpec\n",
    "import warnings\n",
    "warnings.filterwarnings('ignore')"
   ]
  },
  {
   "cell_type": "markdown",
   "id": "375403cf",
   "metadata": {},
   "source": [
    "### Loading the dataset in the pandas dataframe"
   ]
  },
  {
   "cell_type": "code",
   "execution_count": 4,
   "id": "2d9175eb",
   "metadata": {},
   "outputs": [],
   "source": [
    "df = pd.read_excel(\"HospitalDatabase.xlsx\")\n",
    "df_PA = pd.read_excel(\"HospitalDatabase.xlsx\", sheet_name = \"Patients\")\n",
    "df_ED = pd.read_excel(\"HospitalDatabase.xlsx\", sheet_name = \"EDVisits\")\n",
    "df_AmbV = pd.read_excel(\"HospitalDatabase.xlsx\", sheet_name = \"AmbulatoryVisits\")\n",
    "df_ReAd = pd.read_excel(\"HospitalDatabase.xlsx\", sheet_name = \"ReAdmissionRegistry\")\n",
    "df_Dis = pd.read_excel(\"HospitalDatabase.xlsx\", sheet_name = \"Discharges\")\n",
    "df_Pro = pd.read_excel(\"HospitalDatabase.xlsx\", sheet_name = \"Providers\")\n",
    "df_EDU = pd.read_excel(\"HospitalDatabase.xlsx\", sheet_name = \"EDUnique\")\n"
   ]
  },
  {
   "cell_type": "code",
   "execution_count": 6,
   "id": "722b96b6",
   "metadata": {},
   "outputs": [
    {
     "name": "stdout",
     "output_type": "stream",
     "text": [
      "     EDVisitID  PatientID               VisitDate         EDDischargeTime  \\\n",
      "0          1.0        1.0 2020-01-01 00:00:00.000 2020-01-01 11:20:22.924   \n",
      "1         12.0       12.0 2020-01-01 02:45:40.302 2020-01-02 02:00:00.517   \n",
      "2         13.0       13.0 2020-01-01 03:09:24.701 2020-01-01 05:00:20.852   \n",
      "3         14.0       14.0 2020-01-01 03:12:19.349 2020-01-01 04:32:29.142   \n",
      "4         15.0       15.0 2020-01-01 03:46:32.698 2020-01-01 06:24:52.741   \n",
      "..         ...        ...                     ...                     ...   \n",
      "940     1183.0      929.0 2020-01-15 10:38:42.570 2020-01-16 02:31:52.023   \n",
      "941     1186.0      932.0 2020-01-15 11:52:37.540 2020-01-16 10:19:41.570   \n",
      "942     1187.0      933.0 2020-01-15 12:11:11.678 2020-01-15 16:41:15.223   \n",
      "943     1188.0      934.0 2020-01-15 12:21:46.006 2020-01-15 18:32:21.060   \n",
      "944     1189.0      935.0 2020-01-15 12:51:14.875 2020-01-15 23:40:41.456   \n",
      "\n",
      "     Acuity ReasonForVisit EDDisposition  \n",
      "0       1.0   Stomach Ache      Admitted  \n",
      "1       2.0       Migraine      Admitted  \n",
      "2       3.0   Stomach Ache      Admitted  \n",
      "3       3.0       Migraine      Admitted  \n",
      "4       3.0     Chest Pain      Admitted  \n",
      "..      ...            ...           ...  \n",
      "940     4.0     Chest Pain    discharged  \n",
      "941     1.0      Pneumonia    discharged  \n",
      "942     1.0      Pneumonia    discharged  \n",
      "943     1.0      Pneumonia    discharged  \n",
      "944     1.0      Pneumonia    discharged  \n",
      "\n",
      "[945 rows x 7 columns]\n"
     ]
    }
   ],
   "source": [
    "df_EDU = pd.read_excel(\"HospitalDatabase.xlsx\", sheet_name = \"EDUnique\")\n",
    "print(df_EDU)"
   ]
  },
  {
   "cell_type": "markdown",
   "id": "85be66cf",
   "metadata": {},
   "source": [
    "\n",
    "<span style=\"color:#00008B;\"> Qs1: Calculate the time spent in ED Department for each visit. </span>"
   ]
  },
  {
   "cell_type": "code",
   "execution_count": null,
   "id": "8d777e4d",
   "metadata": {},
   "outputs": [],
   "source": []
  }
 ],
 "metadata": {
  "kernelspec": {
   "display_name": "Python 3 (ipykernel)",
   "language": "python",
   "name": "python3"
  },
  "language_info": {
   "codemirror_mode": {
    "name": "ipython",
    "version": 3
   },
   "file_extension": ".py",
   "mimetype": "text/x-python",
   "name": "python",
   "nbconvert_exporter": "python",
   "pygments_lexer": "ipython3",
   "version": "3.9.12"
  }
 },
 "nbformat": 4,
 "nbformat_minor": 5
}
