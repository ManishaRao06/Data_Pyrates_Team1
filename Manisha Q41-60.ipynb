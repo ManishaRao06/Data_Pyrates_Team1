{
 "cells": [
  {
   "cell_type": "code",
   "execution_count": 1,
   "id": "2136696a",
   "metadata": {},
   "outputs": [],
   "source": [
    "# pip install panda\n",
    "# pip install matplotlib\n",
    "# pip install numpy\n",
    "# pip install seaborn\n",
    "# pip install colorama\n"
   ]
  },
  {
   "cell_type": "code",
   "execution_count": 2,
   "id": "02fa649d",
   "metadata": {},
   "outputs": [],
   "source": [
    "import pandas as pd\n",
    "import numpy as np\n",
    "import seaborn as sns\n",
    "import matplotlib.pyplot as plt\n",
    "from matplotlib.gridspec import GridSpec\n",
    "import warnings\n",
    "warnings.filterwarnings('ignore')"
   ]
  },
  {
   "cell_type": "code",
   "execution_count": 3,
   "id": "18d4d235",
   "metadata": {},
   "outputs": [],
   "source": [
    "df = pd.read_excel(\"HospitalDatabase.xlsx\")\n",
    "df_PA = pd.read_excel(\"HospitalDatabase.xlsx\", sheet_name = \"Patients\")\n",
    "df_ED = pd.read_excel(\"HospitalDatabase.xlsx\", sheet_name = \"EDVisits\")\n",
    "df_AmbV = pd.read_excel(\"HospitalDatabase.xlsx\", sheet_name = \"AmbulatoryVisits\")\n",
    "df_ReAd = pd.read_excel(\"HospitalDatabase.xlsx\", sheet_name = \"ReAdmissionRegistry\")\n",
    "df_Dis = pd.read_excel(\"HospitalDatabase.xlsx\", sheet_name = \"Discharges\")\n",
    "df_Pro = pd.read_excel(\"HospitalDatabase.xlsx\", sheet_name = \"Providers\")\n",
    "df_EDU = pd.read_excel(\"HospitalDatabase.xlsx\", sheet_name = \"EDUnique\")\n"
   ]
  },
  {
   "cell_type": "markdown",
   "id": "e0a753f6",
   "metadata": {},
   "source": [
    "<span style=\"color:#00008B;\"> Qs 41: Find the age prone to get stroke. </span><div"
   ]
  },
  {
   "cell_type": "code",
   "execution_count": 88,
   "id": "03a53817",
   "metadata": {},
   "outputs": [
    {
     "name": "stdout",
     "output_type": "stream",
     "text": [
      "The age 58.0 prone to stroke\n"
     ]
    }
   ],
   "source": [
    "df_stroke = df_ReAd[['PatientID', 'PrimaryDiagnosis']].loc[df_ReAd.PrimaryDiagnosis == 'Stroke']\n",
    "df_stroke \n",
    "#calculating age\n",
    "df_age = pd.DataFrame(df_PA.PatientID)\n",
    "now = pd.Timestamp('now')\n",
    "df_age ['Age'] = (now - df_PA['DateOfBirth']).astype('<m8[Y]')\n",
    "df_age .sort_values('Age')\n",
    "df_strokeAge = df_age.merge(df_stroke , how = 'inner')[['Age','PrimaryDiagnosis']]\n",
    "#df_strokeAge ['AgeRange'] = pd.cut(x=df_strokeAge ['Age'], bins=[35, 45, 55, 65])\n",
    "df_strokeAge  = df_strokeAge .groupby('Age')['PrimaryDiagnosis'].count().sort_values(ascending = False)\n",
    "df_strokeAge \n",
    "print('The age', df_strokeAge.index[0], 'prone to stroke')"
   ]
  },
  {
   "cell_type": "markdown",
   "id": "b53c05cd",
   "metadata": {},
   "source": [
    "<span style=\"color:#00008B;\"> Qs 42: Calculate mortality by diagnosis. </span>"
   ]
  },
  {
   "cell_type": "code",
   "execution_count": null,
   "id": "407974e2",
   "metadata": {},
   "outputs": [],
   "source": []
  },
  {
   "cell_type": "code",
   "execution_count": null,
   "id": "6575b6de",
   "metadata": {},
   "outputs": [],
   "source": []
  },
  {
   "cell_type": "markdown",
   "id": "3f13702b",
   "metadata": {},
   "source": [
    "<span style=\"color:#00008B;\"> Qs 43: Details of the patients whose firstname or lastname contains string \"lau\" , should be case insensitive. </span>"
   ]
  },
  {
   "cell_type": "code",
   "execution_count": 6,
   "id": "f4ca1f35",
   "metadata": {
    "scrolled": true
   },
   "outputs": [
    {
     "data": {
      "text/html": [
       "<div>\n",
       "<style scoped>\n",
       "    .dataframe tbody tr th:only-of-type {\n",
       "        vertical-align: middle;\n",
       "    }\n",
       "\n",
       "    .dataframe tbody tr th {\n",
       "        vertical-align: top;\n",
       "    }\n",
       "\n",
       "    .dataframe thead th {\n",
       "        text-align: right;\n",
       "    }\n",
       "</style>\n",
       "<table border=\"1\" class=\"dataframe\">\n",
       "  <thead>\n",
       "    <tr style=\"text-align: right;\">\n",
       "      <th></th>\n",
       "      <th>PatientID</th>\n",
       "      <th>FirstName</th>\n",
       "      <th>LastName</th>\n",
       "      <th>DateOfBirth</th>\n",
       "      <th>Gender</th>\n",
       "      <th>Race</th>\n",
       "      <th>Language</th>\n",
       "      <th>FL</th>\n",
       "    </tr>\n",
       "  </thead>\n",
       "  <tbody>\n",
       "    <tr>\n",
       "      <th>282</th>\n",
       "      <td>283.0</td>\n",
       "      <td>Lauren</td>\n",
       "      <td>Gaskal</td>\n",
       "      <td>1962-05-08 01:54:00.111</td>\n",
       "      <td>Female</td>\n",
       "      <td>Black/African-American</td>\n",
       "      <td>English</td>\n",
       "      <td>True</td>\n",
       "    </tr>\n",
       "    <tr>\n",
       "      <th>322</th>\n",
       "      <td>323.0</td>\n",
       "      <td>Lauren</td>\n",
       "      <td>Foort</td>\n",
       "      <td>1960-06-23 20:07:53.045</td>\n",
       "      <td>Female</td>\n",
       "      <td>White</td>\n",
       "      <td>English</td>\n",
       "      <td>True</td>\n",
       "    </tr>\n",
       "    <tr>\n",
       "      <th>369</th>\n",
       "      <td>370.0</td>\n",
       "      <td>Zulauf</td>\n",
       "      <td>Ellingham</td>\n",
       "      <td>1982-12-17 16:27:56.391</td>\n",
       "      <td>Female</td>\n",
       "      <td>White</td>\n",
       "      <td>English</td>\n",
       "      <td>True</td>\n",
       "    </tr>\n",
       "    <tr>\n",
       "      <th>382</th>\n",
       "      <td>383.0</td>\n",
       "      <td>Zulauf</td>\n",
       "      <td>LLC</td>\n",
       "      <td>1969-03-16 07:48:49.338</td>\n",
       "      <td>Female</td>\n",
       "      <td>White</td>\n",
       "      <td>English</td>\n",
       "      <td>True</td>\n",
       "    </tr>\n",
       "    <tr>\n",
       "      <th>454</th>\n",
       "      <td>455.0</td>\n",
       "      <td>Zulauf</td>\n",
       "      <td>Alvar</td>\n",
       "      <td>1961-10-02 08:24:17.334</td>\n",
       "      <td>Female</td>\n",
       "      <td>White</td>\n",
       "      <td>English</td>\n",
       "      <td>True</td>\n",
       "    </tr>\n",
       "    <tr>\n",
       "      <th>463</th>\n",
       "      <td>464.0</td>\n",
       "      <td>Zulauf</td>\n",
       "      <td>Manske</td>\n",
       "      <td>1965-06-22 02:49:28.667</td>\n",
       "      <td>Female</td>\n",
       "      <td>White</td>\n",
       "      <td>English</td>\n",
       "      <td>True</td>\n",
       "    </tr>\n",
       "    <tr>\n",
       "      <th>818</th>\n",
       "      <td>819.0</td>\n",
       "      <td>Zulauf</td>\n",
       "      <td>Bitcheno</td>\n",
       "      <td>1967-04-02 07:17:53.635</td>\n",
       "      <td>Female</td>\n",
       "      <td>White</td>\n",
       "      <td>English</td>\n",
       "      <td>True</td>\n",
       "    </tr>\n",
       "    <tr>\n",
       "      <th>830</th>\n",
       "      <td>831.0</td>\n",
       "      <td>Zulauf</td>\n",
       "      <td>O'Shavlan</td>\n",
       "      <td>1970-05-17 08:09:28.988</td>\n",
       "      <td>Female</td>\n",
       "      <td>White</td>\n",
       "      <td>English</td>\n",
       "      <td>True</td>\n",
       "    </tr>\n",
       "    <tr>\n",
       "      <th>850</th>\n",
       "      <td>851.0</td>\n",
       "      <td>Lemmy</td>\n",
       "      <td>Klausen</td>\n",
       "      <td>1973-06-18 06:19:43.475</td>\n",
       "      <td>Female</td>\n",
       "      <td>White</td>\n",
       "      <td>English</td>\n",
       "      <td>True</td>\n",
       "    </tr>\n",
       "    <tr>\n",
       "      <th>906</th>\n",
       "      <td>907.0</td>\n",
       "      <td>Jerrilyn</td>\n",
       "      <td>Klausen</td>\n",
       "      <td>1979-09-04 13:05:57.870</td>\n",
       "      <td>Male</td>\n",
       "      <td>Black/African-American</td>\n",
       "      <td>English</td>\n",
       "      <td>True</td>\n",
       "    </tr>\n",
       "    <tr>\n",
       "      <th>910</th>\n",
       "      <td>911.0</td>\n",
       "      <td>Zulauf</td>\n",
       "      <td>Orbine</td>\n",
       "      <td>1973-06-26 03:13:50.449</td>\n",
       "      <td>Male</td>\n",
       "      <td>Black/African-American</td>\n",
       "      <td>English</td>\n",
       "      <td>True</td>\n",
       "    </tr>\n",
       "  </tbody>\n",
       "</table>\n",
       "</div>"
      ],
      "text/plain": [
       "     PatientID FirstName   LastName             DateOfBirth  Gender  \\\n",
       "282      283.0    Lauren     Gaskal 1962-05-08 01:54:00.111  Female   \n",
       "322      323.0    Lauren      Foort 1960-06-23 20:07:53.045  Female   \n",
       "369      370.0    Zulauf  Ellingham 1982-12-17 16:27:56.391  Female   \n",
       "382      383.0    Zulauf        LLC 1969-03-16 07:48:49.338  Female   \n",
       "454      455.0    Zulauf      Alvar 1961-10-02 08:24:17.334  Female   \n",
       "463      464.0    Zulauf     Manske 1965-06-22 02:49:28.667  Female   \n",
       "818      819.0    Zulauf   Bitcheno 1967-04-02 07:17:53.635  Female   \n",
       "830      831.0    Zulauf  O'Shavlan 1970-05-17 08:09:28.988  Female   \n",
       "850      851.0     Lemmy    Klausen 1973-06-18 06:19:43.475  Female   \n",
       "906      907.0  Jerrilyn    Klausen 1979-09-04 13:05:57.870    Male   \n",
       "910      911.0    Zulauf     Orbine 1973-06-26 03:13:50.449    Male   \n",
       "\n",
       "                       Race Language    FL  \n",
       "282  Black/African-American  English  True  \n",
       "322                   White  English  True  \n",
       "369                   White  English  True  \n",
       "382                   White  English  True  \n",
       "454                   White  English  True  \n",
       "463                   White  English  True  \n",
       "818                   White  English  True  \n",
       "830                   White  English  True  \n",
       "850                   White  English  True  \n",
       "906  Black/African-American  English  True  \n",
       "910  Black/African-American  English  True  "
      ]
     },
     "execution_count": 6,
     "metadata": {},
     "output_type": "execute_result"
    }
   ],
   "source": [
    "df_PA['FL'] = df_PA['FirstName'].str.contains('lau',case=False)| df_PA['LastName'].str.contains('lau',case=False)\n",
    "(df_PA[(df_PA['FL']==True)])\n"
   ]
  },
  {
   "cell_type": "markdown",
   "id": "6ae8b7f7",
   "metadata": {},
   "source": [
    "<span style=\"color:#00008B;\"> Qs 44: Display data by splitting age in 4 quartiles and labeling the quartiles. </span>"
   ]
  },
  {
   "cell_type": "code",
   "execution_count": 7,
   "id": "6c92a724",
   "metadata": {},
   "outputs": [
    {
     "name": "stdout",
     "output_type": "stream",
     "text": [
      "       Age\n",
      "0.25  43.0\n",
      "0.50  49.0\n",
      "0.75  56.0\n",
      "1.00  63.0\n"
     ]
    },
    {
     "data": {
      "image/png": "[encoded data removed]",
      "text/plain": [
       "<Figure size 432x288 with 1 Axes>"
      ]
     },
     "metadata": {
      "needs_background": "light"
     },
     "output_type": "display_data"
    }
   ],
   "source": [
    "import numpy as np\n",
    "import statsmodels.api as sm\n",
    "import pylab as py\n",
    "age_quant= pd. DataFrame()\n",
    "now = pd.Timestamp('now')\n",
    "age_quant['Age'] = (now - pd.to_datetime(df_PA['DateOfBirth'], format='%m%d%y')).astype('<m8[Y]')\n",
    "age_quant\n",
    "age_quant1 = age_quant.quantile([.25, .5, .75 , 1.00])\n",
    "print(age_quant1)\n",
    "\n",
    "split_quantiles = np.array(age_quant1)    \n",
    "  \n",
    "sm.qqplot(split_quantiles)\n",
    "py.show()"
   ]
  },
  {
   "cell_type": "markdown",
   "id": "58bfa9c2",
   "metadata": {},
   "source": [
    "<span style=\"color:#00008B;\"> Qs 45: Usage of Enumeration in Python with any example. </span>"
   ]
  },
  {
   "cell_type": "code",
   "execution_count": null,
   "id": "1fd40448",
   "metadata": {},
   "outputs": [],
   "source": []
  },
  {
   "cell_type": "code",
   "execution_count": null,
   "id": "61e59932",
   "metadata": {},
   "outputs": [],
   "source": []
  },
  {
   "cell_type": "markdown",
   "id": "e345a0ba",
   "metadata": {},
   "source": [
    "<span style=\"color:  #00008B;\"> Qs 46: Count of canceled status. </span>"
   ]
  },
  {
   "cell_type": "code",
   "execution_count": 8,
   "id": "c4cc62dd",
   "metadata": {
    "scrolled": true
   },
   "outputs": [
    {
     "name": "stdout",
     "output_type": "stream",
     "text": [
      "Number of patients whose visit status are canceled:  60\n"
     ]
    }
   ],
   "source": [
    "canceled_status = len(df_AmbV[df_AmbV['VisitStatus'] == 'Canceled'])\n",
    "\n",
    "print(\"Number of patients whose visit status are canceled: \",canceled_status)"
   ]
  },
  {
   "cell_type": "markdown",
   "id": "6f4dc4a3",
   "metadata": {},
   "source": [
    "<span style=\"color:#00008B;\"> Qs 47: Display the patient details with maximum pulse pressure. </span>"
   ]
  },
  {
   "cell_type": "code",
   "execution_count": 46,
   "id": "a5f0d134",
   "metadata": {},
   "outputs": [
    {
     "data": {
      "text/plain": [
       "99.98646314"
      ]
     },
     "execution_count": 46,
     "metadata": {},
     "output_type": "execute_result"
    }
   ],
   "source": [
    "#max_pulse = df_AmbV[df_AmbV['Pulse']].groupby('Patient_ID').max().index()\n",
    "#max_pulse= df_AmbV.loc[df_AmbV['Pulse'].idxmax()]\n",
    "max_pulse = df_AmbV.groupby(['PatientMRN'], as_index=True)['Pulse'].max()\n",
    "max_pulse.max()"
   ]
  },
  {
   "cell_type": "markdown",
   "id": "bd0c7340",
   "metadata": {},
   "source": [
    "<span style=\"color:#00008B;\"> Qs 48:  Create a heat map to show the correlation between the column values of Edvisits. </span>"
   ]
  },
  {
   "cell_type": "code",
   "execution_count": 9,
   "id": "9c103e96",
   "metadata": {},
   "outputs": [
    {
     "data": {
      "text/plain": [
       "<AxesSubplot:title={'center':'Correlation Heatmap'}>"
      ]
     },
     "execution_count": 9,
     "metadata": {},
     "output_type": "execute_result"
    },
    {
     "data": {
      "image/png": "[encoded data removed]",
      "text/plain": [
       "<Figure size 432x288 with 4 Axes>"
      ]
     },
     "metadata": {
      "needs_background": "light"
     },
     "output_type": "display_data"
    }
   ],
   "source": [
    "import seaborn as sns\n",
    "df_ED = pd.read_excel(\"HospitalDatabase.xlsx\", sheet_name = \"EDVisits\")\n",
    "df_ED.corr()\n",
    "sns.heatmap(df_ED.corr());\n",
    "sns.heatmap(df_ED.corr()).set_title('Correlation Heatmap', fontdict={'fontsize':12}, pad=12);\n",
    "sns.heatmap(df_ED.corr(), vmin=-1, vmax=1, annot=True)\n"
   ]
  },
  {
   "cell_type": "markdown",
   "id": "cce352bb",
   "metadata": {},
   "source": [
    "<span style=\"color:#00008B;\"> Qs 49:  Plot a graph by counting the no. of patients in each department. </span>"
   ]
  },
  {
   "cell_type": "code",
   "execution_count": 10,
   "id": "01458648",
   "metadata": {},
   "outputs": [
    {
     "data": {
      "image/png": "[encoded data removed]",
      "text/plain": [
       "<Figure size 432x288 with 1 Axes>"
      ]
     },
     "metadata": {
      "needs_background": "light"
     },
     "output_type": "display_data"
    }
   ],
   "source": [
    "PI=sns.countplot(x='VisitDepartmentID',data=df_AmbV)\n",
    "PI.bar_label(PI.containers[0],label_type='edge')\n",
    "plt.title('No. of Patients Visited the Department')\n",
    "plt.xlabel('Department ID') and plt.ylabel('No of Patients')\n",
    "\n",
    "plt.show()\n"
   ]
  },
  {
   "cell_type": "markdown",
   "id": "3d55797e",
   "metadata": {},
   "source": [
    "<span style=\"color:#00008B;\"> Qs 50:  Display patient details where \"ReasonForVisit\" is either 'Migraine' or 'Pneumonia' and Acuity is 2 or more. </span>"
   ]
  },
  {
   "cell_type": "code",
   "execution_count": 50,
   "id": "45c82b93",
   "metadata": {},
   "outputs": [
    {
     "data": {
      "text/html": [
       "<div>\n",
       "<style scoped>\n",
       "    .dataframe tbody tr th:only-of-type {\n",
       "        vertical-align: middle;\n",
       "    }\n",
       "\n",
       "    .dataframe tbody tr th {\n",
       "        vertical-align: top;\n",
       "    }\n",
       "\n",
       "    .dataframe thead th {\n",
       "        text-align: right;\n",
       "    }\n",
       "</style>\n",
       "<table border=\"1\" class=\"dataframe\">\n",
       "  <thead>\n",
       "    <tr style=\"text-align: right;\">\n",
       "      <th></th>\n",
       "      <th>PatientID</th>\n",
       "      <th>ReasonForVisit</th>\n",
       "      <th>Acuity</th>\n",
       "    </tr>\n",
       "  </thead>\n",
       "  <tbody>\n",
       "    <tr>\n",
       "      <th>1</th>\n",
       "      <td>12.0</td>\n",
       "      <td>Migraine</td>\n",
       "      <td>2.0</td>\n",
       "    </tr>\n",
       "    <tr>\n",
       "      <th>3</th>\n",
       "      <td>14.0</td>\n",
       "      <td>Migraine</td>\n",
       "      <td>3.0</td>\n",
       "    </tr>\n",
       "    <tr>\n",
       "      <th>11</th>\n",
       "      <td>29.0</td>\n",
       "      <td>Pneumonia</td>\n",
       "      <td>2.0</td>\n",
       "    </tr>\n",
       "    <tr>\n",
       "      <th>12</th>\n",
       "      <td>30.0</td>\n",
       "      <td>Pneumonia</td>\n",
       "      <td>3.0</td>\n",
       "    </tr>\n",
       "    <tr>\n",
       "      <th>13</th>\n",
       "      <td>31.0</td>\n",
       "      <td>Pneumonia</td>\n",
       "      <td>4.0</td>\n",
       "    </tr>\n",
       "    <tr>\n",
       "      <th>...</th>\n",
       "      <td>...</td>\n",
       "      <td>...</td>\n",
       "      <td>...</td>\n",
       "    </tr>\n",
       "    <tr>\n",
       "      <th>1107</th>\n",
       "      <td>773.0</td>\n",
       "      <td>Migraine</td>\n",
       "      <td>2.0</td>\n",
       "    </tr>\n",
       "    <tr>\n",
       "      <th>1150</th>\n",
       "      <td>850.0</td>\n",
       "      <td>Migraine</td>\n",
       "      <td>2.0</td>\n",
       "    </tr>\n",
       "    <tr>\n",
       "      <th>1152</th>\n",
       "      <td>852.0</td>\n",
       "      <td>Migraine</td>\n",
       "      <td>2.0</td>\n",
       "    </tr>\n",
       "    <tr>\n",
       "      <th>1160</th>\n",
       "      <td>868.0</td>\n",
       "      <td>Migraine</td>\n",
       "      <td>2.0</td>\n",
       "    </tr>\n",
       "    <tr>\n",
       "      <th>1162</th>\n",
       "      <td>870.0</td>\n",
       "      <td>Migraine</td>\n",
       "      <td>2.0</td>\n",
       "    </tr>\n",
       "  </tbody>\n",
       "</table>\n",
       "<p>215 rows × 3 columns</p>\n",
       "</div>"
      ],
      "text/plain": [
       "      PatientID ReasonForVisit  Acuity\n",
       "1          12.0       Migraine     2.0\n",
       "3          14.0       Migraine     3.0\n",
       "11         29.0      Pneumonia     2.0\n",
       "12         30.0      Pneumonia     3.0\n",
       "13         31.0      Pneumonia     4.0\n",
       "...         ...            ...     ...\n",
       "1107      773.0       Migraine     2.0\n",
       "1150      850.0       Migraine     2.0\n",
       "1152      852.0       Migraine     2.0\n",
       "1160      868.0       Migraine     2.0\n",
       "1162      870.0       Migraine     2.0\n",
       "\n",
       "[215 rows x 3 columns]"
      ]
     },
     "execution_count": 50,
     "metadata": {},
     "output_type": "execute_result"
    }
   ],
   "source": [
    "reasonforvisit = df_ED[['PatientID', 'ReasonForVisit', 'Acuity']].loc[((df_ED['ReasonForVisit'] == 'Migraine') | (df_ED['ReasonForVisit'] == 'Pneumonia')) & (df_ED['Acuity'] >= 2)]\n",
    "reasonforvisit"
   ]
  },
  {
   "cell_type": "markdown",
   "id": "cacbe18f",
   "metadata": {},
   "source": [
    "<span style=\"color:#00008B;\"> Qs 51:  Take the ReasonForVisit from user, find the number of patients admitted with that ReasonForVisit. </span>"
   ]
  },
  {
   "cell_type": "code",
   "execution_count": null,
   "id": "9fb68fcb",
   "metadata": {},
   "outputs": [],
   "source": [
    "iter.rows"
   ]
  },
  {
   "cell_type": "markdown",
   "id": "d7374e83",
   "metadata": {},
   "source": [
    "<span style=\"color:#00008B;\"> Qs 52  Using indexing , loc to retrieve the row with maximum BloodPressureSystolic. </span>"
   ]
  },
  {
   "cell_type": "code",
   "execution_count": 52,
   "id": "428072dc",
   "metadata": {
    "scrolled": true
   },
   "outputs": [
    {
     "data": {
      "text/html": [
       "<div>\n",
       "<style scoped>\n",
       "    .dataframe tbody tr th:only-of-type {\n",
       "        vertical-align: middle;\n",
       "    }\n",
       "\n",
       "    .dataframe tbody tr th {\n",
       "        vertical-align: top;\n",
       "    }\n",
       "\n",
       "    .dataframe thead th {\n",
       "        text-align: right;\n",
       "    }\n",
       "</style>\n",
       "<table border=\"1\" class=\"dataframe\">\n",
       "  <thead>\n",
       "    <tr style=\"text-align: right;\">\n",
       "      <th></th>\n",
       "      <th>VisitID</th>\n",
       "      <th>PatientMRN</th>\n",
       "      <th>ProviderID</th>\n",
       "      <th>DateofVisit</th>\n",
       "      <th>DateScheduled</th>\n",
       "      <th>VisitDepartmentID</th>\n",
       "      <th>VisitType</th>\n",
       "      <th>BloodPressureSystolic</th>\n",
       "      <th>BloodPressureDiastolic</th>\n",
       "      <th>Pulse</th>\n",
       "      <th>VisitStatus</th>\n",
       "    </tr>\n",
       "  </thead>\n",
       "  <tbody>\n",
       "    <tr>\n",
       "      <th>236</th>\n",
       "      <td>933.0</td>\n",
       "      <td>884.0</td>\n",
       "      <td>27.0</td>\n",
       "      <td>2019-02-14</td>\n",
       "      <td>2019-01-22 19:26:49.163</td>\n",
       "      <td>12.0</td>\n",
       "      <td>Telemedicine</td>\n",
       "      <td>190.0</td>\n",
       "      <td>143.989174</td>\n",
       "      <td>74.976879</td>\n",
       "      <td>Completed</td>\n",
       "    </tr>\n",
       "    <tr>\n",
       "      <th>251</th>\n",
       "      <td>888.0</td>\n",
       "      <td>906.0</td>\n",
       "      <td>24.0</td>\n",
       "      <td>2019-03-31</td>\n",
       "      <td>2019-03-17 23:21:17.361</td>\n",
       "      <td>10.0</td>\n",
       "      <td>New</td>\n",
       "      <td>190.0</td>\n",
       "      <td>137.207999</td>\n",
       "      <td>52.666922</td>\n",
       "      <td>Completed</td>\n",
       "    </tr>\n",
       "    <tr>\n",
       "      <th>424</th>\n",
       "      <td>314.0</td>\n",
       "      <td>63.0</td>\n",
       "      <td>7.0</td>\n",
       "      <td>2019-04-05</td>\n",
       "      <td>2019-03-24 22:31:26.092</td>\n",
       "      <td>11.0</td>\n",
       "      <td>Telemedicine</td>\n",
       "      <td>190.0</td>\n",
       "      <td>121.539859</td>\n",
       "      <td>95.471260</td>\n",
       "      <td>Completed</td>\n",
       "    </tr>\n",
       "    <tr>\n",
       "      <th>432</th>\n",
       "      <td>740.0</td>\n",
       "      <td>892.0</td>\n",
       "      <td>31.0</td>\n",
       "      <td>2019-03-14</td>\n",
       "      <td>2019-03-11 15:08:33.963</td>\n",
       "      <td>8.0</td>\n",
       "      <td>Physical</td>\n",
       "      <td>190.0</td>\n",
       "      <td>145.343479</td>\n",
       "      <td>94.849021</td>\n",
       "      <td>Completed</td>\n",
       "    </tr>\n",
       "    <tr>\n",
       "      <th>677</th>\n",
       "      <td>929.0</td>\n",
       "      <td>880.0</td>\n",
       "      <td>23.0</td>\n",
       "      <td>2019-02-10</td>\n",
       "      <td>2019-01-22 13:32:14.549</td>\n",
       "      <td>8.0</td>\n",
       "      <td>Follow Up</td>\n",
       "      <td>190.0</td>\n",
       "      <td>144.313400</td>\n",
       "      <td>82.781940</td>\n",
       "      <td>Completed</td>\n",
       "    </tr>\n",
       "    <tr>\n",
       "      <th>869</th>\n",
       "      <td>839.0</td>\n",
       "      <td>857.0</td>\n",
       "      <td>12.0</td>\n",
       "      <td>2019-03-17</td>\n",
       "      <td>2019-02-23 09:05:43.676</td>\n",
       "      <td>8.0</td>\n",
       "      <td>Follow Up</td>\n",
       "      <td>190.0</td>\n",
       "      <td>130.997386</td>\n",
       "      <td>71.829542</td>\n",
       "      <td>Completed</td>\n",
       "    </tr>\n",
       "    <tr>\n",
       "      <th>934</th>\n",
       "      <td>482.0</td>\n",
       "      <td>866.0</td>\n",
       "      <td>14.0</td>\n",
       "      <td>2019-05-04</td>\n",
       "      <td>2019-04-13 07:54:49.580</td>\n",
       "      <td>5.0</td>\n",
       "      <td>New</td>\n",
       "      <td>190.0</td>\n",
       "      <td>124.736359</td>\n",
       "      <td>69.731779</td>\n",
       "      <td>Canceled</td>\n",
       "    </tr>\n",
       "  </tbody>\n",
       "</table>\n",
       "</div>"
      ],
      "text/plain": [
       "     VisitID  PatientMRN  ProviderID DateofVisit           DateScheduled  \\\n",
       "236    933.0       884.0        27.0  2019-02-14 2019-01-22 19:26:49.163   \n",
       "251    888.0       906.0        24.0  2019-03-31 2019-03-17 23:21:17.361   \n",
       "424    314.0        63.0         7.0  2019-04-05 2019-03-24 22:31:26.092   \n",
       "432    740.0       892.0        31.0  2019-03-14 2019-03-11 15:08:33.963   \n",
       "677    929.0       880.0        23.0  2019-02-10 2019-01-22 13:32:14.549   \n",
       "869    839.0       857.0        12.0  2019-03-17 2019-02-23 09:05:43.676   \n",
       "934    482.0       866.0        14.0  2019-05-04 2019-04-13 07:54:49.580   \n",
       "\n",
       "     VisitDepartmentID     VisitType  BloodPressureSystolic  \\\n",
       "236               12.0  Telemedicine                  190.0   \n",
       "251               10.0           New                  190.0   \n",
       "424               11.0  Telemedicine                  190.0   \n",
       "432                8.0      Physical                  190.0   \n",
       "677                8.0     Follow Up                  190.0   \n",
       "869                8.0     Follow Up                  190.0   \n",
       "934                5.0           New                  190.0   \n",
       "\n",
       "     BloodPressureDiastolic      Pulse VisitStatus  \n",
       "236              143.989174  74.976879   Completed  \n",
       "251              137.207999  52.666922   Completed  \n",
       "424              121.539859  95.471260   Completed  \n",
       "432              145.343479  94.849021   Completed  \n",
       "677              144.313400  82.781940   Completed  \n",
       "869              130.997386  71.829542   Completed  \n",
       "934              124.736359  69.731779    Canceled  "
      ]
     },
     "execution_count": 52,
     "metadata": {},
     "output_type": "execute_result"
    }
   ],
   "source": [
    "df_AmbV.loc[df_AmbV[df_AmbV['BloodPressureSystolic']==df_AmbV['BloodPressureSystolic'].max()].index]"
   ]
  },
  {
   "cell_type": "markdown",
   "id": "01404663",
   "metadata": {},
   "source": [
    "<span style=\"color:#00008B;\"> Qs 53: Plot a graph by multiplotting on the same canvas . </span>"
   ]
  },
  {
   "cell_type": "code",
   "execution_count": 76,
   "id": "37df1679",
   "metadata": {},
   "outputs": [
    {
     "data": {
      "text/plain": [
       "[<matplotlib.lines.Line2D at 0x1e2ca482fa0>]"
      ]
     },
     "execution_count": 76,
     "metadata": {},
     "output_type": "execute_result"
    },
    {
     "data": {
      "image/png": "[encoded data removed]",
      "text/plain": [
       "<Figure size 432x288 with 4 Axes>"
      ]
     },
     "metadata": {},
     "output_type": "display_data"
    }
   ],
   "source": [
    "x =np.arange(0,10,0.5) \n",
    "y1 = x*x\n",
    "y2= x*x*x\n",
    "y3= -1*x\n",
    "y4= -x*x +20\n",
    "fig, axes = plt.subplots(2, 2)  \n",
    "axes[0, 0].plot(x, y1, '-') \n",
    "axes[0, 1].plot(x, y2, 'm--o') \n",
    "axes[1, 0].plot(x, y3, 'b--o') \n",
    "axes[1, 1].plot(x, y4, 'r--o')"
   ]
  },
  {
   "cell_type": "code",
   "execution_count": null,
   "id": "44ac3747",
   "metadata": {},
   "outputs": [],
   "source": []
  },
  {
   "cell_type": "markdown",
   "id": "0d25bc70",
   "metadata": {},
   "source": [
    "<span style=\"color:#00008B;\"> Qs 54: Retrieve the row with minimum DBP using sorting technique. </span> "
   ]
  },
  {
   "cell_type": "code",
   "execution_count": 77,
   "id": "f1b70559",
   "metadata": {},
   "outputs": [
    {
     "data": {
      "text/html": [
       "<div>\n",
       "<style scoped>\n",
       "    .dataframe tbody tr th:only-of-type {\n",
       "        vertical-align: middle;\n",
       "    }\n",
       "\n",
       "    .dataframe tbody tr th {\n",
       "        vertical-align: top;\n",
       "    }\n",
       "\n",
       "    .dataframe thead th {\n",
       "        text-align: right;\n",
       "    }\n",
       "</style>\n",
       "<table border=\"1\" class=\"dataframe\">\n",
       "  <thead>\n",
       "    <tr style=\"text-align: right;\">\n",
       "      <th></th>\n",
       "      <th>VisitID</th>\n",
       "      <th>PatientMRN</th>\n",
       "      <th>ProviderID</th>\n",
       "      <th>DateofVisit</th>\n",
       "      <th>DateScheduled</th>\n",
       "      <th>VisitDepartmentID</th>\n",
       "      <th>VisitType</th>\n",
       "      <th>BloodPressureSystolic</th>\n",
       "      <th>BloodPressureDiastolic</th>\n",
       "      <th>Pulse</th>\n",
       "      <th>VisitStatus</th>\n",
       "    </tr>\n",
       "  </thead>\n",
       "  <tbody>\n",
       "    <tr>\n",
       "      <th>757</th>\n",
       "      <td>163.0</td>\n",
       "      <td>801.0</td>\n",
       "      <td>11.0</td>\n",
       "      <td>2019-02-08</td>\n",
       "      <td>2019-02-07 23:41:12.181</td>\n",
       "      <td>7.0</td>\n",
       "      <td>Follow Up</td>\n",
       "      <td>120.0</td>\n",
       "      <td>51.695653</td>\n",
       "      <td>53.310495</td>\n",
       "      <td>Completed</td>\n",
       "    </tr>\n",
       "  </tbody>\n",
       "</table>\n",
       "</div>"
      ],
      "text/plain": [
       "     VisitID  PatientMRN  ProviderID DateofVisit           DateScheduled  \\\n",
       "757    163.0       801.0        11.0  2019-02-08 2019-02-07 23:41:12.181   \n",
       "\n",
       "     VisitDepartmentID  VisitType  BloodPressureSystolic  \\\n",
       "757                7.0  Follow Up                  120.0   \n",
       "\n",
       "     BloodPressureDiastolic      Pulse VisitStatus  \n",
       "757               51.695653  53.310495   Completed  "
      ]
     },
     "execution_count": 77,
     "metadata": {},
     "output_type": "execute_result"
    }
   ],
   "source": [
    "df_AmbV.sort_values(\"BloodPressureDiastolic\", ascending=True).head(1)\n",
    "#df_AmbV.nsmallest(1, \"BloodPressureDiastolic\") (#smallest value function)\n"
   ]
  },
  {
   "cell_type": "markdown",
   "id": "5a7ac969",
   "metadata": {},
   "source": [
    "<span style=\"color:#00008B;\">Qs 55: Replace all the null values in ReadmissionFlag with 0. </span> "
   ]
  },
  {
   "cell_type": "code",
   "execution_count": 85,
   "id": "f6e558a0",
   "metadata": {},
   "outputs": [
    {
     "data": {
      "text/html": [
       "<div>\n",
       "<style scoped>\n",
       "    .dataframe tbody tr th:only-of-type {\n",
       "        vertical-align: middle;\n",
       "    }\n",
       "\n",
       "    .dataframe tbody tr th {\n",
       "        vertical-align: top;\n",
       "    }\n",
       "\n",
       "    .dataframe thead th {\n",
       "        text-align: right;\n",
       "    }\n",
       "</style>\n",
       "<table border=\"1\" class=\"dataframe\">\n",
       "  <thead>\n",
       "    <tr style=\"text-align: right;\">\n",
       "      <th></th>\n",
       "      <th>AdmissionID</th>\n",
       "      <th>PatientID</th>\n",
       "      <th>AdmissionDate</th>\n",
       "      <th>DischargeDate</th>\n",
       "      <th>DischargeDisposition</th>\n",
       "      <th>Service</th>\n",
       "      <th>PrimaryDiagnosis</th>\n",
       "      <th>ExpectedLOS</th>\n",
       "      <th>ExpectedMortality</th>\n",
       "      <th>ReadmissionFlag</th>\n",
       "      <th>DaysToReadmission</th>\n",
       "      <th>EDVisitAfterDischargeFlag</th>\n",
       "    </tr>\n",
       "  </thead>\n",
       "  <tbody>\n",
       "    <tr>\n",
       "      <th>0</th>\n",
       "      <td>389.0</td>\n",
       "      <td>1.0</td>\n",
       "      <td>2018-01-01</td>\n",
       "      <td>2018-01-04 19:59:31.391</td>\n",
       "      <td>Home</td>\n",
       "      <td>Hospitalist</td>\n",
       "      <td>Kidney Failure</td>\n",
       "      <td>6.717771</td>\n",
       "      <td>0.010046</td>\n",
       "      <td>0.0</td>\n",
       "      <td>0.0</td>\n",
       "      <td>0.0</td>\n",
       "    </tr>\n",
       "    <tr>\n",
       "      <th>1</th>\n",
       "      <td>635.0</td>\n",
       "      <td>2.0</td>\n",
       "      <td>2018-01-01</td>\n",
       "      <td>2018-01-04 21:28:51.898</td>\n",
       "      <td>Home</td>\n",
       "      <td>General Medicine</td>\n",
       "      <td>Flu</td>\n",
       "      <td>3.825969</td>\n",
       "      <td>0.604562</td>\n",
       "      <td>1.0</td>\n",
       "      <td>2.0</td>\n",
       "      <td>1.0</td>\n",
       "    </tr>\n",
       "    <tr>\n",
       "      <th>2</th>\n",
       "      <td>606.0</td>\n",
       "      <td>3.0</td>\n",
       "      <td>2018-01-01</td>\n",
       "      <td>2018-01-04 22:28:23.672</td>\n",
       "      <td>Home</td>\n",
       "      <td>General Medicine</td>\n",
       "      <td>Flu</td>\n",
       "      <td>3.382493</td>\n",
       "      <td>0.266137</td>\n",
       "      <td>1.0</td>\n",
       "      <td>3.0</td>\n",
       "      <td>1.0</td>\n",
       "    </tr>\n",
       "    <tr>\n",
       "      <th>3</th>\n",
       "      <td>587.0</td>\n",
       "      <td>5.0</td>\n",
       "      <td>2018-01-01</td>\n",
       "      <td>2018-01-05 05:47:04.933</td>\n",
       "      <td>Home</td>\n",
       "      <td>General Medicine</td>\n",
       "      <td>Flu</td>\n",
       "      <td>3.763352</td>\n",
       "      <td>0.307527</td>\n",
       "      <td>1.0</td>\n",
       "      <td>4.0</td>\n",
       "      <td>1.0</td>\n",
       "    </tr>\n",
       "    <tr>\n",
       "      <th>4</th>\n",
       "      <td>640.0</td>\n",
       "      <td>6.0</td>\n",
       "      <td>2018-01-01</td>\n",
       "      <td>2018-01-05 14:18:30.029</td>\n",
       "      <td>Home</td>\n",
       "      <td>ICU</td>\n",
       "      <td>Heart Failure</td>\n",
       "      <td>13.650953</td>\n",
       "      <td>0.408898</td>\n",
       "      <td>0.0</td>\n",
       "      <td>0.0</td>\n",
       "      <td>0.0</td>\n",
       "    </tr>\n",
       "  </tbody>\n",
       "</table>\n",
       "</div>"
      ],
      "text/plain": [
       "   AdmissionID  PatientID AdmissionDate           DischargeDate  \\\n",
       "0        389.0        1.0    2018-01-01 2018-01-04 19:59:31.391   \n",
       "1        635.0        2.0    2018-01-01 2018-01-04 21:28:51.898   \n",
       "2        606.0        3.0    2018-01-01 2018-01-04 22:28:23.672   \n",
       "3        587.0        5.0    2018-01-01 2018-01-05 05:47:04.933   \n",
       "4        640.0        6.0    2018-01-01 2018-01-05 14:18:30.029   \n",
       "\n",
       "  DischargeDisposition           Service PrimaryDiagnosis  ExpectedLOS  \\\n",
       "0                 Home       Hospitalist   Kidney Failure     6.717771   \n",
       "1                 Home  General Medicine              Flu     3.825969   \n",
       "2                 Home  General Medicine              Flu     3.382493   \n",
       "3                 Home  General Medicine              Flu     3.763352   \n",
       "4                 Home               ICU    Heart Failure    13.650953   \n",
       "\n",
       "   ExpectedMortality  ReadmissionFlag  DaysToReadmission  \\\n",
       "0           0.010046              0.0                0.0   \n",
       "1           0.604562              1.0                2.0   \n",
       "2           0.266137              1.0                3.0   \n",
       "3           0.307527              1.0                4.0   \n",
       "4           0.408898              0.0                0.0   \n",
       "\n",
       "   EDVisitAfterDischargeFlag  \n",
       "0                        0.0  \n",
       "1                        1.0  \n",
       "2                        1.0  \n",
       "3                        1.0  \n",
       "4                        0.0  "
      ]
     },
     "execution_count": 85,
     "metadata": {},
     "output_type": "execute_result"
    }
   ],
   "source": [
    "df = df_ReAd = pd.read_excel(\"HospitalDatabase.xlsx\", sheet_name = \"ReAdmissionRegistry\")\n",
    "df.fillna(value = 0,inplace = True)\n",
    "# Show the DataFrame\n",
    "df.head()\n",
    "\n"
   ]
  },
  {
   "cell_type": "markdown",
   "id": "aac07ff7",
   "metadata": {},
   "source": [
    "<span style=\"color:#00008B;\">Qs 56: Get the list of patient ID's which are not there in ReadmissionRegistry. </span> "
   ]
  },
  {
   "cell_type": "code",
   "execution_count": null,
   "id": "b2fd0202",
   "metadata": {},
   "outputs": [],
   "source": []
  },
  {
   "cell_type": "markdown",
   "id": "7487d98b",
   "metadata": {},
   "source": [
    "<span style=\"color:#00008B;\">Qs 57: Find reasonForVisit with highest count of acuity 5 patients. </span> "
   ]
  },
  {
   "cell_type": "code",
   "execution_count": 86,
   "id": "2dacf28a",
   "metadata": {},
   "outputs": [
    {
     "data": {
      "text/plain": [
       "EDVisitID                              1196.0\n",
       "PatientID                               942.0\n",
       "VisitDate          2020-01-15 15:21:46.794000\n",
       "EDDischargeTime    2020-01-16 07:50:27.840000\n",
       "Acuity                                    5.0\n",
       "ReasonForVisit            Shortness of Breath\n",
       "EDDisposition                      Discharged\n",
       "dtype: object"
      ]
     },
     "execution_count": 86,
     "metadata": {},
     "output_type": "execute_result"
    }
   ],
   "source": [
    "dq1= df_ED[df_ED['Acuity']==5]\n",
    "dq1.max()"
   ]
  },
  {
   "cell_type": "markdown",
   "id": "7a83317d",
   "metadata": {},
   "source": [
    "<span style=\"color:#00008B;\">Qs 58: Display full name of patients who are born in 1986.</span> "
   ]
  },
  {
   "cell_type": "code",
   "execution_count": null,
   "id": "31376e39",
   "metadata": {},
   "outputs": [],
   "source": []
  },
  {
   "cell_type": "markdown",
   "id": "ffac0dd7",
   "metadata": {},
   "source": [
    "<span style=\"color:#00008B;\">Qs 59:Create a bar chart by making list on Acuity & EDDisposition column (with no duplicates) & make the hatchs onto the bar by using set_hatch() method.</span> "
   ]
  },
  {
   "cell_type": "code",
   "execution_count": null,
   "id": "b04ae951",
   "metadata": {},
   "outputs": [],
   "source": []
  },
  {
   "cell_type": "markdown",
   "id": "f0e1e5e5",
   "metadata": {},
   "source": [
    "<span style=\"color:#00008B;\"> Qs 60:Create a heat map on Readmission Registry table to find correlation between columns values.</span> "
   ]
  },
  {
   "cell_type": "code",
   "execution_count": 91,
   "id": "46699297",
   "metadata": {},
   "outputs": [
    {
     "data": {
      "text/plain": [
       "<AxesSubplot:title={'center':'Correlation Heatmap'}>"
      ]
     },
     "execution_count": 91,
     "metadata": {},
     "output_type": "execute_result"
    },
    {
     "data": {
      "image/png": "[encoded data removed]",
      "text/plain": [
       "<Figure size 432x288 with 4 Axes>"
      ]
     },
     "metadata": {},
     "output_type": "display_data"
    }
   ],
   "source": [
    "# import seaborn as sns\n",
    "# df_ReAd = pd.read_excel(\"HospitalDatabase.xlsx\", sheet_name = \"ReAdmissionRegistry\")\n",
    "df_ReAd.corr()\n",
    "sns.heatmap(df_ReAd.corr());\n",
    "sns.heatmap(df_ReAd.corr()).set_title('Correlation Heatmap', fontdict={'fontsize':12}, pad=12);\n",
    "sns.heatmap(df_ReAd.corr(), vmin=-1, vmax=1, annot=True)"
   ]
  },
  {
   "cell_type": "code",
   "execution_count": null,
   "id": "5a1df5cd",
   "metadata": {},
   "outputs": [],
   "source": []
  },
  {
   "cell_type": "code",
   "execution_count": null,
   "id": "99bea655",
   "metadata": {},
   "outputs": [],
   "source": []
  }
 ],
 "metadata": {
  "kernelspec": {
   "display_name": "Python 3 (ipykernel)",
   "language": "python",
   "name": "python3"
  },
  "language_info": {
   "codemirror_mode": {
    "name": "ipython",
    "version": 3
   },
   "file_extension": ".py",
   "mimetype": "text/x-python",
   "name": "python",
   "nbconvert_exporter": "python",
   "pygments_lexer": "ipython3",
   "version": "3.9.12"
  }
 },
 "nbformat": 4,
 "nbformat_minor": 5
}
